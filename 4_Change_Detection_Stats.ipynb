{
 "cells": [
  {
   "cell_type": "markdown",
   "id": "2b17a74e-1bdb-4554-a235-88ac304f9992",
   "metadata": {},
   "source": [
    "![Digital Earth Pacific](dep.png)"
   ]
  },
  {
   "cell_type": "code",
   "execution_count": null,
   "id": "24b7ca70-b89c-4601-a2af-dc7fa8c4ff27",
   "metadata": {},
   "outputs": [],
   "source": [
    "import pandas as pd\n",
    "import depal_ck as dep"
   ]
  },
  {
   "cell_type": "code",
   "execution_count": null,
   "id": "b83402c3-b824-4402-9aa7-2e1601114944",
   "metadata": {},
   "outputs": [],
   "source": [
    "country_code = \"ck\"\n",
    "year = \"2023\""
   ]
  },
  {
   "cell_type": "code",
   "execution_count": null,
   "id": "fa5df60f-3c45-415a-9941-b9fe100747c5",
   "metadata": {},
   "outputs": [],
   "source": [
    "tif_file = country_code + \"_lulc_\" + year + \".tif\"\n",
    "df = dep.get_stats(tif_file)"
   ]
  },
  {
   "cell_type": "code",
   "execution_count": null,
   "id": "715f7680-90e8-4241-95b3-2c7edc42b429",
   "metadata": {},
   "outputs": [],
   "source": [
    "df"
   ]
  },
  {
   "cell_type": "code",
   "execution_count": null,
   "id": "16d5eb73-470c-4209-ac7b-8012646bf973",
   "metadata": {
    "tags": []
   },
   "outputs": [],
   "source": [
    "df.plot.bar(x='class', y='percent')"
   ]
  },
  {
   "cell_type": "markdown",
   "id": "524fdf30-4d07-4925-a13e-4a914eb40d64",
   "metadata": {},
   "source": [
    "### Export to Excel for further Analysis"
   ]
  },
  {
   "cell_type": "code",
   "execution_count": null,
   "id": "d2ef20db-fbbe-4259-b672-0e5ab9ce027b",
   "metadata": {
    "tags": []
   },
   "outputs": [],
   "source": [
    "!pip install -q -U openpyxl\n",
    "excel = pd.ExcelWriter(country_code + '_lulc_stats.xlsx')\n",
    "df.to_excel(excel)\n",
    "excel.close()"
   ]
  },
  {
   "cell_type": "code",
   "execution_count": null,
   "id": "8970ba23-458e-4422-9ecf-0338ddafad31",
   "metadata": {},
   "outputs": [],
   "source": [
    "print(\"Export to Excel: \" + country_code + '_lulc_stats.xlsx')"
   ]
  }
 ],
 "metadata": {
  "kernelspec": {
   "display_name": "Python 3 (ipykernel)",
   "language": "python",
   "name": "python3"
  },
  "language_info": {
   "codemirror_mode": {
    "name": "ipython",
    "version": 3
   },
   "file_extension": ".py",
   "mimetype": "text/x-python",
   "name": "python",
   "nbconvert_exporter": "python",
   "pygments_lexer": "ipython3",
   "version": "3.10.14"
  }
 },
 "nbformat": 4,
 "nbformat_minor": 5
}
