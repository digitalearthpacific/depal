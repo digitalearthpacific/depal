{
 "cells": [
  {
   "cell_type": "markdown",
   "id": "4e1d7567-a2a2-4d3a-b010-6277dd2fdcad",
   "metadata": {},
   "source": [
    "![Digital Earth Pacific](dep.png)"
   ]
  },
  {
   "cell_type": "code",
   "execution_count": null,
   "id": "24b7ca70-b89c-4601-a2af-dc7fa8c4ff27",
   "metadata": {},
   "outputs": [],
   "source": [
    "import pandas as pd\n",
    "import depal_mh as dep"
   ]
  },
  {
   "cell_type": "code",
   "execution_count": null,
   "id": "b83402c3-b824-4402-9aa7-2e1601114944",
   "metadata": {},
   "outputs": [],
   "source": [
    "country_code = \"mh\"\n",
    "year1 = \"2023\" #current year\n",
    "year2 = \"2017\" #previous year"
   ]
  },
  {
   "cell_type": "code",
   "execution_count": null,
   "id": "fa5df60f-3c45-415a-9941-b9fe100747c5",
   "metadata": {},
   "outputs": [],
   "source": [
    "tif_file = country_code + \"_lulc_\" + year1 + \".tif\"\n",
    "df1 = dep.get_stats(tif_file)\n",
    "tif_file = country_code + \"_lulc_\" + year2 + \".tif\"\n",
    "df2 = dep.get_stats(tif_file)"
   ]
  },
  {
   "cell_type": "code",
   "execution_count": null,
   "id": "715f7680-90e8-4241-95b3-2c7edc42b429",
   "metadata": {},
   "outputs": [],
   "source": [
    "df = df1.copy()\n",
    "df[\"change\"] = df1[\"percent\"] - df2[\"percent\"]\n",
    "df"
   ]
  },
  {
   "cell_type": "code",
   "execution_count": null,
   "id": "16d5eb73-470c-4209-ac7b-8012646bf973",
   "metadata": {
    "tags": []
   },
   "outputs": [],
   "source": [
    "df.plot.bar(x='class', y='change')"
   ]
  },
  {
   "cell_type": "markdown",
   "id": "524fdf30-4d07-4925-a13e-4a914eb40d64",
   "metadata": {},
   "source": [
    "### Export to Excel for further Analysis"
   ]
  },
  {
   "cell_type": "code",
   "execution_count": null,
   "id": "8f96d262-3c9b-48f3-81d1-dffee4fa4e47",
   "metadata": {},
   "outputs": [],
   "source": [
    "!pip install -q -U openpyxl\n",
    "file_name = country_code + '_lulc_change_detection_' +  year1 + '_' + year2 + '.xlsx'\n",
    "excel = pd.ExcelWriter(file_name)\n",
    "df.to_excel(excel)\n",
    "excel.close()"
   ]
  },
  {
   "cell_type": "code",
   "execution_count": null,
   "id": "90141dbe-d98e-487c-bd80-659f45c202c8",
   "metadata": {},
   "outputs": [],
   "source": [
    "print(\"Export to Excel: \" + file_name)"
   ]
  }
 ],
 "metadata": {
  "kernelspec": {
   "display_name": "Python 3 (ipykernel)",
   "language": "python",
   "name": "python3"
  },
  "language_info": {
   "codemirror_mode": {
    "name": "ipython",
    "version": 3
   },
   "file_extension": ".py",
   "mimetype": "text/x-python",
   "name": "python",
   "nbconvert_exporter": "python",
   "pygments_lexer": "ipython3",
   "version": "3.10.14"
  }
 },
 "nbformat": 4,
 "nbformat_minor": 5
}
