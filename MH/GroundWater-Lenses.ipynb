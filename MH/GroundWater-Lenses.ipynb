{
 "cells": [
  {
   "cell_type": "markdown",
   "id": "f5c0e422-2168-4849-8bb0-93f4762ae14f",
   "metadata": {},
   "source": [
    "![Digital Earth Pacific](dep.png)"
   ]
  },
  {
   "cell_type": "markdown",
   "id": "8d41c56e-4b5d-4ad1-a2e8-87396c92b16e",
   "metadata": {
    "tags": []
   },
   "source": [
    "### Digital Earth Pacific Notebook"
   ]
  },
  {
   "cell_type": "code",
   "execution_count": null,
   "id": "a3525672-bb12-4fcb-acc8-bb5dd68b4581",
   "metadata": {},
   "outputs": [],
   "source": [
    "import geopandas as gpd\n",
    "import joblib\n",
    "import numpy as np\n",
    "import odc.geo.xr  # noqa\n",
    "from dask import config\n",
    "from dask.distributed import Client as dask_client\n",
    "from odc.stac import load\n",
    "from pystac_client import Client\n",
    "from shapely import geometry\n",
    "import depal_mh as dep\n",
    "from depal_mh import predict_xr\n",
    "from model import get_overlay\n",
    "from ipyleaflet import Map, LayersControl, basemaps\n",
    "import xarray as xr\n",
    "import xrspatial.multispectral as ms\n",
    "import warnings\n",
    "import leafmap.leafmap as leafmap\n",
    "import leafmap.colormaps as cm\n",
    "from matplotlib import colors\n",
    "warnings.filterwarnings('ignore')"
   ]
  },
  {
   "cell_type": "markdown",
   "id": "57cbbb83-e6c4-4995-95c7-11282a26c939",
   "metadata": {},
   "source": [
    "Your code goes in the cells below. Add more cells here by clicking on the + button above."
   ]
  },
  {
   "cell_type": "code",
   "execution_count": null,
   "id": "6060bd4b-642c-4a25-bccc-838101a51838",
   "metadata": {},
   "outputs": [],
   "source": [
    "%reload_ext autoreload\n",
    "%autoreload 2\n",
    "\n",
    "config.set({'distributed.worker.daemon': False})"
   ]
  },
  {
   "cell_type": "code",
   "execution_count": null,
   "id": "4689e7be-3477-4a7d-ad14-de2af2c777c4",
   "metadata": {},
   "outputs": [],
   "source": [
    "aoi = dep.get_area_from_geojson(\"Marshall_Islands/laura_extent.geojson\")\n",
    "#aoi.explore()"
   ]
  },
  {
   "cell_type": "code",
   "execution_count": null,
   "id": "4b52f754-318d-4485-b755-169411707a88",
   "metadata": {},
   "outputs": [],
   "source": [
    "bbox = dep.get_bbox(aoi)\n",
    "bbox_geometry = geometry.box(*bbox)\n",
    "gdf = gpd.GeoDataFrame({'geometry': [bbox_geometry]}, crs='EPSG:4326')"
   ]
  },
  {
   "cell_type": "code",
   "execution_count": null,
   "id": "c20ec57e-cc13-46ac-b41d-96d2ed9b8d64",
   "metadata": {},
   "outputs": [],
   "source": [
    "dep.list_data_bands(\"sentinel-2-l2a\")"
   ]
  },
  {
   "cell_type": "code",
   "execution_count": null,
   "id": "fa5c3f67-1c56-448f-bfa2-c57f0959d70f",
   "metadata": {},
   "outputs": [],
   "source": [
    "catalog = \"https://stac.staging.digitalearthpacific.org\"\n",
    "client = Client.open(catalog)\n",
    "chunks = dict(x=2048, y=2048)\n",
    "\n",
    "# Search for Sentinel-2 GeoMAD data\n",
    "items = client.search(\n",
    "    collections=[\"dep_s2_geomad\"],\n",
    "    bbox=bbox,\n",
    "    datetime=\"2023\",\n",
    ").items()\n",
    "\n",
    "# Load the data\n",
    "data = load(items, chunks=chunks, bbox=bbox, resolution=10).squeeze(\"time\")\n",
    "\n",
    "#coastal clip\n",
    "aoi = dep.get_country_admin_boundary(\"Marshall Islands\", \"Atoll\", \"Majuro\")\n",
    "data = dep.do_coastal_clip(aoi, data, buffer=0)\n",
    "#data"
   ]
  },
  {
   "cell_type": "code",
   "execution_count": null,
   "id": "79cade38-4d71-4d37-84c4-2889873bb432",
   "metadata": {},
   "outputs": [],
   "source": [
    "\n",
    "ndvi = ms.ndvi(data.B08, data.B04)\n",
    "evi = ms.evi(data.B08, data.B04, data.B02)\n",
    "arvi = ms.arvi(data.B08, data.B04, data.B02)\n",
    "nbr2 = ms.nbr2(data.B11, data.B12)\n",
    "savi = ms.savi(data.B08, data.B04)\n",
    "ndmi = ms.ndmi(data.B08, data.B11)\n",
    "ndwi = (data.B08 - data.B11) / (data.B08 - data.B11)\n",
    "\n",
    "index = ndmi\n",
    "index"
   ]
  },
  {
   "cell_type": "code",
   "execution_count": null,
   "id": "ef32df91-fa86-4cbd-b056-e37fd17e9b9b",
   "metadata": {},
   "outputs": [],
   "source": [
    "from datacube.utils.cog import write_cog\n",
    "index.odc.write_cog(\"ndmi_laura_2023.tif\", overwrite=True)"
   ]
  },
  {
   "cell_type": "code",
   "execution_count": null,
   "id": "abf9287e-9158-423b-b8b3-dbfef4b2d9f0",
   "metadata": {},
   "outputs": [],
   "source": [
    "index.plot.imshow(x=\"x\", y=\"y\", cmap=\"Blues_r\")"
   ]
  },
  {
   "cell_type": "code",
   "execution_count": null,
   "id": "bdd61861-61cb-4ece-b5e9-c2d234800460",
   "metadata": {},
   "outputs": [],
   "source": [
    "!pip install -q localtileserver"
   ]
  },
  {
   "cell_type": "code",
   "execution_count": null,
   "id": "a6d895c0-a996-4e2c-b921-ce0a3f1f21cd",
   "metadata": {},
   "outputs": [],
   "source": [
    "m = leafmap.Map()\n",
    "m.add_basemap(\"Esri.WorldImagery\")\n",
    "m.add_raster('ndmi_laura_2023.tif', colormap='Blues_r', bands=[1], layer_name='NDMI')\n",
    "m.add_geojson('Marshall_Islands/laura_lens.geojson', layer_name=\"Groundwater Lenses\")\n",
    "m"
   ]
  },
  {
   "cell_type": "code",
   "execution_count": null,
   "id": "6c392d80-dfee-4134-a3fe-dd9a64d26156",
   "metadata": {},
   "outputs": [],
   "source": []
  }
 ],
 "metadata": {
  "kernelspec": {
   "display_name": "Python 3 (ipykernel)",
   "language": "python",
   "name": "python3"
  },
  "language_info": {
   "codemirror_mode": {
    "name": "ipython",
    "version": 3
   },
   "file_extension": ".py",
   "mimetype": "text/x-python",
   "name": "python",
   "nbconvert_exporter": "python",
   "pygments_lexer": "ipython3",
   "version": "3.10.14"
  }
 },
 "nbformat": 4,
 "nbformat_minor": 5
}
