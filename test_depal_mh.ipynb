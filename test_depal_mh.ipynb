{
 "cells": [
  {
   "cell_type": "code",
   "execution_count": null,
   "id": "7bb610a1-276c-4da7-a057-bee8447ce1db",
   "metadata": {},
   "outputs": [],
   "source": [
    "import depal_mh as dep"
   ]
  },
  {
   "cell_type": "code",
   "execution_count": null,
   "id": "0af69d7a-8312-4f92-bfd7-6cb0239c7468",
   "metadata": {},
   "outputs": [],
   "source": [
    "#dep.init()"
   ]
  },
  {
   "cell_type": "code",
   "execution_count": null,
   "id": "4da23c74-75b8-4872-80b3-de572c095c8b",
   "metadata": {},
   "outputs": [],
   "source": [
    "#dep.list_countries()"
   ]
  },
  {
   "cell_type": "code",
   "execution_count": null,
   "id": "1d5d5a45-e3d7-4093-8ba4-108c87ad31ce",
   "metadata": {},
   "outputs": [],
   "source": [
    "#dep.list_boundary_types(\"Marshall Islands\")"
   ]
  },
  {
   "cell_type": "code",
   "execution_count": null,
   "id": "f20861c2-8173-4183-afea-67131eb4757c",
   "metadata": {},
   "outputs": [],
   "source": [
    "#dep.list_country_boundary(\"Marshall Islands\", \"Atoll\")"
   ]
  },
  {
   "cell_type": "code",
   "execution_count": null,
   "id": "2a7f896b-06d0-4fbe-916c-87a4171f8995",
   "metadata": {},
   "outputs": [],
   "source": [
    "aoi = dep.get_country_admin_boundary(\"Marshall Islands\", \"Atoll\", \"Majuro\")\n",
    "#aoi = dep.get_area_from_geojson(\"Marshall_Islands/laura_extent.geojson\")\n",
    "#aoi.explore()"
   ]
  },
  {
   "cell_type": "code",
   "execution_count": null,
   "id": "4e553f08-8147-42cd-82d1-7f1c6673ab86",
   "metadata": {},
   "outputs": [],
   "source": [
    "#dep.list_data_bands(\"sentinel-2-l2a\")"
   ]
  },
  {
   "cell_type": "code",
   "execution_count": null,
   "id": "7e87ccfe-f2f1-4bb8-b4db-5b2958d7506d",
   "metadata": {},
   "outputs": [],
   "source": [
    "#dep.list_data_bands(\"landsat-c2-l2\")"
   ]
  },
  {
   "cell_type": "code",
   "execution_count": null,
   "id": "88755578-3558-4e86-ac0d-f67c0aecdb8e",
   "metadata": {},
   "outputs": [],
   "source": [
    "#data = dep.get_annual_geomad(aoi, year=\"2022\")"
   ]
  },
  {
   "cell_type": "code",
   "execution_count": null,
   "id": "7d7eae8a-ed03-4fc7-a9e8-c9d3c35a9592",
   "metadata": {},
   "outputs": [],
   "source": [
    "#data = dep.get_cloudless_mosaic(aoi, timeframe=\"2021-01-01/2024-12-30\", period=\"yearly\")"
   ]
  },
  {
   "cell_type": "code",
   "execution_count": null,
   "id": "ce9b29f7-9d7d-4e3f-88ac-b2363267595d",
   "metadata": {},
   "outputs": [],
   "source": [
    "#dep.visualise(data)"
   ]
  },
  {
   "cell_type": "code",
   "execution_count": null,
   "id": "96cfca60-6d5c-4003-9c7c-2316ba7ee4fc",
   "metadata": {},
   "outputs": [],
   "source": [
    "#data = dep.get_ndvi(aoi, timeframe=\"2023/2024\", period=\"quarterly\")"
   ]
  },
  {
   "cell_type": "code",
   "execution_count": null,
   "id": "60d55394-d5a1-4fa2-b477-b3887238e465",
   "metadata": {},
   "outputs": [],
   "source": [
    "#dep.visualise(data, cmap=\"RdYlGn\") #viridis"
   ]
  },
  {
   "cell_type": "code",
   "execution_count": null,
   "id": "bbb2f3f0-538e-4f64-b939-addd357d3d5d",
   "metadata": {
    "scrolled": true
   },
   "outputs": [],
   "source": [
    "#dep.visualise(data, cmap=\"viridis\") #viridis"
   ]
  },
  {
   "cell_type": "code",
   "execution_count": null,
   "id": "d2eefee4-09a3-489e-9fcf-a828e546be6b",
   "metadata": {},
   "outputs": [],
   "source": [
    "#dep.plot(data)"
   ]
  },
  {
   "cell_type": "code",
   "execution_count": null,
   "id": "56af94da-d32d-4b1b-8782-b05b42b9a792",
   "metadata": {},
   "outputs": [],
   "source": [
    "#data = dep.get_latest_images(aoi)"
   ]
  },
  {
   "cell_type": "code",
   "execution_count": null,
   "id": "09525713-f447-4274-9ba9-6b869b93c8c1",
   "metadata": {},
   "outputs": [],
   "source": [
    "#dep.visualise(data)"
   ]
  },
  {
   "cell_type": "code",
   "execution_count": null,
   "id": "8355340f-0573-4cde-87c2-8df06f01113d",
   "metadata": {},
   "outputs": [],
   "source": [
    "#data = dep.get_ndmi(aoi, timeframe=\"2024-01-01/2024-12-30\", period=\"quarterly\")"
   ]
  },
  {
   "cell_type": "code",
   "execution_count": null,
   "id": "abb130ed-a4cf-49b2-aa65-403cd1eaa5d5",
   "metadata": {},
   "outputs": [],
   "source": [
    "#dep.visualise(data, cmap=\"Blues\")"
   ]
  },
  {
   "cell_type": "code",
   "execution_count": null,
   "id": "c0182d8e-70a0-4e69-ac71-5f39db782584",
   "metadata": {},
   "outputs": [],
   "source": [
    "#dep.colour_maps()"
   ]
  },
  {
   "cell_type": "code",
   "execution_count": null,
   "id": "6ea259c0-1769-437d-acbd-b1cab431d9e6",
   "metadata": {},
   "outputs": [],
   "source": [
    "#dep.plot_cloudiness(aoi, timeframe=\"2022/2023\")"
   ]
  },
  {
   "cell_type": "code",
   "execution_count": null,
   "id": "02e5b7bc-963d-4548-bd76-f017dcebac0c",
   "metadata": {},
   "outputs": [],
   "source": [
    "#dep.list_global_land_cover()"
   ]
  },
  {
   "cell_type": "code",
   "execution_count": null,
   "id": "cf34ea12-8831-41e8-b30c-560129836fe7",
   "metadata": {},
   "outputs": [],
   "source": [
    "#data = dep.get_global_land_cover(aoi)"
   ]
  },
  {
   "cell_type": "code",
   "execution_count": null,
   "id": "d7146c30-71f1-4d61-aeba-62bc10e5c6ef",
   "metadata": {},
   "outputs": [],
   "source": [
    "#dep.chart_global_land_cover(data)"
   ]
  },
  {
   "cell_type": "code",
   "execution_count": null,
   "id": "65e6f119-5fb7-4800-85aa-8794e511904f",
   "metadata": {},
   "outputs": [],
   "source": []
  }
 ],
 "metadata": {
  "kernelspec": {
   "display_name": "Python 3 (ipykernel)",
   "language": "python",
   "name": "python3"
  },
  "language_info": {
   "codemirror_mode": {
    "name": "ipython",
    "version": 3
   },
   "file_extension": ".py",
   "mimetype": "text/x-python",
   "name": "python",
   "nbconvert_exporter": "python",
   "pygments_lexer": "ipython3",
   "version": "3.10.14"
  }
 },
 "nbformat": 4,
 "nbformat_minor": 5
}
