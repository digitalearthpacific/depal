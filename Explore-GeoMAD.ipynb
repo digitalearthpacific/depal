{
 "cells": [
  {
   "cell_type": "code",
   "execution_count": 29,
   "metadata": {},
   "outputs": [],
   "source": [
    "from pystac_client import Client\n",
    "from odc.stac import load\n",
    "import depal_ck as dep"
   ]
  },
  {
   "attachments": {},
   "cell_type": "markdown",
   "metadata": {},
   "source": [
    "**Geometric Median and Absolute Deviations (GeoMAD)** product is an cloud-free annual mosaic that uses a more robust method of determining the median observation than a simple median.\n",
    "\n",
    "Along with the median observation, the GeoMAD produces three measures of variance, or absolute deviations, which helps to understand how the data over the time period changes. For example, some areas, such as desert, will change very little. Whereas crop land will change more. All of these values are useful in understand what is happening in the area covered by the GeoMAD.\n"
   ]
  },
  {
   "cell_type": "code",
   "execution_count": null,
   "metadata": {},
   "outputs": [],
   "source": [
    "client = Client.open(\n",
    "    \"https://stac.staging.digitalearthpacific.org\"\n",
    ")\n",
    "\n",
    "aoi = dep.get_country_admin_boundary(\"Cook Islands\", \"Island Council\", \"Rarotonga\")\n",
    "bbox = dep.get_bbox(aoi)\n",
    "\n",
    "items = client.search(\n",
    "    bbox = bbox,\n",
    "    datetime = \"2022\",\n",
    "    collections = [\"dep_s2_geomad\"],\n",
    ").item_collection()\n",
    "\n",
    "print(f\"Found {len(items)} items\")"
   ]
  },
  {
   "cell_type": "code",
   "execution_count": null,
   "metadata": {},
   "outputs": [],
   "source": [
    "data = load(\n",
    "    items,\n",
    "    bbox=bbox,\n",
    "    measurements=[\"B04\", \"B03\", \"B02\"],\n",
    "    chunks={\"x\": 2048, \"y\": 2048},\n",
    "    resolution=10,\n",
    ")\n",
    "\n",
    "data = data.rename_vars({\"B04\": \"red\", \"B03\": \"green\", \"B02\": \"blue\"})\n",
    "data"
   ]
  },
  {
   "cell_type": "code",
   "execution_count": null,
   "metadata": {},
   "outputs": [],
   "source": [
    "data.odc.explore(vmin=0, vmax=2000)"
   ]
  }
 ],
 "metadata": {
  "kernelspec": {
   "display_name": "Python 3 (ipykernel)",
   "language": "python",
   "name": "python3"
  },
  "language_info": {
   "codemirror_mode": {
    "name": "ipython",
    "version": 3
   },
   "file_extension": ".py",
   "mimetype": "text/x-python",
   "name": "python",
   "nbconvert_exporter": "python",
   "pygments_lexer": "ipython3",
   "version": "3.12.6"
  }
 },
 "nbformat": 4,
 "nbformat_minor": 4
}
