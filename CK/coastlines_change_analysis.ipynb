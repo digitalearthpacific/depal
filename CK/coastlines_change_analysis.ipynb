{
 "cells": [
  {
   "cell_type": "code",
   "execution_count": 102,
   "metadata": {},
   "outputs": [],
   "source": [
    "import geopandas as gpd\n",
    "import sys\n",
    "sys.path.append(\"..\")\n",
    "import depal_ck as dep"
   ]
  },
  {
   "cell_type": "code",
   "execution_count": 103,
   "metadata": {},
   "outputs": [],
   "source": [
    "gdf = gpd.read_file(\"ck_coastlines.gpkg\")\n",
    "dissolved = gdf.dissolve('year')\n",
    "dissolved['yr'] = dissolved.index"
   ]
  },
  {
   "cell_type": "markdown",
   "metadata": {},
   "source": [
    "### Visualise Country-Level Coastline Change (1999-2023)"
   ]
  },
  {
   "cell_type": "code",
   "execution_count": null,
   "metadata": {},
   "outputs": [],
   "source": [
    "dissolved.explore(column=\"yr\", cmap=\"inferno\")"
   ]
  },
  {
   "cell_type": "markdown",
   "metadata": {},
   "source": [
    "### National Level Coastline Change"
   ]
  },
  {
   "cell_type": "code",
   "execution_count": null,
   "metadata": {},
   "outputs": [],
   "source": [
    "dissolved.to_crs(4326, inplace=True)\n",
    "dissolved.length * 100"
   ]
  },
  {
   "cell_type": "markdown",
   "metadata": {},
   "source": [
    "### Island Council Level Coastline Change"
   ]
  },
  {
   "cell_type": "code",
   "execution_count": 106,
   "metadata": {},
   "outputs": [],
   "source": [
    "aoi = dep.get_country_admin_boundary(\"Cook Islands\", \"Island Council\", \"Rarotonga\")"
   ]
  },
  {
   "cell_type": "code",
   "execution_count": 107,
   "metadata": {},
   "outputs": [],
   "source": [
    "#island = dissolved.clip(aoi, keep_geom_type=True)\n",
    "island = gpd.clip(dissolved, aoi)"
   ]
  },
  {
   "cell_type": "code",
   "execution_count": null,
   "metadata": {},
   "outputs": [],
   "source": [
    "#island.yr\n",
    "island['length'] = island.length * 100\n",
    "island.sort_index(inplace=True)\n",
    "island[['yr', 'length']]"
   ]
  }
 ],
 "metadata": {
  "kernelspec": {
   "display_name": "dep",
   "language": "python",
   "name": "python3"
  },
  "language_info": {
   "codemirror_mode": {
    "name": "ipython",
    "version": 3
   },
   "file_extension": ".py",
   "mimetype": "text/x-python",
   "name": "python",
   "nbconvert_exporter": "python",
   "pygments_lexer": "ipython3",
   "version": "3.12.6"
  }
 },
 "nbformat": 4,
 "nbformat_minor": 2
}
