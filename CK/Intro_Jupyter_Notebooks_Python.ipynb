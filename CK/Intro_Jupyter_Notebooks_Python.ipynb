{
 "cells": [
  {
   "cell_type": "markdown",
   "id": "34712290-ac8b-4727-a029-5bf73a54f5dd",
   "metadata": {},
   "source": [
    "<img src=\"https://github.com/digitalearthpacific/DigitalEarthPacific/blob/main/notebooks/DEP_LCAST/reference_materials/images/1.1a.JPG?raw=true\" width=\"600\"/>"
   ]
  },
  {
   "cell_type": "markdown",
   "id": "0640e290-5394-41c1-b2f8-3f46d3ef9fb3",
   "metadata": {
    "tags": []
   },
   "source": [
    "# Introduction to Jupyter Notebooks and Python\n",
    "The notebook is intended for new users of Jupyter Notebooks and Python to support usage of [Digital Earth Pacific (DEP)](https://github.com/digitalearthpacific/DigitalEarthPacific/tree/main) and it's products. For questions regarding this notebook and/ or other products by Digital Earth Pacific please contact the DEP SPC team at dep@spc.int"
   ]
  },
  {
   "cell_type": "markdown",
   "id": "43cbd21f-f95a-47a3-9b35-f1328fc37f59",
   "metadata": {},
   "source": [
    "## What is Jupter Notebook?\n",
    "\n",
    "Jupyter Notebook is an interactive web-based environment for creating documents that combine:\n",
    "\n",
    "- Code execution using code cells \n",
    "- Text using Markdown\n",
    "- Visualizations like plots and graphs.\n",
    "\n",
    "Jupyter Notebooks support many languages, with Python being the most popular. You can mix executable code, comments, images, and outputs in a single notebook, making it an excellent tool for teaching, learning, and data analysis.\n"
   ]
  },
  {
   "cell_type": "markdown",
   "id": "d5ca5619-828e-4e3f-b849-8600b39439ec",
   "metadata": {},
   "source": [
    "## Jupyter Notebook Interface\n",
    "- Notebook Cells: The workspace is divided into cells.\n",
    "  - Code Cells: Where you write and execute Python code.\n",
    "  - Markdown Cells: For writing notes, explanations, or any text.\n",
    "- Running Cells: To run a cell, click the \"Run\" button or press Shift + Enter.\n"
   ]
  },
  {
   "cell_type": "markdown",
   "id": "579c5231-9642-48cf-8b92-6081a294bc0f",
   "metadata": {},
   "source": [
    "## Notebook Basics\n",
    "\n",
    "### Cells\n",
    "\n",
    "Markdown Cells are for writing formatted text. You can write headings, lists, links, and more using the Markdown syntax.\n",
    "\n",
    "Example of Markdown syntax:\n"
   ]
  },
  {
   "cell_type": "raw",
   "id": "ece3ab0e-13f5-43b6-9e99-117711ba1991",
   "metadata": {},
   "source": [
    "# Heading Level 1\n",
    "## Heading Level 2\n",
    "### Heading Level 3\n",
    "\n",
    "**Bold text** and *Italic text*\n",
    "\n",
    "- Bullet point 1\n",
    "- Bullet point 2\n",
    "\n",
    "[Click here for more info](https://jupyter.org)"
   ]
  },
  {
   "cell_type": "markdown",
   "id": "212261f2-662a-461b-a5a8-c99c55354256",
   "metadata": {},
   "source": [
    "Code Cells are for writing Python code. \n",
    "\n"
   ]
  },
  {
   "cell_type": "code",
   "execution_count": 7,
   "id": "d64b846a-87c4-49ee-a94d-a7550fc02839",
   "metadata": {},
   "outputs": [
    {
     "name": "stdout",
     "output_type": "stream",
     "text": [
      "Hello, world!\n"
     ]
    }
   ],
   "source": [
    "# For example:\n",
    "print(\"Hello, world!\")"
   ]
  },
  {
   "cell_type": "markdown",
   "id": "1f2c54fe-158b-43a2-aa12-3af656a9b032",
   "metadata": {},
   "source": [
    "## Python Basics\n",
    "\n",
    "### Variables and Data Types\n",
    "Variables are used to store values. In Python, the following are common data types:\n",
    "\n",
    "- Integer (int): Whole numbers.\n",
    "- Float: Numbers with decimal points.\n",
    "- String (str): Text.\n",
    "- Boolean (bool): True or False values."
   ]
  },
  {
   "cell_type": "raw",
   "id": "a89d7a83-0e96-45ea-8505-5a8c47c0ee8d",
   "metadata": {},
   "source": [
    "For example:\n",
    "x = 10  # Integer\n",
    "y = 3.14  # Float\n",
    "name = \"Alice\"  # String\n",
    "is_active = True  # Boolean\n"
   ]
  },
  {
   "cell_type": "markdown",
   "id": "b355055b-1bc5-4d1e-a389-b9853597fc64",
   "metadata": {},
   "source": [
    "### Lists, Dictionaries, and Tuples\n",
    "\n",
    "Other common data storage types are:\n",
    "\n",
    "- Lists: Ordered collections of items, which can be modified.\n",
    "- Dictionaries: Unordered collections of key-value pairs.\n",
    "- Tuples: Ordered collections that cannot be modified (immutable).\n"
   ]
  },
  {
   "cell_type": "raw",
   "id": "4a60ae73-bc5d-483d-80fa-eacaed6277c4",
   "metadata": {},
   "source": [
    "For example:\n",
    "# List\n",
    "my_list = [1, 2, 3, \"apple\", \"banana\"]\n",
    "print(my_list[0])  # Access the first element\n"
   ]
  },
  {
   "cell_type": "raw",
   "id": "d63fe13a-6bc9-4262-b2c5-fcb88eabd9c7",
   "metadata": {},
   "source": [
    "# Dictionary\n",
    "my_dict = {\"name\": \"Alice\", \"age\": 25}\n",
    "print(my_dict[\"name\"])  # Access value by key\n"
   ]
  },
  {
   "cell_type": "raw",
   "id": "9889c4e0-fe12-4145-ac40-04a0c6d8da8e",
   "metadata": {},
   "source": [
    "# Tuple\n",
    "my_tuple = (1, 2, 3)\n",
    "print(my_tuple[1])  # Access second element\n"
   ]
  },
  {
   "cell_type": "markdown",
   "id": "0374b041-6fa3-48e4-bb14-4cab06af633f",
   "metadata": {},
   "source": [
    "### Basic Operations\n",
    "\n",
    "You can perform mathematical operations and comparisons easily in Python whethere they are arithmetic or comparitive. "
   ]
  },
  {
   "cell_type": "raw",
   "id": "446b6fa3-f519-4e69-9ba5-d178ab4230a7",
   "metadata": {},
   "source": [
    "# Arithmetic operations\n",
    "sum = 5 + 3\n",
    "product = 5 * 3\n",
    "division = 5 / 2  # Gives a float result\n",
    "power = 2 ** 3  # Exponentiation"
   ]
  },
  {
   "cell_type": "raw",
   "id": "e036cc51-4087-4140-b4a9-ac4b09aec888",
   "metadata": {},
   "source": [
    "# Comparisons\n",
    "is_equal = (5 == 5)  # True\n",
    "is_greater = (10 > 5)  # True"
   ]
  },
  {
   "cell_type": "markdown",
   "id": "24acdc56-7db7-4df0-92b0-d3e18faa4a3f",
   "metadata": {},
   "source": [
    "### Control Flow\n",
    "\n",
    "Control flow allows you to run certain parts of the code conditionally or repeatedly. The 3 main types of interactions are:\n",
    "\n",
    "- If Statements\n",
    "- For Loops\n",
    "- While Loops"
   ]
  },
  {
   "cell_type": "raw",
   "id": "68b74a11-e548-4e3d-a8b2-2d5f136a00a9",
   "metadata": {},
   "source": [
    "# If conditional statement\n",
    "age = 18\n",
    "if age >= 18:\n",
    "    print(\"You are an adult.\")\n",
    "else:\n",
    "    print(\"You are a minor.\")\n"
   ]
  },
  {
   "cell_type": "raw",
   "id": "bce37eb2-bc52-480d-91ec-0c20df1e7ef0",
   "metadata": {},
   "source": [
    "# For Loop\n",
    "for i in range(5):\n",
    "    print(i)\n"
   ]
  },
  {
   "cell_type": "raw",
   "id": "dbd2f57f-0224-41dd-b3c7-e1b5e9cacc38",
   "metadata": {},
   "source": [
    "# While Loop\n",
    "count = 0\n",
    "while count < 5:\n",
    "    print(count)\n",
    "    count += 1\n"
   ]
  },
  {
   "cell_type": "markdown",
   "id": "74e1fd5d-dcaf-4b86-8897-0b7033dba54a",
   "metadata": {},
   "source": [
    "## Functions\n",
    "\n",
    "Functions are reusable blocks of code. They can take inputs (called arguments) and return outputs.\n",
    "\n",
    "**Key points:**\n",
    "- Use the def keyword to define a function.\n",
    "- Functions can take arguments and return results using the return statement."
   ]
  },
  {
   "cell_type": "code",
   "execution_count": 4,
   "id": "7cf04c9e-c2cb-4b75-9661-ab004de9d2f5",
   "metadata": {},
   "outputs": [
    {
     "name": "stdout",
     "output_type": "stream",
     "text": [
      "Hello, Alice!\n"
     ]
    }
   ],
   "source": [
    "#For example:\n",
    "def greet(name):\n",
    "    return f\"Hello, {name}!\"\n",
    "\n",
    "print(greet(\"Alice\"))\n"
   ]
  },
  {
   "cell_type": "markdown",
   "id": "ae23aac0-8779-492b-ae83-2913c8442f1b",
   "metadata": {},
   "source": [
    "## Working with Libraries\n",
    "\n",
    "Libraries contain reusable code that you can import into your project.\n",
    "\n",
    "### Importing Libraries\n",
    "\n",
    "To use a library in Python, you need to import it first. For example:"
   ]
  },
  {
   "cell_type": "code",
   "execution_count": 8,
   "id": "080e87f0-ae82-46c9-a193-85e229b5b994",
   "metadata": {},
   "outputs": [
    {
     "name": "stdout",
     "output_type": "stream",
     "text": [
      "4.0\n"
     ]
    }
   ],
   "source": [
    "import math\n",
    "\n",
    "print(math.sqrt(16))  "
   ]
  },
  {
   "cell_type": "markdown",
   "id": "36f6e36b-e1d9-4aeb-b26b-71dcaa09e727",
   "metadata": {},
   "source": [
    "### Installing Packages\n",
    "\n",
    "If a package is not already installed, you can install it using the !pip install command. For example:"
   ]
  },
  {
   "cell_type": "code",
   "execution_count": 9,
   "id": "6a4f03ae-12e8-4293-805b-1d5ffd72ba97",
   "metadata": {},
   "outputs": [
    {
     "name": "stdout",
     "output_type": "stream",
     "text": [
      "Requirement already satisfied: numpy in /srv/conda/envs/notebook/lib/python3.10/site-packages (1.23.4)\n"
     ]
    }
   ],
   "source": [
    "!pip install numpy"
   ]
  },
  {
   "cell_type": "markdown",
   "id": "8ffca50e-8086-47b6-9059-77ece248ae6b",
   "metadata": {},
   "source": [
    "## Visualizing Data with Matplotlib\n",
    "\n",
    "You can create plots and visualizations using the matplotlib library.\n",
    "\n",
    "### Simple Plot"
   ]
  },
  {
   "cell_type": "code",
   "execution_count": 10,
   "id": "b6fa73f6-5b38-4d5a-9f89-f002d142d803",
   "metadata": {},
   "outputs": [
    {
     "data": {
      "image/png": "[encoded data removed]",
      "text/plain": [
       "<Figure size 640x480 with 1 Axes>"
      ]
     },
     "metadata": {},
     "output_type": "display_data"
    }
   ],
   "source": [
    "import matplotlib.pyplot as plt\n",
    "\n",
    "x = [1, 2, 3, 4]\n",
    "y = [10, 20, 25, 30]\n",
    "\n",
    "plt.plot(x, y)\n",
    "plt.xlabel('X-axis')\n",
    "plt.ylabel('Y-axis')\n",
    "plt.title('Simple Plot')\n",
    "plt.show()\n"
   ]
  },
  {
   "cell_type": "markdown",
   "id": "be8b2b80-cfed-4cc0-9831-dc062aef1545",
   "metadata": {},
   "source": [
    "## Additional Resources\n",
    "\n",
    "[Jupyter Notebook Tutorial](https://www.datacamp.com/tutorial/tutorial-jupyter-notebook)\n",
    "\n",
    "[Jupyter Notebook Tutorial](https://www.dataquest.io/blog/jupyter-notebook-tutorial/)\n",
    "\n",
    "[Python Tutorials](https://docs.python.org/3/tutorial/index.html)\n"
   ]
  },
  {
   "cell_type": "code",
   "execution_count": null,
   "id": "96e069e0-035c-46e7-ac1e-0a08c7266689",
   "metadata": {},
   "outputs": [],
   "source": []
  }
 ],
 "metadata": {
  "kernelspec": {
   "display_name": "Python 3 (ipykernel)",
   "language": "python",
   "name": "python3"
  },
  "language_info": {
   "codemirror_mode": {
    "name": "ipython",
    "version": 3
   },
   "file_extension": ".py",
   "mimetype": "text/x-python",
   "name": "python",
   "nbconvert_exporter": "python",
   "pygments_lexer": "ipython3",
   "version": "3.10.14"
  }
 },
 "nbformat": 4,
 "nbformat_minor": 5
}
