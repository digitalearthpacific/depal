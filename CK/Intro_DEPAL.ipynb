{
 "cells": [
  {
   "cell_type": "markdown",
   "id": "f5c0e422-2168-4849-8bb0-93f4762ae14f",
   "metadata": {},
   "source": [
    "<div><img src=\"https://github.com/digitalearthpacific/DigitalEarthPacific/blob/main/notebooks/DEP_LCAST/reference_materials/images/1B/1.a.png?raw=true\" width=\"800\"/></div>\n"
   ]
  },
  {
   "cell_type": "markdown",
   "id": "8b775317-e1d6-40b9-a2a3-9d26effdcce3",
   "metadata": {
    "tags": []
   },
   "source": [
    "# Activity Notebook Introduction to Digital Earth Pacific Abstraction Libary (DEPAL)\n",
    "This notebook is intended for users of Digitial Earth Pacific in Cook Islands. The notebook provides the foundations of Python more broadly and should you wish to look at fundamentals of python please refer to activity notebook **'Python Foundations'**. This activity notebook  **'Cooks Intro to DEPAL'** includes the introduction to [Digital Earth Pacific (DEP)](https://github.com/digitalearthpacific/DigitalEarthPacific/tree/main) and will be working with Python within a Jupyter Notebook environment as the IDE. \n",
    "\n",
    "For questions regarding this notebook and/ or other products by Digital Earth Pacific please contact the DEP SPC team at dep@spc.int"
   ]
  },
  {
   "cell_type": "markdown",
   "id": "30d38ecf-c9f3-48ca-a9e2-d299985288f3",
   "metadata": {
    "tags": []
   },
   "source": [
    "### Digital Earth Pacific (DEP) Notebook"
   ]
  },
  {
   "cell_type": "markdown",
   "id": "cedeaa76-4bb9-4a0f-baed-acfbda77df0c",
   "metadata": {},
   "source": [
    "Run the set of import codes below to set up your Digital Earth Pacific (DEP) environment by clicking on the run icon or by pressing \"Shift\" \"Enter\"."
   ]
  },
  {
   "cell_type": "code",
   "execution_count": 2,
   "id": "a3525672-bb12-4fcb-acc8-bb5dd68b4581",
   "metadata": {
    "tags": []
   },
   "outputs": [],
   "source": [
    "import sys\n",
    "sys.path.append('..')\n",
    "import depal_ck as dep\n",
    "import warnings\n",
    "warnings.filterwarnings('ignore')\n",
    "\n",
    "import geopandas as gpd\n",
    "import numpy as np\n",
    "import odc.geo.xr  # noqa: F401\n",
    "import pandas as pd\n",
    "import xarray as xr\n",
    "from odc.stac import load\n",
    "from pystac_client import Client\n",
    "from shapely import geometry"
   ]
  },
  {
   "cell_type": "markdown",
   "id": "57cbbb83-e6c4-4995-95c7-11282a26c939",
   "metadata": {},
   "source": [
    "<font color='blue'>1.1. Countries within Digital Earth Pacific Abstraction Library\n",
    "\n",
    "Your code goes in the cells below. Add more cells here by clicking on the + button above.\n",
    "\n",
    "First let's list out the countries covered within Digital Earth Pacific (DEP) using the following command:  \n",
    "\n",
    "> `dep.list_countries()`\n",
    "\n",
    "- Where *dep.* is the module   \n",
    "- *list_countries()* is the function that converts requests or simple operations into an object. \n",
    "\n",
    "***Copy and paste the command from above in the cell below to extract the list of countries covered within the DEP module.***"
   ]
  },
  {
   "cell_type": "code",
   "execution_count": null,
   "id": "c22521a9-4ed7-4c59-90a5-a1cdbb1f1281",
   "metadata": {},
   "outputs": [],
   "source": []
  },
  {
   "cell_type": "markdown",
   "id": "147010b0-c341-4e21-985d-bf1d7599852a",
   "metadata": {},
   "source": [
    "<font color='blue'>Boundary Types\n",
    "\n",
    "Now let's learn what boundary type are available for your chosen country using the following command:\n",
    "\n",
    "> `dep.list_boundary_types('insert selected country from output above')`\n",
    "\n",
    "***Copy and paste the command from above in the cell below to explore the types of boundaries avaible for your country within the DEP module.***\n"
   ]
  },
  {
   "cell_type": "code",
   "execution_count": null,
   "id": "9c30ecb9-8fe0-4978-870d-0a08d827f2e6",
   "metadata": {
    "tags": []
   },
   "outputs": [],
   "source": []
  },
  {
   "cell_type": "markdown",
   "id": "50b9fb8f-6b0e-425b-8ecf-20e57b34bd52",
   "metadata": {},
   "source": [
    "<font color='blue'> Admin Boundaries \n",
    "\n",
    "Now let's learn what admin boundaries are available for your country of interest using the following code: \n",
    "\n",
    "> `dep.list_country_boundary('Cook Islands', 'insert boundary type from output above')`\n",
    "\n",
    "***Copy and paste the command from above in the cell below to explore the admin boundaries avaible for your country within the DEP module.*** \n"
   ]
  },
  {
   "cell_type": "code",
   "execution_count": null,
   "id": "3c264f0a-7378-4db4-b13c-a2420908963e",
   "metadata": {},
   "outputs": [],
   "source": []
  },
  {
   "cell_type": "markdown",
   "id": "4d57bc3c-b075-4681-9347-a95a393630fd",
   "metadata": {},
   "source": [
    "<font color='blue'>1.2. Select Area of interest (AOI)\n",
    "\n",
    "The list you have generated above is an example of how to call on default values stored within a library. All of these oundaries are based on official Government data and assumed to be correct and up-to-date. \n",
    "\n",
    "Now that you have the list of admin boundaries, you can try to access one of these datasets by calling it. This will load the data and configure it to be your area of interest for further analysis in depal. In order to do this, we can use the following command: \n",
    "    \n",
    "> `dep.get_country_admin_boundary('Cook Islands', 'Island Council', 'insert admin aboundary selected from output above')` \n",
    "\n",
    "First type the module 'dep.' then type the function 'get_country_admin_boundary' then within the brackets you can search for a particular subset of the total list above. You can choose one from the list above and don't forgot to place it between quotations: e.g. \"Mauke\".\n",
    "\n",
    "Note: this will generate a long list of coordinates that map out the boundary. "
   ]
  },
  {
   "cell_type": "code",
   "execution_count": null,
   "id": "ff5407b1-9956-44b8-aead-026075bf4058",
   "metadata": {
    "tags": []
   },
   "outputs": [],
   "source": []
  },
  {
   "cell_type": "markdown",
   "id": "6987c6c9-0f0c-464b-a9c8-7f1a7407ba22",
   "metadata": {},
   "source": [
    "<font color='blue'>1.3. Define a Variable\n",
    "\n",
    "To make it easier to use this dataset going forward through the activity, you can define it with a variable. \n",
    "    \n",
    "To do this, assign the command from above to a variable name. The variable name can be the name of the island/ admin boundary you've chosen: e.g. Mauke. \n",
    "    \n",
    "For example:\n",
    "    \n",
    "> `Mauke = dep.get_country_admin_boundary('Cook Islands', 'Island Council', 'Mauke')`\n",
    "    \n",
    "This new variable allows you to store the results from above and easily use them going forward. \n"
   ]
  },
  {
   "cell_type": "code",
   "execution_count": null,
   "id": "c79afa3d-64fd-4dc0-b787-7418c3219510",
   "metadata": {},
   "outputs": [],
   "source": []
  },
  {
   "cell_type": "markdown",
   "id": "2321a893-80c7-4e8f-836d-cdb4ce8c8aba",
   "metadata": {},
   "source": [
    "<font color='blue'>1.4. Visualising AOI with an Interactive Map\n",
    "\n",
    "Now that you have selected and saved an area of interest, you can now visualise this data in an interactive map using the leafmap functionality within Python notebooks. This function has been wrapped and simplified in DEP using the **explore()** function. \n",
    "\n",
    "Try to input your area of interest variable followed by the function as such: \n",
    "    \n",
    "> `varibale name from above.explore()`\n",
    "    \n",
    "Once your map has loaded, explore the interactivity by scrolling in and out and panning around to different areas of the basemap.\n",
    "    "
   ]
  },
  {
   "cell_type": "code",
   "execution_count": null,
   "id": "4bccead7-846c-4ba6-94fb-f5de9227563a",
   "metadata": {
    "scrolled": true,
    "tags": []
   },
   "outputs": [],
   "source": []
  },
  {
   "cell_type": "markdown",
   "id": "9473d71a-d5b8-43e0-9052-f46c699ea4f6",
   "metadata": {},
   "source": [
    "<font color='blue'>2. Practicing the Workflow\n",
    "\n",
    "Now through this workflow using the commands and functions you've learned above to visualise a different part of Cook Islands. \n",
    "    \n",
    "1. List the boundary datasets available for Cook Islands\n",
    "2. List the types of boundaries available in Cook Islands\n",
    "3. List the admin boundaries available for the type of boundary\n",
    "4. Select your area of interest\n",
    "5. Define this boundary dataset within a new variable\n",
    "6. Explore this boundary dataset within an interactive map\n",
    "\n",
    "Practice this workflow by repeating these steps but this time, choose a different boundary from the same or even a different country. \n",
    "\n"
   ]
  },
  {
   "cell_type": "markdown",
   "id": "c4478a44-32ca-4040-9b43-6f261533d106",
   "metadata": {},
   "source": [
    "<font color='blue'> Cheatcodes\n",
    "\n",
    "> `dep.list_countries()`\n",
    "\n",
    ">`dep.list_boundary_types('Country Name')`\n",
    "\n",
    "> `dep.list_country_boundary('Cook Islands', 'Boundary Type')`\n",
    "\n",
    "> `dep.get_country_admin_boundary('Cook Islands', 'Boundary Type', 'AOI')`\n",
    "\n",
    "> `AOI Name = dep.get_country_admin_boundary('Cook Islands', 'Boundary Type', 'AOI')`\n",
    "\n",
    "> `AOI Name.explore()`\n"
   ]
  },
  {
   "cell_type": "code",
   "execution_count": null,
   "id": "e3705f9f-7f78-4e3d-a8df-5188acccfb3d",
   "metadata": {},
   "outputs": [],
   "source": [
    "Raro = dep.get_country_admin_boundary('Cook Islands', 'Island Council', 'Rarotonga')\n",
    "Raro.explore()"
   ]
  },
  {
   "cell_type": "markdown",
   "id": "5d7f3597-8861-4076-b328-cbba4b5469d7",
   "metadata": {},
   "source": [
    "<font color='blue'>3. Custom AOI's\n",
    "\n",
    "While it is useful to perform analysis within government administrative boundaries, we may also have work requiring us to perform analysis within custom boundaries or \"areas of interest (AOIs)\". In this activity you will learn how to use a custom area of interest and how to upload your own geojson for the analysis:\n"
   ]
  },
  {
   "cell_type": "markdown",
   "id": "b146d950-f6d3-489f-ad63-61551af55c99",
   "metadata": {},
   "source": [
    "<font color='blue'>3.1. Add a Geojson\n",
    "\n",
    "If you have your own geojson file for an aoi already, you can simply drag and drop it into this Cooks folder you are currently in - if you do not have a .geojson file already, you can use one we have prepared earlier:   \n",
    "\n",
    "> Cook_Islands/Areoa.geojson\n",
    "\n",
    "> Cook_Islands/Mauke.geojson\n",
    "\n",
    "Try double clicking on your geojson file within the folder to open it and to verify that it is the area that you are seeking to analyse.\n"
   ]
  },
  {
   "cell_type": "markdown",
   "id": "290bae3f-4982-418d-8796-d8e3c6f5ccdf",
   "metadata": {},
   "source": [
    "<font color='blue'>3.2. Loading Geojson \n",
    "    \n",
    "To load this geojson area into your current script use the function: \n",
    "    \n",
    "> `dep.get_area_from_geojson(\"Folder Name/File Name\")` \n",
    "    \n",
    "Note, do not forget to place your file name within quotations \"...\" including the extension .geojson\n",
    "    \n",
    "***Copy and paste the command from above with your additions in the cell below to load your geojson file.*** "
   ]
  },
  {
   "cell_type": "code",
   "execution_count": null,
   "id": "eb2c03c5-1dad-4ef8-9df9-4f4e7c299fa3",
   "metadata": {
    "tags": []
   },
   "outputs": [],
   "source": [
    "dep.get_area_from_geojson(\"Cook_Islands/Mauke.geojson\")"
   ]
  },
  {
   "cell_type": "markdown",
   "id": "3e20f5a0-02b8-4f74-ab3d-7a430763888b",
   "metadata": {},
   "source": [
    "<font color='blue'>3.3. Define AOI\n",
    "\n",
    "To do this, assign the command from above to a variable name. The variable name can be the name of the island you've chosen: e.g. Mauke. \n",
    "\n",
    "Ensure the variable name is not repeated from above, that if if your first AOI was called Mauke, ensure your new AOI isn't also called Mauke. "
   ]
  },
  {
   "cell_type": "code",
   "execution_count": null,
   "id": "98540d12-f23b-448c-a0c5-1fc52f44545b",
   "metadata": {},
   "outputs": [],
   "source": [
    "Mauke2 = dep.get_area_from_geojson(\"Cook_Islands/Mauke.geojson\")"
   ]
  },
  {
   "cell_type": "markdown",
   "id": "89f5d82a-9f4c-48b6-9c9d-3ea1c2c6a3bc",
   "metadata": {},
   "source": [
    "<font color='blue'>3.4 Visualise Geojson \n",
    "\n",
    "Now that you have a new AOI, use the **explore()** function you learnt earlier to visualise your AOI in a leaflet. \n",
    "\n",
    "Remember to input your area of interest variable followed by the function as such: \n",
    "    \n",
    "> `varibale name from above.explore()`\n",
    "    \n",
    "Once your map has loaded, explore the interactivity by scrolling in and out and panning around to different areas of the basemap."
   ]
  },
  {
   "cell_type": "code",
   "execution_count": null,
   "id": "67eecb27-af01-4873-a035-c851601b3fd4",
   "metadata": {
    "tags": []
   },
   "outputs": [],
   "source": [
    "Mauke2.explore()"
   ]
  },
  {
   "cell_type": "markdown",
   "id": "834b1c82-a75b-4fdb-b71c-da2a6ca9b87c",
   "metadata": {},
   "source": [
    "<font color='blue'>3.5 Repeat Workflow\n",
    "\n",
    "Repeat the above steps and visualise a different AOI available in your folder. \n",
    "1. Add a .geojson file to your folder\n",
    "2. Load .geojson file in your script\n",
    "3. Define AOI\n",
    "4. Visalise AOI using explore() funtion\n",
    "\n",
    "**BONUS ACTIVITY**\n",
    "1. Create your own AOI at [Geojson.io](https://geojson.io/#map=2/0/20) and download it as a geojson file. \n",
    "2. Repeat steps from above. \n"
   ]
  },
  {
   "cell_type": "code",
   "execution_count": null,
   "id": "61bef7fe-f7c9-4fdd-a8c3-cc272da29866",
   "metadata": {},
   "outputs": [],
   "source": []
  },
  {
   "cell_type": "markdown",
   "id": "4574a1b7-1e36-4fbb-a687-4c354ad7d8e7",
   "metadata": {},
   "source": [
    "#### **<font color='green'>Well done...**\n",
    "\n",
    "You have learned how to set up your area of interest in depal. Now we will begin working with the satellite imagery data. "
   ]
  },
  {
   "cell_type": "markdown",
   "id": "6a6d8186-8508-40cc-9f22-acd926d17c36",
   "metadata": {
    "tags": []
   },
   "source": [
    "Note that there are a range of different datasets and models. For this activity we are most interested in the **Sentinel 2** dataset. \n",
    "This data has been pre-processed as a GeoMAD product for use in this workshop. This will be explained in the workshop. "
   ]
  },
  {
   "cell_type": "markdown",
   "id": "68715ce9-d7ff-4457-8db8-5fd580c7d7fb",
   "metadata": {},
   "source": [
    "### <font color='blue'>Learning about the European Space Agency Sentinel 2 Satellite.</font>\n",
    "<font color = 'blue' ></font>"
   ]
  },
  {
   "cell_type": "markdown",
   "id": "6372f096-0bb5-4334-b9bb-a944b42151c9",
   "metadata": {},
   "source": [
    "The main satellite data we will be using for this workshop is from the Copernicus Sentinel 2 satellite dataset as shown in figure s.2.a. \n",
    "\n",
    "<div><img src=\"https://github.com/digitalearthpacific/DigitalEarthPacific/blob/main/notebooks/DEP_LCAST/reference_materials/images/1B/Sentinel.1.jpg?raw=true\" width=\"600\"/></div>\n"
   ]
  },
  {
   "cell_type": "markdown",
   "id": "94e0deaf-e9f2-44b3-898f-6cbefc26b36b",
   "metadata": {},
   "source": [
    "**Figure S.2.a. Provides an Overview of Sentinel 2 Satellite**\n",
    "\n",
    "The table in figure S.2.b. provides a list of the different bands or spectral wavelengths captured by the Sentinel 2 satellite. We will be using these for our analyses within the workshop. \n",
    "\n",
    "The bands are measured in wavelengths with unit measurements of nanometers. Visible light is measured in nanometers (nm). A nanometer is a unit of length equal to one billionth of a meter."
   ]
  },
  {
   "cell_type": "markdown",
   "id": "19115e0d-e4e7-405a-a425-5c9a5ffd5ba6",
   "metadata": {
    "tags": []
   },
   "source": [
    "<font color='blue'>4.1. Spectral Bands\n",
    "\n",
    "These include optical bands we can see with the human eye:\n",
    "- (B2) Blue = 458-523 nm\n",
    "- (B3) Green = 543-578 nm \n",
    "- (B4) Red = 650-680 nm\n",
    "\n",
    "And infrared bands that cannot be detected by the human eye:\n",
    "- (B8) Near Infrared or NIR = 785-900 nm\n",
    "- (B11) Shortwave Infrared 1 or SWIR 1 = 1565-1655 nm\n",
    "\n",
    "For the full list see Figure S.2.b.\n",
    "\n",
    "<div><img src=\"https://github.com/digitalearthpacific/DigitalEarthPacific/blob/main/notebooks/DEP_LCAST/reference_materials/images/1B/Sentinel.2.png?raw=true=\"600\" width=\"580\"/></div>  "
   ]
  },
  {
   "cell_type": "markdown",
   "id": "614a6db3-3889-48c4-a0b9-f323a1f5a9e5",
   "metadata": {},
   "source": [
    "Figure S.2.b. Table list of spectral bands captured by sensors on the Sentinel 2 satellite\n",
    "\n",
    "A visualisation of these bands from the table in S.2.b. is visualised as a spectrum in figure S.2.c.\n",
    "    \n",
    "    \n",
    "    \n",
    "    \n",
    "    \n",
    "<div><img src=\"https://github.com/digitalearthpacific/DigitalEarthPacific/blob/main/notebooks/DEP_LCAST/reference_materials/images/1B/Sentinel.3.jpg?raw=true=\"600\" width=\"580\"/></div>    "
   ]
  },
  {
   "cell_type": "markdown",
   "id": "90d2b793-4a73-4ee1-a791-da27a37fffdb",
   "metadata": {},
   "source": [
    "Figure S.2.c. The spectrum of different wavelengths visualised:\n",
    "\n",
    "#### Find the dataset names first. \n",
    "> `dep.list_data_sources()`"
   ]
  },
  {
   "cell_type": "code",
   "execution_count": null,
   "id": "4b4e9ff7-f438-4d7c-ac6c-3dd1dc31854d",
   "metadata": {},
   "outputs": [],
   "source": []
  },
  {
   "cell_type": "markdown",
   "id": "0d70b7e6-19ed-4ca0-b609-7452489ee84c",
   "metadata": {},
   "source": [
    "<font color='blue'>4.1.a. Sentinel 2 Satellite Spectral Bands:  \n",
    "\n",
    "> use the library `dep.`\n",
    "\n",
    "> use the function `list_data_bands`\n",
    "\n",
    "> input the arguments by listing the dataset of interest `('sentinel-2-l2a')`"
   ]
  },
  {
   "cell_type": "code",
   "execution_count": null,
   "id": "cf81e7d4-6bf1-4c5a-8edd-846caeaa1946",
   "metadata": {},
   "outputs": [],
   "source": []
  },
  {
   "cell_type": "markdown",
   "id": "fba50509-4980-4731-bc2c-93791661c81e",
   "metadata": {},
   "source": [
    "<font color='blue'>4.1.b. Landsat Satellite Spectral Bands:  \n",
    "\n",
    "> use the library `dep.`\n",
    "\n",
    "> use the function `list_data_bands`\n",
    "\n",
    "> input the arguments by listing the dataset of interest `('landsat-c2-l2')`"
   ]
  },
  {
   "cell_type": "code",
   "execution_count": null,
   "id": "5458bcaa-7a59-4b64-ac67-f13321e351f1",
   "metadata": {},
   "outputs": [],
   "source": []
  },
  {
   "cell_type": "markdown",
   "id": "dd1e9809-3774-4cd3-85e0-958b05591775",
   "metadata": {},
   "source": [
    "<font color='blue'>4.2. Annual Red Green and Blue (RGB) data \n",
    "    \n",
    "Now we can get our most recent satellite data using depal for our predefined aoi. The function to load the red green and blue bands of satellite data is as follows:\n",
    "\n",
    "> `dep.get_latest_images(aoi)`\n",
    "    \n",
    "**Copy and paste the command from above with your additions in the cell below.**\n",
    "\n",
    "For the first input within the brackets you will first need to input your own aoi variable where it says 'aoi'. The results should show you how many images were found. "
   ]
  },
  {
   "cell_type": "code",
   "execution_count": null,
   "id": "407577bf-6c2b-4488-85ac-8c28423cf366",
   "metadata": {},
   "outputs": [],
   "source": []
  },
  {
   "cell_type": "markdown",
   "id": "3abe23cd-6194-4ae6-9dff-0b4ecee3e4e2",
   "metadata": {
    "tags": []
   },
   "source": [
    "<font color='blue'>4.3 Define Another Variable:\n",
    "\n",
    "Use the = sign to assign a varibale name to store your results from above. "
   ]
  },
  {
   "cell_type": "code",
   "execution_count": null,
   "id": "ad0a5b8d-ef4b-410d-9ef7-295b068d3189",
   "metadata": {
    "tags": []
   },
   "outputs": [],
   "source": []
  },
  {
   "cell_type": "markdown",
   "id": "f3539cd9-e092-4221-96f0-c9eee628b313",
   "metadata": {
    "tags": []
   },
   "source": [
    "<font color='blue'>4.3 Visualise Data\n",
    "    \n",
    "Plotting this data will allow you to see the results. Here we use :\n",
    "    \n",
    "> `dep.visualise(data, cmap=None)` \n",
    "    \n",
    "Where data is the variable you defined above. \n",
    "\n",
    "Note this will generate a series of satellite imagery data for 2024 since you have loaded the most recent data. In the next activities we will be learning how to generate more data across different timescales.  "
   ]
  },
  {
   "cell_type": "code",
   "execution_count": null,
   "id": "54e87ceb-d0d9-4887-87dd-897fc98f4344",
   "metadata": {
    "tags": []
   },
   "outputs": [],
   "source": []
  },
  {
   "cell_type": "markdown",
   "id": "40688601-0c71-4abb-a8c4-c67ad63620be",
   "metadata": {},
   "source": [
    "#### **<font color='green'>Congratulations you have now completed the intro to depal notebook activity.**"
   ]
  }
 ],
 "metadata": {
  "kernelspec": {
   "display_name": "Python 3 (ipykernel)",
   "language": "python",
   "name": "python3"
  },
  "language_info": {
   "codemirror_mode": {
    "name": "ipython",
    "version": 3
   },
   "file_extension": ".py",
   "mimetype": "text/x-python",
   "name": "python",
   "nbconvert_exporter": "python",
   "pygments_lexer": "ipython3",
   "version": "3.12.6"
  }
 },
 "nbformat": 4,
 "nbformat_minor": 5
}
