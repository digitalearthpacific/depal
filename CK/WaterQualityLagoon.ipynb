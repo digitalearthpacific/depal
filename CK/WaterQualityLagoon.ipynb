{
 "cells": [
  {
   "cell_type": "code",
   "execution_count": null,
   "id": "e166c884-701f-4e07-8888-d8bde4114169",
   "metadata": {},
   "outputs": [],
   "source": [
    "import sys\n",
    "sys.path.append('..')\n",
    "import depal_ck as dep\n",
    "import math"
   ]
  },
  {
   "cell_type": "markdown",
   "id": "d234c90e-e5b4-4259-be50-5dd0cc238cc9",
   "metadata": {},
   "source": [
    "# DEP Water Quality Indicators"
   ]
  },
  {
   "cell_type": "markdown",
   "id": "dbc12228-3a15-4e07-96e0-1c6760ed04c3",
   "metadata": {},
   "source": [
    "Spatial distribution of six relevant indicators of water quality: (i) the concentration of **Chlorophyll a (Chl_a)**, (ii) the density of **Cyanobacteria (Cya)**, (iii) **turbidity (NDTI)**, (iv) **colored dissolved organic matter (CDOM)**, (v) **dissolved organic carbon (DOC)**, and (vi) **water color (Color)**. These indicators are used to define the trophic state on inland waters, which is particularly important when these waters are used for human consumption or leisure activities, for agriculture or industrial purposes. Coastal Inland waters are essential for the sustainability of the biodiversity on the regions where they are located and, therefore, monitoring its quality is of the utmost importance"
   ]
  },
  {
   "cell_type": "code",
   "execution_count": null,
   "id": "40d97844-98ca-4712-90da-2971c13a4b58",
   "metadata": {},
   "outputs": [],
   "source": [
    "aoi = dep.get_area_from_geojson(\"WaterQualityLagoon.geojson\")\n",
    "aoi.explore()"
   ]
  },
  {
   "cell_type": "code",
   "execution_count": null,
   "id": "5661d6dc-0836-4783-a4b4-08ed2bb21c10",
   "metadata": {},
   "outputs": [],
   "source": [
    "data = dep.get_data(aoi, timeframe=\"2024\", bands=['B03','B01','B04','B02'], period=\"monthly\", max=100)"
   ]
  },
  {
   "cell_type": "markdown",
   "id": "7c7b8308-c5b5-4fb5-93b1-0c3dade9934e",
   "metadata": {},
   "source": []
  },
  {
   "cell_type": "code",
   "execution_count": null,
   "id": "05e1fe1a-cead-469d-9b67-9086679cdefe",
   "metadata": {},
   "outputs": [],
   "source": [
    "chlorophyll_a = 4.26 * pow(data.sel(band='green')/data.sel(band='coastal'), 3.94) # Unit: mg/m3;        \n",
    "cyanobacteria_density = 115530.31 * pow(data.sel(band='green') * data.sel(band='red') / data.sel(band='blue'), 2.38) # Unit: 10^3 cell/ml; \n",
    "turbidity = 8.93 * (data.sel(band='green')/data.sel(band='coastal')) - 6.39 # Unit: NTU;          \n",
    "#coloured_dissolved_organic_matter = 537 * math.exp(-2.93 * data.sel(band='green')/data.sel(band='red')) # Unit: mg/l;         \n",
    "#dissolved_organic_carbon = 432 * math.exp(-2.24 * data.sel(band='green')/data.sel(band='red')) # Unit: mg/l;         \n",
    "#water_colour = 25366 * math.exp(-4.53 * data.sel(band='green')/data.sel(band='red'))"
   ]
  },
  {
   "cell_type": "code",
   "execution_count": null,
   "id": "39b84d5c-5101-4017-9afb-2238b1667c03",
   "metadata": {},
   "outputs": [],
   "source": [
    "water_quality_index = chlorophyll_a #turbidity #cyanobacteria_density "
   ]
  },
  {
   "cell_type": "code",
   "execution_count": null,
   "id": "acb79b43-68a4-4846-b2f2-ed7503047bd2",
   "metadata": {
    "scrolled": true
   },
   "outputs": [],
   "source": [
    "dep.visualise(water_quality_index)"
   ]
  }
 ],
 "metadata": {
  "kernelspec": {
   "display_name": "Python 3 (ipykernel)",
   "language": "python",
   "name": "python3"
  },
  "language_info": {
   "codemirror_mode": {
    "name": "ipython",
    "version": 3
   },
   "file_extension": ".py",
   "mimetype": "text/x-python",
   "name": "python",
   "nbconvert_exporter": "python",
   "pygments_lexer": "ipython3",
   "version": "3.10.14"
  }
 },
 "nbformat": 4,
 "nbformat_minor": 5
}
