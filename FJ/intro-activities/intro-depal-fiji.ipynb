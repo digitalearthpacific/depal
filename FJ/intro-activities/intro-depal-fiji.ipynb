{
 "cells": [
  {
   "cell_type": "markdown",
   "id": "f5c0e422-2168-4849-8bb0-93f4762ae14f",
   "metadata": {},
   "source": [
    "<div><img src=\"https://github.com/digitalearthpacific/DigitalEarthPacific/blob/main/notebooks/DEP_LCAST/reference_materials/images/1B/1.a.png?raw=true\" width=\"800\"/></div>\n"
   ]
  },
  {
   "cell_type": "markdown",
   "id": "8d41c56e-4b5d-4ad1-a2e8-87396c92b16e",
   "metadata": {
    "tags": []
   },
   "source": [
    "# Activity Notebook Introduction to Digital Earth Pacific Abstraction Libary (DEPAL)\n",
    "Intended for users of DEP. Completion of **'Activity Notebook Intro to Python'** as a prerequisite is recommended although not required. The notebook provides the foundations of Python more broadly. This **'Activity Notebook Intro to depal'** includes the introduction to [Digital Earth Pacific (DEP)](https://github.com/digitalearthpacific/DigitalEarthPacific/tree/main). We will again be working with Python within a Jupyter Notebook environment as the IDE. \n",
    "\n",
    "For questions regarding this notebook contact the author via https://github.com/nicholasmetherall"
   ]
  },
  {
   "cell_type": "markdown",
   "id": "30d38ecf-c9f3-48ca-a9e2-d299985288f3",
   "metadata": {
    "tags": []
   },
   "source": [
    "### Digital Earth Pacific (DEP) Notebook"
   ]
  },
  {
   "cell_type": "markdown",
   "id": "cedeaa76-4bb9-4a0f-baed-acfbda77df0c",
   "metadata": {},
   "source": [
    "Follow the example of code below to set up your Digital Earth Pacific (DEP) environment."
   ]
  },
  {
   "cell_type": "code",
   "execution_count": 41,
   "id": "a3525672-bb12-4fcb-acc8-bb5dd68b4581",
   "metadata": {
    "tags": []
   },
   "outputs": [],
   "source": [
    "import sys\n",
    "sys.path.append('../../')\n",
    "import depal_fj as dep\n",
    "import warnings\n",
    "warnings.filterwarnings('ignore')\n",
    "\n",
    "import geopandas as gpd\n",
    "import numpy as np\n",
    "import odc.geo.xr  # noqa: F401\n",
    "import pandas as pd\n",
    "import xarray as xr\n",
    "from odc.stac import load\n",
    "from pystac_client import Client\n",
    "from shapely import geometry"
   ]
  },
  {
   "cell_type": "markdown",
   "id": "57cbbb83-e6c4-4995-95c7-11282a26c939",
   "metadata": {},
   "source": [
    "<font color='blue'>1.1. Listing Fiji island boundary datasets in depal \n",
    "\n",
    "Your code goes in the cells below. Add more cells here by clicking on the + button above.\n",
    "\n",
    "First let's list out the countries covered within Digital Earth Pacific (DEP):  \n",
    "\n",
    "> dep.list_islands()\n",
    "\n",
    "- Where *dep.* is the module   \n",
    "- *list_islands()* is the function that converts requests or simple operations into an object. \n",
    "\n",
    "By running this block of code you can process data. This particular function returns a list of boundaries of islands in Fiji covered within the DEP module.   \n",
    "\n",
    "Note: these boundaries are based upon official Fiji Government data.\n",
    "\n",
    "> Input your code for 1.1 in this cell eg. dep.list_islands()"
   ]
  },
  {
   "cell_type": "code",
   "execution_count": 61,
   "id": "9c30ecb9-8fe0-4978-870d-0a08d827f2e6",
   "metadata": {
    "tags": []
   },
   "outputs": [],
   "source": [
    " "
   ]
  },
  {
   "cell_type": "markdown",
   "id": "4d57bc3c-b075-4681-9347-a95a393630fd",
   "metadata": {},
   "source": [
    "<font color='blue'>1.2. Getting a single Fiji island dataset and configuring this as your area of interest\n",
    "\n",
    "The list you have generated above is an example of how to call on default values stored within a library. \n",
    "\n",
    "Now that you have the list of datasets, you can try to access one of these datasets by calling it. This will laod the data and configure it to be your area of interest for further analysis in depal. In order to do this, we will next seek to use: \n",
    "    \n",
    "> dep.get_island(\"island name\") function. \n",
    "\n",
    "First type the module 'dep.' then type the function 'get_island' then within the brackets you can search for a particular subset of the total list above. You can choose one from the list above and don't forgot to place it between quotations: e.g. \"Koro\".\n",
    "\n",
    "> Input your code for 1.2 in this cell eg. dep.get_island(\"Koro\")"
   ]
  },
  {
   "cell_type": "code",
   "execution_count": 46,
   "id": "ff5407b1-9956-44b8-aead-026075bf4058",
   "metadata": {
    "tags": []
   },
   "outputs": [],
   "source": []
  },
  {
   "cell_type": "markdown",
   "id": "6987c6c9-0f0c-464b-a9c8-7f1a7407ba22",
   "metadata": {},
   "source": [
    "<font color='blue'>1.3. Define this dataset within a new variable\n",
    "\n",
    "To make it easier to use this dataset going forward through the activity, you can define it within a variable. \n",
    "    \n",
    "To do this, save the code from 1.2 into a variable name. The variable name can be the name of the island you have chosen: e.g. Beqa. \n",
    "    \n",
    "Then after typing the island you have chosen input \" = \" and then make this equal the code you have entered in 1.2.\n",
    "\n",
    "So in this example, the code input would be:\n",
    "    \n",
    "> Beqa = dep.get_island(\"Beqa\")\n",
    "    \n",
    "This new variable allows you to store the results from 1.2 and easily use them going forward. \n",
    "    \n",
    "> Input your code for 1.3 in this cell eg. Koro = dep.get_island(\"Koro\")"
   ]
  },
  {
   "cell_type": "code",
   "execution_count": null,
   "id": "c79afa3d-64fd-4dc0-b787-7418c3219510",
   "metadata": {},
   "outputs": [],
   "source": []
  },
  {
   "cell_type": "markdown",
   "id": "2321a893-80c7-4e8f-836d-cdb4ce8c8aba",
   "metadata": {},
   "source": [
    "<font color='blue'>1.4. Visualising and exploring Fiji island dataset with an interactive map\n",
    "\n",
    "Now that you have accessed this data and downloaded this data you can now visualise this data in an interactive map as part of the leafmap functionality within Python notebooks. This function has been wrapped and simplified in DEP using the **explore()** function. \n",
    "\n",
    "Try to input your area of interest variable followed by: \n",
    "    \n",
    "> .explore()\n",
    "    \n",
    "Once loaded, try out this interactive map by scrolling in and out and panning around to different areas of the basemap.\n",
    "    \n",
    "> Input your code for 1.4 in this cell eg. Koro.explore()"
   ]
  },
  {
   "cell_type": "code",
   "execution_count": 58,
   "id": "4bccead7-846c-4ba6-94fb-f5de9227563a",
   "metadata": {
    "tags": []
   },
   "outputs": [],
   "source": []
  },
  {
   "cell_type": "markdown",
   "id": "9473d71a-d5b8-43e0-9052-f46c699ea4f6",
   "metadata": {},
   "source": [
    "<font color='blue'>2. Practicing this workflow at the division scale\n",
    "\n",
    "Now through this workflow you have learned how to do the following steps at the island scale:\n",
    "    \n",
    "> 1. dep.list_islands() - List the boundary datasets available\n",
    "> 2. dep.get_island() - Get one of the boundary datasets and use configure this to be your area of interest \n",
    "> 3. var = ... - Define this boundary dataset within a new variable\n",
    "> 4. var.explore() - Explore this boundary dataset within an interactive map\n",
    "    \n",
    "Practice this workflow by repeating this step but this time instead of working at the island scale you will be working at the divisional scale.  "
   ]
  },
  {
   "cell_type": "markdown",
   "id": "6dea5cc4-e06a-46c2-8db1-25ae854fab8d",
   "metadata": {},
   "source": [
    "<font color='blue'>2.1 List boundaries available at the division scale\n",
    "\n",
    "You will be following a similar step to 1.1 except now instead of listing islands you will use \n",
    "    \n",
    "> dep.list_divisions()\n",
    "    \n",
    "Running this code should generate a list of the five divisions:"
   ]
  },
  {
   "cell_type": "code",
   "execution_count": null,
   "id": "e3705f9f-7f78-4e3d-a8df-5188acccfb3d",
   "metadata": {},
   "outputs": [],
   "source": []
  },
  {
   "cell_type": "markdown",
   "id": "f421a7ee-d43b-4a81-a33f-696cd50ab1cb",
   "metadata": {},
   "source": [
    "<font color='blue'>2.2 Get a single division boundary for your aoi following a similar workflow to 1.2:\n",
    "> dep.get_division()"
   ]
  },
  {
   "cell_type": "code",
   "execution_count": null,
   "id": "3c524506-cce9-479b-bd22-400125092cc8",
   "metadata": {},
   "outputs": [],
   "source": []
  },
  {
   "cell_type": "markdown",
   "id": "475b627d-425a-4e50-bb90-2a2a221223b9",
   "metadata": {},
   "source": [
    "<font color='blue'>2.3 Define this division boundary within a new variable using a similar step to 1.3:\n"
   ]
  },
  {
   "cell_type": "code",
   "execution_count": null,
   "id": "d41ab194-e19d-451c-87bc-1bfeb503f029",
   "metadata": {},
   "outputs": [],
   "source": []
  },
  {
   "cell_type": "markdown",
   "id": "9bfe7cbf-f78d-4261-b012-0ecf0ded5ebf",
   "metadata": {
    "tags": []
   },
   "source": [
    "<font color='blue'>2.4 Explore this division boundary using a similar step to 1.4:\n"
   ]
  },
  {
   "cell_type": "code",
   "execution_count": null,
   "id": "77fe17e4-aa86-4d8b-a843-523eb6ad8c20",
   "metadata": {},
   "outputs": [],
   "source": []
  },
  {
   "cell_type": "markdown",
   "id": "5d7f3597-8861-4076-b328-cbba4b5469d7",
   "metadata": {},
   "source": [
    "<font color='blue'>3. Uploading your own area of interest in geojson format:\n",
    "\n",
    "While it is useful to perform analysis within government administrative boundaries, we may also have work requiring us to perform analysis within custom boundaries or \"areas of interest (AOIs)\". In this activity you will learn how to upload your own goejson for the analysis:\n"
   ]
  },
  {
   "cell_type": "markdown",
   "id": "b146d950-f6d3-489f-ad63-61551af55c99",
   "metadata": {},
   "source": [
    "<font color='blue'>3.1. Loading a geojson:\n",
    "\n",
    "If you have your own geojson file for an aoi in Fiji already, you can simply drag and drop it into this Jupyter folder - if you do not have a .geojson file already, you can use one we have prepared earlier:   \n",
    "    \n",
    "> \"suva-nausori.geojson\"\n",
    "    \n",
    "<div><img src=\"https://github.com/digitalearthpacific/DigitalEarthPacific/blob/main/notebooks/DEP_LCAST/reference_materials/images/1B/1B.3.1..JPG?raw=true\" width=\"400\"/></div>"
   ]
  },
  {
   "cell_type": "markdown",
   "id": "ff462459-6f8f-4008-a5bc-85fa1d222938",
   "metadata": {},
   "source": [
    "Try double clicking on your geojson file to open it and to verify that it is the area that you are seeking to analyse: \n",
    "\n",
    "<div><img src=\"https://github.com/digitalearthpacific/DigitalEarthPacific/blob/main/notebooks/DEP_LCAST/reference_materials/images/1B/1B.3.2.JPG?raw=true\" width=\"800\"/></div>\n"
   ]
  },
  {
   "cell_type": "markdown",
   "id": "290bae3f-4982-418d-8796-d8e3c6f5ccdf",
   "metadata": {},
   "source": [
    "<font color='blue'>3.2. Loading geojson into depal \n",
    "    \n",
    "To load this geojson area into depal use the function: \n",
    "    \n",
    "> dep.get_area_from_geojson(\"filename.geojson\") \n",
    "    \n",
    "Note, do not forget to place your filename within quotations \"...\" including the extension\n",
    "    \n",
    "> Input your code for 3.2 in this cell eg. dep.get_area_from_geojson(\"...\")"
   ]
  },
  {
   "cell_type": "code",
   "execution_count": 64,
   "id": "eb2c03c5-1dad-4ef8-9df9-4f4e7c299fa3",
   "metadata": {
    "tags": []
   },
   "outputs": [],
   "source": []
  },
  {
   "cell_type": "markdown",
   "id": "3e20f5a0-02b8-4f74-ab3d-7a430763888b",
   "metadata": {},
   "source": [
    "<font color='blue'>3.3. Define this new aoi within a new variable (refer to 2.3) "
   ]
  },
  {
   "cell_type": "code",
   "execution_count": null,
   "id": "98540d12-f23b-448c-a0c5-1fc52f44545b",
   "metadata": {},
   "outputs": [],
   "source": []
  },
  {
   "cell_type": "markdown",
   "id": "89f5d82a-9f4c-48b6-9c9d-3ea1c2c6a3bc",
   "metadata": {},
   "source": [
    "<font color='blue'>3.4 Explore this aoi using the explore() function (refer to 2.4): \n"
   ]
  },
  {
   "cell_type": "code",
   "execution_count": null,
   "id": "67eecb27-af01-4873-a035-c851601b3fd4",
   "metadata": {
    "tags": []
   },
   "outputs": [],
   "source": []
  },
  {
   "cell_type": "markdown",
   "id": "4574a1b7-1e36-4fbb-a687-4c354ad7d8e7",
   "metadata": {},
   "source": [
    "#### **<font color='green'>Well done...**\n",
    "\n",
    "You have learned how to set up your area of interest in depal. Now we will begin working with the satellite imagery data. "
   ]
  },
  {
   "cell_type": "markdown",
   "id": "6a6d8186-8508-40cc-9f22-acd926d17c36",
   "metadata": {
    "tags": []
   },
   "source": [
    "Note that there are a range of different datasets and models. For this activity we are most interested in the **Sentinel 2** dataset. \n",
    "This data has been pre-processed as a GeoMAD product for use in this workshop. This will be explained in the workshop. "
   ]
  },
  {
   "cell_type": "markdown",
   "id": "68715ce9-d7ff-4457-8db8-5fd580c7d7fb",
   "metadata": {},
   "source": [
    "### <font color='blue'>Learning about the European Space Agency Sentinel 2 Satellite.</font>\n",
    "<font color = 'blue' ></font>"
   ]
  },
  {
   "cell_type": "markdown",
   "id": "6372f096-0bb5-4334-b9bb-a944b42151c9",
   "metadata": {},
   "source": [
    "The main satellite data we will be using for this workshop is from the Copernicus Sentinel 2 satellite dataset as shown in figure s.2.a. \n",
    "\n",
    "<div><img src=\"https://github.com/digitalearthpacific/DigitalEarthPacific/blob/main/notebooks/DEP_LCAST/reference_materials/images/1B/Sentinel.1.jpg?raw=true\" width=\"600\"/></div>\n"
   ]
  },
  {
   "cell_type": "markdown",
   "id": "19115e0d-e4e7-405a-a425-5c9a5ffd5ba6",
   "metadata": {
    "tags": []
   },
   "source": [
    "Figure S.2.a. Provides an overview of Sentinel 2 satellite:\n",
    "\n",
    "The table in figure S.2.b. provides a list of the different bands or spectral wavelengths captured by the Sentinel 2 satellite. We will be using these for our analyses within the workshop. \n",
    "\n",
    "The bands are measured in wavelengths with unit measurements of nanometers. Visible light is measured in nanometers (nm). A nanometer is a unit of length equal to one billionth of a meter.\n",
    "\n",
    "<font color='blue'>4.1. Learning about spectral bands: \n",
    "\n",
    "These include optical bands we can see with the human eye:\n",
    "- (B2) Blue = 458-523 nm\n",
    "- (B3) Green = 543-578 nm \n",
    "- (B4) Red = 650-680 nm\n",
    "\n",
    "And infrared bands that cannot be detected by the human eye:\n",
    "- (B8) Near Infrared or NIR = 785-900 nm\n",
    "- (B11) Shortwave Infrared 1 or SWIR 1 = 1565-1655 nm\n",
    "\n",
    "For the full list see Figure S.2.b.\n",
    "\n",
    "<div><img src=\"https://github.com/digitalearthpacific/DigitalEarthPacific/blob/main/notebooks/DEP_LCAST/reference_materials/images/1B/Sentinel.2.png?raw=true=\"600\" width=\"580\"/></div>  "
   ]
  },
  {
   "cell_type": "markdown",
   "id": "614a6db3-3889-48c4-a0b9-f323a1f5a9e5",
   "metadata": {},
   "source": [
    "Figure S.2.b. Table list of spectral bands captured by sensors on the Sentinel 2 satellite\n",
    "\n",
    "A visualisation of these bands from the table in S.2.b. is visualised as a spectrum in figure S.2.c.\n",
    "    \n",
    "    \n",
    "    \n",
    "    \n",
    "    \n",
    "<div><img src=\"https://github.com/digitalearthpacific/DigitalEarthPacific/blob/main/notebooks/DEP_LCAST/reference_materials/images/1B/Sentinel.3.jpg?raw=true=\"600\" width=\"580\"/></div>    "
   ]
  },
  {
   "cell_type": "markdown",
   "id": "90d2b793-4a73-4ee1-a791-da27a37fffdb",
   "metadata": {},
   "source": [
    "Figure S.2.c. The spectrum of different wavelengths visualised:"
   ]
  },
  {
   "cell_type": "markdown",
   "id": "dd1e9809-3774-4cd3-85e0-958b05591775",
   "metadata": {},
   "source": [
    "<font color='blue'>4.2. Get annual Red Green and Blue (RGB) data for your aoi:\n",
    "    \n",
    "Now we can get our satellite data using depal for our predefined aoi. The function to load the red green and blue bands of satellite data is as follows:\n",
    "\n",
    "> dep.get_annual_rgb(aoi, year)\n",
    "    \n",
    "> Input your code for 4.1 in this cell eg. dep.get_annual_rgb(aoi, year)\n",
    "    \n",
    "For the first input within the brackets you will first need to input your own aoi variable where it says 'aoi'.\n",
    "\n",
    "For the second input within the brackets after the aoi you will need to input a , and then you will need to input a year between 2017-2023. "
   ]
  },
  {
   "cell_type": "code",
   "execution_count": null,
   "id": "407577bf-6c2b-4488-85ac-8c28423cf366",
   "metadata": {},
   "outputs": [],
   "source": []
  },
  {
   "cell_type": "markdown",
   "id": "3abe23cd-6194-4ae6-9dff-0b4ecee3e4e2",
   "metadata": {
    "tags": []
   },
   "source": [
    "<font color='blue'>4.3 Define your answer from 4.2 within a new variable:\n",
    "    \n",
    "> For example data = ...."
   ]
  },
  {
   "cell_type": "code",
   "execution_count": 72,
   "id": "ad0a5b8d-ef4b-410d-9ef7-295b068d3189",
   "metadata": {
    "tags": []
   },
   "outputs": [],
   "source": []
  },
  {
   "cell_type": "markdown",
   "id": "f3539cd9-e092-4221-96f0-c9eee628b313",
   "metadata": {
    "tags": []
   },
   "source": [
    "<font color='blue'>4.3 Plot this data for visualisation:\n",
    "    \n",
    "Plotting this data will allow you to see the results. Here we use :\n",
    "    \n",
    "> dep.plot_rgb(data) \n",
    "    \n",
    "Where data is the variable you defined in 4.3.   "
   ]
  },
  {
   "cell_type": "code",
   "execution_count": 78,
   "id": "54e87ceb-d0d9-4887-87dd-897fc98f4344",
   "metadata": {
    "tags": []
   },
   "outputs": [],
   "source": []
  },
  {
   "cell_type": "markdown",
   "id": "40688601-0c71-4abb-a8c4-c67ad63620be",
   "metadata": {},
   "source": [
    "#### **<font color='green'>Congratulations you have now completed the intro to depal notebook activity.**"
   ]
  },
  {
   "cell_type": "markdown",
   "id": "bf1c8458-c77e-42f1-9851-7f443e4a1144",
   "metadata": {
    "tags": []
   },
   "source": [
    "<font color='purple'>5.1 Optional bonus activity: if you have finished all the other activities and still have time before the next part of the course, you can master the workflows of 1.1-1.4 and 2.1-2.4 by practicing these steps one more time but this time at the province level:"
   ]
  },
  {
   "cell_type": "code",
   "execution_count": null,
   "id": "53a84ab4-bc44-4d7d-ba85-c50a3292dc8a",
   "metadata": {},
   "outputs": [],
   "source": []
  },
  {
   "cell_type": "markdown",
   "id": "5edfab5c-3c01-4893-9f05-b714139bb484",
   "metadata": {},
   "source": [
    "<font color='purple'>5.2 Optional bonus activity: with the result of 5.1 plot this in rgb:"
   ]
  },
  {
   "cell_type": "code",
   "execution_count": null,
   "id": "4632da20-4cf3-4ab2-b0d8-2bead380460a",
   "metadata": {},
   "outputs": [],
   "source": []
  },
  {
   "cell_type": "markdown",
   "id": "a3b58013-eba3-4a7f-96b9-4da24f5a2c99",
   "metadata": {},
   "source": [
    "#### **<font color='green'>Excellent work!!!**\n",
    "    \n",
    "You have also completed the bonus activities."
   ]
  }
 ],
 "metadata": {
  "kernelspec": {
   "display_name": "Python 3 (ipykernel)",
   "language": "python",
   "name": "python3"
  },
  "language_info": {
   "codemirror_mode": {
    "name": "ipython",
    "version": 3
   },
   "file_extension": ".py",
   "mimetype": "text/x-python",
   "name": "python",
   "nbconvert_exporter": "python",
   "pygments_lexer": "ipython3",
   "version": "3.11.4"
  }
 },
 "nbformat": 4,
 "nbformat_minor": 5
}
