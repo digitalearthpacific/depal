{
 "cells": [
  {
   "cell_type": "markdown",
   "id": "ac76f33d-0204-4f3d-8baf-41e701999fcd",
   "metadata": {},
   "source": [
    "![Digital Earth Pacific](dep.png)\n",
    "\n",
    "### Digital Earth Pacific Notebook 0 Explore Data Points\n",
    "\n",
    "The objective of this first notebook is to show the different training datasets that have been collated and prepared by the the National Land Cover Change Mapping Working Group (NLCMWG) and SPC in order to develop Land Use Land Cover (LULC) models and measurement reporting and verification for national inventories.\n",
    "\n",
    "Through the notebook you will be exploring three main datasets: \n",
    "\n",
    "1. **Merged dataset** combining separate training datasets gathered by both the NLCMWG and other datasets collated independently by SPC \n",
    "2. **USFS dataset** collated by the US Forestry Services dataset (USFS)\n",
    "3. **CE dataset** annotated by the NLCMWG using Collect Earth (CE) \n",
    "\n",
    "Through the notebook you will be able to investigate and compare the three different datasets: the number of points, plots for analysis, number of classes and the spatial distribution of these training points. "
   ]
  },
  {
   "cell_type": "code",
   "execution_count": null,
   "id": "eda70487-d9a4-4b58-b6e3-922699e3df0a",
   "metadata": {},
   "outputs": [],
   "source": [
    "import depal_mh as dep\n",
    "import geopandas as gpd\n",
    "import pandas as pd"
   ]
  },
  {
   "cell_type": "code",
   "execution_count": null,
   "id": "8451f0c4-2801-4322-a2d2-cbfb6184bd5d",
   "metadata": {},
   "outputs": [],
   "source": [
    "points = gpd.read_file(\"Marshall_Islands/lulc_mh.geojson\")"
   ]
  },
  {
   "cell_type": "markdown",
   "id": "7fa98a09-f8a7-4799-acc9-8fba5fae3395",
   "metadata": {},
   "source": [
    "### Classes"
   ]
  },
  {
   "cell_type": "code",
   "execution_count": null,
   "id": "24893ac9-8c60-4a84-9495-632ca73cacdd",
   "metadata": {},
   "outputs": [],
   "source": [
    "points.sort_values(by=['lulc'], inplace=True)\n",
    "summary = points.lulc.value_counts()\n",
    "pd.DataFrame(summary.items())"
   ]
  },
  {
   "cell_type": "code",
   "execution_count": null,
   "id": "18b1ad8e-7c17-487b-ab5d-3c145004f622",
   "metadata": {},
   "outputs": [],
   "source": [
    "summary.plot.bar()"
   ]
  },
  {
   "cell_type": "markdown",
   "id": "a11db753-72c6-4099-967a-956c75680678",
   "metadata": {},
   "source": [
    "### Visualise"
   ]
  },
  {
   "cell_type": "code",
   "execution_count": null,
   "id": "525e663d-e97b-4d91-9676-c1293311afe4",
   "metadata": {},
   "outputs": [],
   "source": [
    "#subclass = points.SubClass.value_counts()\n",
    "#pd.DataFrame(subclass.items())"
   ]
  },
  {
   "cell_type": "code",
   "execution_count": null,
   "id": "006b0d55-66ad-40aa-b4c1-0c35918d360d",
   "metadata": {
    "scrolled": true,
    "tags": []
   },
   "outputs": [],
   "source": [
    "points.explore(column=\"lulc\")"
   ]
  }
 ],
 "metadata": {
  "kernelspec": {
   "display_name": "Python 3 (ipykernel)",
   "language": "python",
   "name": "python3"
  },
  "language_info": {
   "codemirror_mode": {
    "name": "ipython",
    "version": 3
   },
   "file_extension": ".py",
   "mimetype": "text/x-python",
   "name": "python",
   "nbconvert_exporter": "python",
   "pygments_lexer": "ipython3",
   "version": "3.10.14"
  }
 },
 "nbformat": 4,
 "nbformat_minor": 5
}
