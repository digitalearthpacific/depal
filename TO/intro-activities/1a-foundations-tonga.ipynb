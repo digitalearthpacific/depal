{
 "cells": [
  {
   "cell_type": "markdown",
   "id": "0640e290-5394-41c1-b2f8-3f46d3ef9fb3",
   "metadata": {
    "tags": []
   },
   "source": [
    "# Activity 1A) Python foundations\n",
    "Intended for new users of Python. The notebook provides the foundations of Python for using [Digital Earth Pacific (DEP)](https://github.com/digitalearthpacific/DigitalEarthPacific/tree/main). For questions regarding this notebook contact the author via https://github.com/nicholasmetherall"
   ]
  },
  {
   "cell_type": "markdown",
   "id": "b0ba21b3-3ab1-4782-9741-1fa387c99b87",
   "metadata": {
    "tags": []
   },
   "source": [
    "## Jupyter Notebook Integrated Development Environment (IDE) interface"
   ]
  },
  {
   "cell_type": "markdown",
   "id": "39285d03-06f8-40da-994d-87fdc25d4cd1",
   "metadata": {
    "tags": []
   },
   "source": [
    "We will be working with Python within a Jupyter notebook environment as the IDE. An IDE is an Integrated Development Environment or software application that helps programmers develop software code efficiently.  The notebooks for this workshop will be accessed via Microsoft's Planetary Computer platform that provides access to the Jupyter Notebook IDE and volumes of Earth Observation data."
   ]
  },
  {
   "cell_type": "markdown",
   "id": "313f8ad1-44a5-4875-a72b-3f7106e1e5c2",
   "metadata": {
    "tags": []
   },
   "source": [
    "#### **Section 1. Jupyter Notebook Integrated Development Environment (IDE) interface**"
   ]
  },
  {
   "cell_type": "markdown",
   "id": "b30084a4-9715-4bf5-a19b-3f0fbb5ecfe7",
   "metadata": {
    "tags": []
   },
   "source": [
    "After logging into the DEP plaform here:  https://dep-staging.westeurope.cloudapp.azure.com/ and selecting an instance (CPU or GPU) your Notebook session should start up in a browser.  \n",
    "<font color='blue'>1.1. Jupyter Notebooks will work best for you if you set your default browser to Google Chrome, but Firefox should be OK too.  \n",
    "1.2. You should now be able to browse for files in your directory on the left panel. If you open multiple files or notebooks they will often open as separate tabs within your workspace.  \n",
    "</font>"
   ]
  },
  {
   "cell_type": "markdown",
   "id": "34712290-ac8b-4727-a029-5bf73a54f5dd",
   "metadata": {},
   "source": [
    "<img src=\"https://github.com/digitalearthpacific/DigitalEarthPacific/blob/main/notebooks/DEP_LCAST/reference_materials/images/1.2.a..JPG?raw=true\" width=\"400\"/>\n",
    "Figure 1.2.a. Jupyter notebook directory panel"
   ]
  },
  {
   "cell_type": "markdown",
   "id": "15e0343e-8e15-4946-b0ff-cde61bcfc519",
   "metadata": {
    "tags": []
   },
   "source": [
    "<font color='blue'>1.3. For this activity you will not need to make a new notebook as you will be working within this one. For future reference you can learn how to make a new notebook in the folder \"Day 1/Activities\" using the ”New Launcher\" blue button on the top left or by using (Ctrl+Shift+L).</font>"
   ]
  },
  {
   "attachments": {
    "c3996d5b-5794-48c3-82dc-88f86190135d.png": {
     "image/png": "[encoded data removed]"
    }
   },
   "cell_type": "markdown",
   "id": "7a68569d-27bd-47b9-abab-1770d00e6aa0",
   "metadata": {},
   "source": [
    "<div><img src=\"https://github.com/digitalearthpacific/DigitalEarthPacific/blob/main/notebooks/DEP_LCAST/reference_materials/images/1.3.a.JPG?raw=true\" width=\"300\"/></div>\n",
    "\n",
    "<!-- ![image.png](attachment:c3996d5b-5794-48c3-82dc-88f86190135d.png)   -->\n",
    "Figure 1.3.a. Blue button launcher"
   ]
  },
  {
   "cell_type": "markdown",
   "id": "a7e21aeb-5587-4a9d-897c-747f8c4cb58f",
   "metadata": {},
   "source": [
    "<font color='blue'>1.4. Select the first option Python 3 (ipykernel)</font>"
   ]
  },
  {
   "attachments": {
    "afc22bf7-3da6-4b4f-9ab5-a86983c8c3b6.png": {
     "image/png": "[encoded data removed]"
    }
   },
   "cell_type": "markdown",
   "id": "37ce34ea-1897-4f18-84c7-77856a22ab0a",
   "metadata": {},
   "source": [
    "\n",
    "<img src=\"https://github.com/digitalearthpacific/DigitalEarthPacific/blob/main/notebooks/DEP_LCAST/reference_materials/images/1.4.a.JPG?raw=true\" width=\"400\"/>  \n",
    "\n",
    "<!-- ![image.png](attachment:afc22bf7-3da6-4b4f-9ab5-a86983c8c3b6.png)   -->\n",
    "Figure 1.4.a. Jupyter notebook new launcher."
   ]
  },
  {
   "cell_type": "markdown",
   "id": "601bd421-ae77-4f45-8047-6fbd4dd22ba8",
   "metadata": {
    "tags": []
   },
   "source": [
    "<font color='blue'>1.5. You can return to this notebook now to work on the activities below. Before you start here are some basics: \n",
    "<font color='blue'></font>\n",
    "    \n",
    "Python programming is often compiled in one of two formats:\n",
    "1. Notebooks (.ipynb) are primarily made up of cells of code separated by explanatory text called 'markdown'.\n",
    "2. Scripts (.py) that are written as one block of code making up the entire document. \n",
    "    \n",
    "In this workshop when working with Python we will be primarily working within the Python notebook. \n"
   ]
  },
  {
   "cell_type": "markdown",
   "id": "b287ba60-a943-4495-a390-9253b4ee6c11",
   "metadata": {},
   "source": [
    "<font color='blue'>1.6. Each cell in your notebook can be filled with python code.\n",
    "    \n",
    "This white cell is an example of a 'markdown' cell which is just used for writing. \n",
    "\n"
   ]
  },
  {
   "cell_type": "code",
   "execution_count": null,
   "id": "6164cec0-36bf-42f6-9fc9-69c5bb3606ae",
   "metadata": {
    "tags": []
   },
   "outputs": [],
   "source": [
    "\"This grey cell is an example of a code block that can be used to define variables run functions and more.\" + \" When you see one of these grey code blocks it means that you will usually have an activity that you aim to complete.\" "
   ]
  },
  {
   "cell_type": "markdown",
   "id": "f6879588-57c6-4963-a7b9-3db20a524adf",
   "metadata": {},
   "source": [
    "\n",
    "<font color='blue'>1.7. You may then, press \"Shift\"-\"Return\" to run each line of code in each cell.  Just below the code cell is the result(s)\n",
    ".\n",
    "\n",
    "from executing the code in the cell.  Also, you can add comments that do not get executed in a code cell with a #.</font>"
   ]
  },
  {
   "cell_type": "code",
   "execution_count": null,
   "id": "bb8d3584-67a7-4ccc-b507-cad10e6cb7a6",
   "metadata": {
    "tags": []
   },
   "outputs": [],
   "source": [
    "print('Hello, Tonga Workshop!')  # This is a comment."
   ]
  },
  {
   "cell_type": "markdown",
   "id": "babe2466-8869-4f96-b8d6-b15057968bc2",
   "metadata": {},
   "source": [
    "<font color='blue'>1.8.  In addition to code cells there are also Markdown cells.  Markdown cells allow you to embed rich text\n",
    "in your notebook via the Markdown language.  It also allows you to embed links to websites, images, and even YouTube videos.  By default\n",
    "a new cell is a code cell.  Selecting \"Markdown\" from the menu above the notebook allows you to change a cell to Markdown.</font>"
   ]
  },
  {
   "cell_type": "markdown",
   "id": "e4937b13-b547-4bf3-a0a0-07efa1026bf8",
   "metadata": {
    "tags": []
   },
   "source": [
    "#### **Section 2. Variables, dictionaries and lists in Python language**"
   ]
  },
  {
   "cell_type": "markdown",
   "id": "4d5c50c3-f73c-4ef0-88ca-7969cafd424d",
   "metadata": {},
   "source": [
    "Python programming language includes the following objects or code inputs: \n",
    "\n",
    "1. Variables (names representing data or data structures)\n",
    "2. Strings (text)\n",
    "3. Numbers (integers or floating point numbers)\n",
    "4. Tuples (immutable data sequences)\n",
    "5. Lists or arrays (more flexible, mutable data sequences)\n",
    "6. Dictionaries (a collection of key-value pairs)"
   ]
  },
  {
   "cell_type": "markdown",
   "id": "12a5927e-4de7-41ef-8acf-f2b451a7b6f0",
   "metadata": {},
   "source": [
    " **2.1 Defining variables**"
   ]
  },
  {
   "cell_type": "markdown",
   "id": "5b6fc97b-2292-48e0-8fc8-464960da8b65",
   "metadata": {},
   "source": [
    "<font color='blue'>2.1.a. Define new variables storing the names of each of these tier I land cover classes from the following list in the table below. Variables can be assigned to any Python-supported data type (i.e. floats) or structure (i.e. lists).  Python functions can even be assigned to variables. </font>\n",
    "\n",
    "The Intergovernmental Panel on Climate Change (IPCC) defines six major categories of land use and land cover (LULC) to allow for LULC change detection analyses, Greenhouse Gas Inventories and forestry inventories as well as a range of other applications. As these six categories are considered fairly broad categories, the IPCC refers to them as 'Tier I' Greenhouse Gas Inventories."
   ]
  },
  {
   "cell_type": "markdown",
   "id": "74a7dbd6-bfc4-4088-8300-59ece6d762ab",
   "metadata": {},
   "source": [
    " <p style=\"text-align: center;\">Table 2.1.a. Tier I Land Use and Land Cover (LULC) Classes</p>\n"
   ]
  },
  {
   "cell_type": "markdown",
   "id": "37487c30-956b-4287-8c31-0fed239592a4",
   "metadata": {},
   "source": [
    "| Tier level | Class code | LULC classes | \n",
    "|--- |--- | --- |\n",
    "|  1  | LULC_1 | forest_land |\n",
    "|  1  | LULC_2 | cropland |  \n",
    "|  1  | LULC_3 | grassland | \n",
    "|  1  | LULC_4 | wetland |  \n",
    "|  1  | LULC_5 | settlements |  \n",
    "|  1  | LULC_6 | other_land |  \n"
   ]
  },
  {
   "cell_type": "markdown",
   "id": "3961544c-175c-43e1-a829-7a52806b4b74",
   "metadata": {},
   "source": [
    "<font color='blue'>2.2. A variable is a container of data that contains a 'key' and a 'value'. The key is the name you will use to refer to this container variable. The value is the data stored inside this container variable. In oder to define a variable firstly include the 'key' then the value pair. We will store this value as a string so we will include the classes inside quotation marks e.g. \"other_land\".  Also, once a variable is created it can be reassigned to other values.  Finally, unlike other languages, in Python you do not have to declare the variable type (i.e. float) when creating the variable.  Python infers the data type from the assigned value. </font>\n",
    "\n",
    ">*LULC_6 = \"other_land\"*  \n",
    "\n",
    "Following this example define all the variables LULC_1 through to LULC_6 by defining the key as the class code and the variable as the corresponding LULC class. Please note that for keys you should use an underscore for spaces. Keeping note of this, define these variables in the cell block below:\n",
    "\n",
    "Then run the code by pressing Shift+Enter."
   ]
  },
  {
   "cell_type": "code",
   "execution_count": null,
   "id": "b2369265-ef7d-42c1-80ab-e94e77dc0a8c",
   "metadata": {
    "tags": []
   },
   "outputs": [],
   "source": [
    "LULC_1 = \"forest_land\"\n",
    "LULC_2 = \"cropland\"\n",
    "LULC_3 = \"grassland\"\n",
    "\n",
    "# Complete the remaining three classes following the example above:\n"
   ]
  },
  {
   "cell_type": "markdown",
   "id": "7a145de1-162e-4334-85dd-0ad4cdc29207",
   "metadata": {},
   "source": [
    "When defining variables as you have done here, the result does not show an immediate result below. You will know whether the code is still processing if there is an '*' next to your code. Once it shows a number you will know it is completed. To see the results you will have to use one of several methods for checking what you have done:"
   ]
  },
  {
   "cell_type": "markdown",
   "id": "ab29159a-a0bd-4cb0-b5c0-d4a8d596b313",
   "metadata": {
    "tags": []
   },
   "source": [
    "<font color='blue'>2.3. To check your results you can print the value of the key of a variable by using the function 'print'. To print results type the following: \n",
    "\n",
    ">*print(LULC_1)*  \n",
    "\n",
    "The result should be forest_land</font>"
   ]
  },
  {
   "cell_type": "markdown",
   "id": "813a29c7-5969-4d48-89db-9b8e7b56dcbc",
   "metadata": {},
   "source": [
    "Note that each line of code above generates a number next to it. This number denotes the order in which you have run the code. This order is important because for example you cannot print the variable in code cell [5] before you first print the variable defined in the code block with the order number [4]. If you tried to reverse the order of these two lines of code then you would have an error because you would be trying to print a variable that has not yet been defined.  "
   ]
  },
  {
   "cell_type": "markdown",
   "id": "ae94e820-b58c-465a-8533-b140bed6136b",
   "metadata": {},
   "source": [
    "To see more information on functions and variables you have defined while coding. Type \n",
    "print then tap your 'Shift'+'Tab' key. You should see more information about the function."
   ]
  },
  {
   "cell_type": "code",
   "execution_count": null,
   "id": "7b5a1708-2593-43cf-a92d-5a88b760134d",
   "metadata": {
    "tags": []
   },
   "outputs": [],
   "source": []
  },
  {
   "cell_type": "markdown",
   "id": "a5b0842b-c7a7-437d-959a-8a1a2fa12040",
   "metadata": {},
   "source": [
    "Now type L and the press 'Tab' key and you will be able to select from the variables you have already defined starting with the letter 'L'.  "
   ]
  },
  {
   "cell_type": "code",
   "execution_count": null,
   "id": "625f9dc8-80e0-46bd-ae24-670856adc484",
   "metadata": {
    "tags": []
   },
   "outputs": [],
   "source": []
  },
  {
   "cell_type": "markdown",
   "id": "aa19aba6-d357-4100-b180-ff98e8308160",
   "metadata": {},
   "source": [
    "There are various kinds of errors. A common type of error is a 'syntax error' that means that there may be a space, comma, capital letter or lower case letter where it should not be. It is basically a code spelling error. In Python you must be careful to type code precisely and accurately as even changing one letter can change the entire code workflow.\n",
    "\n",
    "Type-checking variables can also be useful in debugging and simply understanding what a block of code is doing.  The type() function simply returns the data type (i.e. float, string) of the argument you provide the function.  The line of code below returns the type of the variable LULC_1, which in this case is string."
   ]
  },
  {
   "cell_type": "code",
   "execution_count": null,
   "id": "0475de60-18c5-4ad7-ba26-4943a913e810",
   "metadata": {
    "tags": []
   },
   "outputs": [],
   "source": [
    "type(LULC_1)"
   ]
  },
  {
   "cell_type": "markdown",
   "id": "b94a16b8-6bda-4208-9439-71059a636c65",
   "metadata": {
    "tags": []
   },
   "source": [
    "<font color='blue'>2.4. Next we will save all of the land cover classes as Tier I within a dictionary. </font>"
   ]
  },
  {
   "cell_type": "markdown",
   "id": "3a58ffa1-b0c4-4a63-a9c0-514dd66a48ef",
   "metadata": {},
   "source": [
    "Two of the most fundamental data structures in Python are lists and dictionaries.  Both are collections of data that can be referenced by an index or key.  Lists can be homogeneous (all the same data type) or heterogenous.  To create a list you simply put values inside of square brackets [] and assign to a variable."
   ]
  },
  {
   "cell_type": "code",
   "execution_count": null,
   "id": "96a38719-4974-49be-a14f-31c1a17989e9",
   "metadata": {
    "tags": []
   },
   "outputs": [],
   "source": [
    "my_list = [1, 1, 2, 3, 5, 8] #homogeneous data type list.\n",
    "my_mixed_list = [1, 'hi', 3.4, True, 42] #heterogenous data type list."
   ]
  },
  {
   "cell_type": "markdown",
   "id": "2ae22cc7-e312-479c-bd86-fd8dff7ff1d2",
   "metadata": {},
   "source": [
    "Elements in a list can be accessed via their position or index.  In Python indexing begins at zero.  So if you want the first element in a list the code is:"
   ]
  },
  {
   "cell_type": "code",
   "execution_count": null,
   "id": "9db608a2-1455-431f-a278-4fa553fe48e6",
   "metadata": {
    "tags": []
   },
   "outputs": [],
   "source": [
    "my_list[0]"
   ]
  },
  {
   "cell_type": "markdown",
   "id": "0b08a275-87b4-489b-88bf-656007711006",
   "metadata": {},
   "source": [
    "Lists are also mutable in that you can reassign any element in a list using the index.  If you want to reassign the second element in the list you can do so."
   ]
  },
  {
   "cell_type": "code",
   "execution_count": null,
   "id": "1734a74a-64a9-47b3-a0c6-6e16afffa945",
   "metadata": {
    "tags": []
   },
   "outputs": [],
   "source": [
    "my_list[1] = 56\n",
    "my_list"
   ]
  },
  {
   "cell_type": "markdown",
   "id": "528525b7-d773-46eb-8a4f-1e47ee468e41",
   "metadata": {
    "tags": []
   },
   "source": [
    "\n",
    "<img src=\"https://github.com/digitalearthpacific/DigitalEarthPacific/blob/main/notebooks/DEP_LCAST/reference_materials/images/2.4.a.jpg?raw=true\" width=\"500\"/>  \n",
    "Figure 2.4.a. Python dictionaries"
   ]
  },
  {
   "cell_type": "markdown",
   "id": "33f74f99-1e02-4755-88a0-8c3ffa9c3052",
   "metadata": {},
   "source": [
    "Dictionaries are collections of data similar to lists.  But instead of elements being referenced by index or position as in lists the elements are referenced by a user-defined key.  This potentially makes dictionaries more expressive as values are tied to descriptive keys.  It also can make searching dictionaries easier as it is based on keys and not simpy a position index.  As with lists the elements in a dictionary can be reassigned using the keys."
   ]
  },
  {
   "cell_type": "markdown",
   "id": "81e550dd-a6c3-405e-b469-f8f5f24f8e5d",
   "metadata": {},
   "source": [
    "In order to define a dictionary you will follow a similar workflow to how you defined each of the variables in section 2.2. However, this time you will use curly brackets and define each of the key - value pairs following the example below:\n",
    "\n",
    ">*Tier_I = {'LULC_1':'forest_land',...*}\n",
    "\n",
    "Note here the key is shown first in single quote marks and the value follows this after a colon.\n",
    "\n",
    "The example below is almost complete but you will need to scroll to the right and fill in the missing classes. "
   ]
  },
  {
   "cell_type": "code",
   "execution_count": null,
   "id": "672c7644-c124-444a-95ff-5434c42e3c06",
   "metadata": {
    "tags": []
   },
   "outputs": [],
   "source": [
    "Tier_I = {'LULC_1':'forest_land','LULC_2':'cropland','LULC_3':'grassland','LULC_4': # Complete LULC_5 and LULC_6 following examples}"
   ]
  },
  {
   "cell_type": "markdown",
   "id": "a2e428ac-fb1a-4d73-8fbb-f3a6fd41eed7",
   "metadata": {},
   "source": [
    "Check your results by printing this dictionary:"
   ]
  },
  {
   "cell_type": "code",
   "execution_count": null,
   "id": "eecc595e-febd-48de-816b-237fd70363cb",
   "metadata": {
    "tags": []
   },
   "outputs": [],
   "source": [
    "print(Tier_I)"
   ]
  },
  {
   "cell_type": "markdown",
   "id": "6e543892-cb34-41f9-b5ba-8f4fb9aca7fa",
   "metadata": {
    "tags": []
   },
   "source": [
    "<font color='blue'>2.4.b. Next we will define a second dictionary that defines each of the Tier I classes by numbers (1-6). </font>\n",
    "\n",
    ">*Tier_I_codes = {'1':LULC_1....}*\n",
    "\n",
    "The example below is almost complete but you will need to scroll to the right and fill in the missing classes. "
   ]
  },
  {
   "cell_type": "code",
   "execution_count": null,
   "id": "c268dd0c-2141-45d8-8b6d-70a9f2fc5756",
   "metadata": {
    "tags": []
   },
   "outputs": [],
   "source": [
    "Tier_I_codes = {1:LULC_1,2:LULC_2,3:LULC_3,4:# Complete LULC_5 and LULC_6 following previous examples"
   ]
  },
  {
   "cell_type": "markdown",
   "id": "d4542512-a010-49fa-a0db-6610367bbe3a",
   "metadata": {},
   "source": [
    "Check your results by printing this dictionary or by listing the values. To list the values you can simply include the name of the dictionary without any 'print' function. "
   ]
  },
  {
   "cell_type": "code",
   "execution_count": null,
   "id": "c79adea5-6c9b-42e5-8aea-fd745fae26d1",
   "metadata": {
    "tags": []
   },
   "outputs": [],
   "source": [
    "# print the dictionary by print() with the variable within brackets\n",
    "\n",
    "\n",
    "# list values by typing the variable below\n"
   ]
  },
  {
   "cell_type": "markdown",
   "id": "0a1d6184-331b-4104-9ee7-6b11a07c2ac6",
   "metadata": {},
   "source": [
    "Note how print shows exactly what was defined in the dictionary including the key and value pairs horizontally. In contract listing the values without using print just lists out all the key-value pairs vertically.   "
   ]
  },
  {
   "cell_type": "markdown",
   "id": "65f6046e-ca27-4008-867b-b21372dc1574",
   "metadata": {},
   "source": [
    "<font color='blue'>2.4.c. Retrieve the value of class 3 by typing the name of the key in square brackets Tier_I_codes[3]. Follow this example: </font>\n",
    "\n",
    ">*(Tier_I_codes[3])*"
   ]
  },
  {
   "cell_type": "code",
   "execution_count": null,
   "id": "8625a2cb-0bda-4e19-a0f4-6b46d7cf86bd",
   "metadata": {
    "tags": []
   },
   "outputs": [],
   "source": [
    "Tier_I_codes[3]  # here \"3\" is the actual key in the dictionary and not a position index as in a list."
   ]
  },
  {
   "cell_type": "markdown",
   "id": "bfa97c7b-1dc2-4a3a-97d4-c26d5db2d2f6",
   "metadata": {
    "tags": []
   },
   "source": [
    "Now print each of the other values of each of the following classes : 2, 4, 6. "
   ]
  },
  {
   "cell_type": "markdown",
   "id": "bcfe1ba2-af7f-45bb-ab3f-daa5136d68e7",
   "metadata": {},
   "source": [
    "Note that this code visualises the results below just from typing the name of the variable. For this notebook we will refer to this process as 'retrieving'. "
   ]
  },
  {
   "cell_type": "code",
   "execution_count": null,
   "id": "4d3bf045-f6e5-4da7-87d1-144318ce5b59",
   "metadata": {
    "tags": []
   },
   "outputs": [],
   "source": []
  },
  {
   "cell_type": "markdown",
   "id": "03f7865d-85eb-47fe-bd65-4f338af9aa87",
   "metadata": {},
   "source": [
    "<font color='blue'>2.5. We can also define these values within a list or 'array'. In order to do so we can define the list as follows:</font>\n",
    "\n",
    ">*Tier_I_list = [1,2,3,4,5,6]*"
   ]
  },
  {
   "cell_type": "code",
   "execution_count": null,
   "id": "091f6c23-4098-4f2d-9208-7a2b79b0d9ec",
   "metadata": {
    "tags": []
   },
   "outputs": [],
   "source": []
  },
  {
   "cell_type": "markdown",
   "id": "4515bfa8-2a97-4ded-adaf-53e27551948e",
   "metadata": {},
   "source": [
    "2.5.a. Try to retrieve the second value stored within the list by including the Tier_I_list and the value 2 in square brackets. "
   ]
  },
  {
   "cell_type": "code",
   "execution_count": null,
   "id": "b3819a34-1bc6-4afe-a7d7-db19a5c02606",
   "metadata": {
    "tags": []
   },
   "outputs": [],
   "source": []
  },
  {
   "cell_type": "markdown",
   "id": "3349bef4-6027-4ef7-adc2-2c6a3c04ef60",
   "metadata": {},
   "source": [
    "Do you notice anything strange? Placing '2' inside square brackets returns the value '3'. Why might this occur?\n",
    "\n",
    "This is because in lists or arrays the first element starts from '0'. As a result the second element in the array can only be retrieved by calling the second element in the array which is indexed as '1'. \n",
    "\n",
    "To retrieve this value you can use the following example:  \n",
    "*Tier_I_list[1]*"
   ]
  },
  {
   "cell_type": "code",
   "execution_count": null,
   "id": "89cc1773-44f6-43bf-b07d-88a9e9905211",
   "metadata": {
    "tags": []
   },
   "outputs": [],
   "source": []
  },
  {
   "cell_type": "markdown",
   "id": "b3820cec-fe8c-4627-abb4-0e12d8b2d75e",
   "metadata": {},
   "source": [
    "<font color='blue'>2.5.b. Print values 2,4,6 from Tier_I_list</font>"
   ]
  },
  {
   "cell_type": "code",
   "execution_count": null,
   "id": "bf8bdd03-c595-407b-9d47-a5c840037a3a",
   "metadata": {
    "tags": []
   },
   "outputs": [],
   "source": []
  },
  {
   "cell_type": "markdown",
   "id": "5c5b4bb3-ec33-4b55-8626-eae8da4cec5a",
   "metadata": {},
   "source": [
    "<font color='blue'>2.6. Error Messages</font>"
   ]
  },
  {
   "cell_type": "markdown",
   "id": "69c23bb5-d826-4cfc-9231-343a9d6db8bd",
   "metadata": {},
   "source": [
    "Python Notebooks execute code cells sequencially.  If there is an error in a cell an error message box is produced just below the cell.  Error messages can be quite long and not entirely clear.  One tip is that it often is helpful to investigate the very last error message in a box and work up from there."
   ]
  },
  {
   "cell_type": "code",
   "execution_count": null,
   "id": "f47d08e1-c29d-478a-b03e-cd58061d11fe",
   "metadata": {
    "tags": []
   },
   "outputs": [],
   "source": [
    "print(my_undefined_variable)"
   ]
  },
  {
   "cell_type": "markdown",
   "id": "5bb6dcee-5c71-496c-b238-823b070d7af4",
   "metadata": {},
   "source": [
    "In the simple error above the message points to the location in the cell of the error.  The last line conveys the error in more readable language.  Again for extensive error messages this last line is usually a clear starting point for debugging."
   ]
  },
  {
   "cell_type": "markdown",
   "id": "52d683e5-a7fa-4671-aaa5-2b34f3f95506",
   "metadata": {},
   "source": [
    "**To learn more about Dictionaries and lists**\n",
    "\n",
    "There is a great deal of functionality with dictionaries and lists beyond what is covered in this notebook.  There many methods associated with each.  For instance the code below appends the number 30 onto the end of my_list.  See the link below.\n",
    "\n",
    "https://pynative.com/python-dictionaries/#h-accessing-elements-of-a-dictionary"
   ]
  },
  {
   "cell_type": "code",
   "execution_count": null,
   "id": "14a0ee6d-1201-4ec0-b49f-4286001a6074",
   "metadata": {
    "tags": []
   },
   "outputs": [],
   "source": [
    "my_list.append(30)\n",
    "my_list"
   ]
  },
  {
   "cell_type": "markdown",
   "id": "e3f3a9f9-3508-4d6d-bd9b-90801c6c28d6",
   "metadata": {},
   "source": [
    "#### **Section 3. Python as a calculator**"
   ]
  },
  {
   "cell_type": "markdown",
   "id": "7bcb4a24-5dee-4822-8979-e1cef5fdc10d",
   "metadata": {
    "tags": []
   },
   "source": [
    "Python is a powerful programming language for numerical analyses. To begin to see how python can be used for working with numbers we provide some examples of simple calculations:\n",
    "\n",
    "<font color='blue'>3.1. Try the following: </font>\n",
    "\n",
    "Additions eg. 800+150  \n",
    "Subtractions eg. 950-150  \n",
    "Multiplications eg. 3600*6  \n",
    "Divisions eg. 72000/12  \n",
    "Exponentials eg. 8**2\n",
    "\n",
    "Note if you put all of the calculations into one cell block the output will just be the latest calculation at the bottom. In order to generate outputs for each you can try inputting each of these calculations in separate code cell blocks below and then run the code by pressing Shift+Enter. This will generate results from each of the calculations separately. "
   ]
  },
  {
   "cell_type": "code",
   "execution_count": null,
   "id": "d83f4b50-99be-482a-af23-509dea50bfb4",
   "metadata": {
    "tags": []
   },
   "outputs": [],
   "source": [
    "#Additions eg. 800+150  \n",
    "        "
   ]
  },
  {
   "cell_type": "code",
   "execution_count": null,
   "id": "dad250f3-78fa-40ef-a1e3-4016fb198bd9",
   "metadata": {
    "tags": []
   },
   "outputs": [],
   "source": [
    "#Subtractions eg. 950-150  \n"
   ]
  },
  {
   "cell_type": "code",
   "execution_count": null,
   "id": "00d8d34a-c24d-4b80-a463-7dece5adaac1",
   "metadata": {
    "tags": []
   },
   "outputs": [],
   "source": [
    "#Multiplications eg. 3600*6 \n"
   ]
  },
  {
   "cell_type": "code",
   "execution_count": null,
   "id": "4c3df7e5-da48-4e90-bd75-7f8fd39d6770",
   "metadata": {
    "tags": []
   },
   "outputs": [],
   "source": [
    "#Divisions eg. 72000/12\n"
   ]
  },
  {
   "cell_type": "code",
   "execution_count": null,
   "id": "2c92a0ae-3acc-4c5d-854f-21a697ca8e06",
   "metadata": {
    "tags": []
   },
   "outputs": [],
   "source": [
    "#Exponentials eg. 8**2\n"
   ]
  },
  {
   "cell_type": "markdown",
   "id": "a68ba2b1-cce1-4b9c-a0cb-bfbf920a48ac",
   "metadata": {},
   "source": [
    "<font color='blue'>3.2. Mathematical modules\n",
    "\n",
    "Modules let you import external functions, variables, etc.  \n",
    "math provides standard mathematics functions.  \n",
    "Import the math module and try some functions:\n",
    "\n",
    ">*import math*</font>"
   ]
  },
  {
   "cell_type": "code",
   "execution_count": null,
   "id": "bcd44d5a-1722-48aa-8281-7f3fb7bbd5c5",
   "metadata": {
    "tags": []
   },
   "outputs": [],
   "source": []
  },
  {
   "attachments": {
    "3ce01ea0-af83-48a0-9f22-b6efef26e0eb.png": {
     "image/png": "[encoded data removed]"
    }
   },
   "cell_type": "markdown",
   "id": "9a30b1ea-d8d0-4cad-a667-51744989dfe3",
   "metadata": {},
   "source": [
    "This will provide a number of mathematical functions to allow for further analyses. \n",
    "\n",
    "For example, in geometry you may find the function for pi useful. Try defining a variable for pi:\n",
    "\n",
    ">*pi = math.pi*\n",
    "\n",
    "\n",
    "\n",
    "<div><img src=\"attachment:3ce01ea0-af83-48a0-9f22-b6efef26e0eb.png\" width=\"600\"/>\n",
    "Figure 3.2.a. Area and circumference of a circle\n",
    "\n"
   ]
  },
  {
   "cell_type": "code",
   "execution_count": null,
   "id": "bbbbe009-5322-44cf-a368-dd03e764e598",
   "metadata": {
    "tags": []
   },
   "outputs": [],
   "source": [
    "pi = math.pi"
   ]
  },
  {
   "cell_type": "markdown",
   "id": "65f14338-4c1a-4362-bd42-5cec7faa1c5f",
   "metadata": {},
   "source": [
    "<font color='blue'>3.3. Calculate the circumference of a circle with a radius of 10</font>"
   ]
  },
  {
   "cell_type": "code",
   "execution_count": null,
   "id": "45a8bdc4-980f-4af9-9b3b-b0eb91b3d030",
   "metadata": {
    "tags": []
   },
   "outputs": [],
   "source": []
  },
  {
   "cell_type": "markdown",
   "id": "e6a89490-0ba9-44e9-980a-a325b224db67",
   "metadata": {
    "tags": []
   },
   "source": [
    "<font color='blue'>3.4 Calculate the area of the same circle</font>"
   ]
  },
  {
   "cell_type": "code",
   "execution_count": null,
   "id": "67914470-aba6-4f38-b0d6-acc46b30c4fc",
   "metadata": {
    "tags": []
   },
   "outputs": [],
   "source": []
  },
  {
   "cell_type": "markdown",
   "id": "3b85a2dc-3cd1-47bd-94c4-e2a746b228e6",
   "metadata": {
    "tags": []
   },
   "source": [
    "<font color='blue'>3.3. Calculations using formulae in Python</font>  \n",
    "\n",
    "You are trying to work out the volume of timber that you have for building a house. You have purchased one wooden log from the timber yard and want to try to calculate the volume of timber in this log (cylinder). \n",
    "\n",
    "<div><img src=\"https://github.com/digitalearthpacific/DigitalEarthPacific/blob/main/notebooks/DEP_LCAST/reference_materials/images/3.3.a.jpg?raw=true\" width=\"550\"/>\n"
   ]
  },
  {
   "cell_type": "markdown",
   "id": "0f65759e-36e6-41b9-b901-7467c0077de0",
   "metadata": {},
   "source": [
    "The log you have purchased is 12 metres long (or tall) and 0.12 metres in radius. \n",
    "\n",
    "First, define the following variables:\n",
    "\n",
    "1. Radius of log\n",
    "2. Height of log\n"
   ]
  },
  {
   "cell_type": "code",
   "execution_count": null,
   "id": "cc83281f-ab9b-4662-b12a-eb13ec2aaff0",
   "metadata": {
    "tags": []
   },
   "outputs": [],
   "source": []
  },
  {
   "cell_type": "code",
   "execution_count": null,
   "id": "f27efe53-036c-43fd-9b98-edea37c0e3ca",
   "metadata": {
    "tags": []
   },
   "outputs": [],
   "source": []
  },
  {
   "cell_type": "markdown",
   "id": "71ad485a-6dc2-4555-9530-0782ca5df72b",
   "metadata": {},
   "source": [
    "Next define another variable with the formula for volume of a cylinder \n",
    "\n",
    "<div><img src=\"https://github.com/digitalearthpacific/DigitalEarthPacific/blob/main/notebooks/DEP_LCAST/reference_materials/images/3.3.b.png?raw=true\" width=\"600\"/>\n",
    "Figure 3.2.a. Area and circumference of a circle"
   ]
  },
  {
   "cell_type": "code",
   "execution_count": null,
   "id": "689e1b39-7b5a-487e-87d3-ae60556d17b2",
   "metadata": {
    "tags": []
   },
   "outputs": [],
   "source": [
    "Cylinder_volume = pi*(r**2)*h"
   ]
  },
  {
   "cell_type": "markdown",
   "id": "ddc94393-ad0d-4a33-83cb-505b5795e52d",
   "metadata": {},
   "source": [
    "Print your answer to check the results."
   ]
  },
  {
   "cell_type": "code",
   "execution_count": null,
   "id": "d04a86a1-bc66-4dd8-8045-aa1b3e1ac008",
   "metadata": {
    "tags": []
   },
   "outputs": [],
   "source": [
    "print(Cylinder_volume, 'cubic metres')"
   ]
  },
  {
   "cell_type": "markdown",
   "id": "1a59eee2-73cc-43d3-a626-e0494bd4ea5f",
   "metadata": {},
   "source": [
    "Let's round this value to two decimal places using the round() function as shown in the example below:\n",
    "\n",
    ">*sig_figs = round(Cylinder_volume, 2)*\n",
    "\n"
   ]
  },
  {
   "cell_type": "code",
   "execution_count": null,
   "id": "97229106-1f55-417b-a4d6-e5a430344db9",
   "metadata": {
    "tags": []
   },
   "outputs": [],
   "source": [
    "sig_figs = round(Cylinder_volume, 2)\n",
    "print(sig_figs)"
   ]
  },
  {
   "cell_type": "markdown",
   "id": "2de7d3fc-930c-4992-819c-13674755a9b8",
   "metadata": {},
   "source": [
    "<font color='blue'>3.4. Calculations using a list and 'for loop'</font>  \n",
    "\n",
    "You have returned to the timber yard and purchased ten more wooden logs all of different radius values: 0.10, 0.12, 0.17, 0.19, 0.22, 0.24, 0.24, 0.27, 0.33, 0.38, respectively. Each of these logs are the standard length / height of 12 metres. \n",
    "\n",
    "To calculate the volume of each of these ten logs. You can use a **'for loop'** which is used in Python to repeat a process multiple times (like a loop). This will allow you to calculate the volume of each of these ten logs using each of the different radius values in the list above.\n",
    "\n",
    "1. The first step in doing this is defining a list with the radius values (log_r_list).\n",
    "2. The next step is to define a variable for the standard length / height of the log (log_h). "
   ]
  },
  {
   "cell_type": "code",
   "execution_count": null,
   "id": "bf0cfba3-d43c-4cd2-aff3-ade46c6cf9f4",
   "metadata": {
    "tags": []
   },
   "outputs": [],
   "source": [
    "log_r_list = [0.10, 0.12, 0.17, # complete this list]\n",
    "log_h = # complete this variable\n",
    "Volume = []\n",
    "for element in log_r_list:\n",
    "    Volume.append(element * log_h)"
   ]
  },
  {
   "cell_type": "markdown",
   "id": "d8b7f7e2-472a-4229-a1ab-775ace3c4776",
   "metadata": {},
   "source": [
    "One important note about Python compared to other languages.  Spacing is important and can throw errors if not done correctly.  For instance, the line (and any other lines in the loop) after the colon (:) must be indented.  "
   ]
  },
  {
   "cell_type": "markdown",
   "id": "74db557b-cf50-4f21-b486-78a843150153",
   "metadata": {},
   "source": [
    "try to print each variable to check your answers so far:"
   ]
  },
  {
   "cell_type": "code",
   "execution_count": null,
   "id": "771dc2c8-c104-4df3-8047-e1ce2cda83b8",
   "metadata": {
    "tags": []
   },
   "outputs": [],
   "source": [
    "print( #log radius)\n",
    "print( # log height)"
   ]
  },
  {
   "cell_type": "markdown",
   "id": "fa3a5ace-d870-401e-aeaf-3bae8c1eebe0",
   "metadata": {},
   "source": [
    "Next you will need to define the value you are trying to calculate as a list  \n",
    ">*Volume = []*"
   ]
  },
  {
   "cell_type": "code",
   "execution_count": null,
   "id": "51e5e293-f60f-427b-9d8e-4d93597cd18c",
   "metadata": {
    "tags": []
   },
   "outputs": [],
   "source": [
    "Volume = []\n"
   ]
  },
  {
   "cell_type": "markdown",
   "id": "65418be4-28de-48d3-9ebc-174f3435cf2d",
   "metadata": {},
   "source": [
    "Now to setup your for loop you can use the example below:  \n",
    ">*for element in log_r_list:*  \n",
    ">>     *Volume.append(element * log_h)*\n",
    "\n",
    "The second line of code calculates volume and appends (adds on) the values of volume for all of the other elements in the radius values list multiplying each of these elements by the standard height defined above. Next print your answer.  "
   ]
  },
  {
   "cell_type": "code",
   "execution_count": null,
   "id": "0f572092-fd2a-4f8c-bb2f-0bebed09e308",
   "metadata": {
    "tags": []
   },
   "outputs": [],
   "source": [
    "for element in log_r_list:\n",
    "    Volume.append(element * log_h)"
   ]
  },
  {
   "cell_type": "code",
   "execution_count": null,
   "id": "22fc09b6-f607-4f39-a382-fe0639962d09",
   "metadata": {
    "tags": []
   },
   "outputs": [],
   "source": [
    "print(Volume)"
   ]
  },
  {
   "cell_type": "markdown",
   "id": "a8445f0e-97e7-4d12-96eb-90f209c01b61",
   "metadata": {},
   "source": [
    "Well done. You have been able to calculate the volume of each of these ten logs using Python. "
   ]
  },
  {
   "cell_type": "markdown",
   "id": "86748950-b610-4561-ad6a-1ab13a7c5192",
   "metadata": {},
   "source": [
    "<font color='blue'>3.5. Calculations using numpy module</font>  \n",
    "\n",
    "You return yet again to the old lumber yard in search of timber. This time your pockets are feeling pretty empty. You tell the yard keeper that you won't be able to afford buying enough of the standard 12 metre timber to finish construction of the timber frame of your house. The yard keeper suggest you look at the old scrapwood section which provides wood at a discounted price. The only catch is that these scrapwood logs are all different lengths. \n",
    "\n",
    "You buy another ten logs for a bargain price. The lengths are listed as follows:\n",
    "\n",
    "7.5, 7.5, 8.4, 10, 10.5, 12.2, 14.3, 14.3, 14.7, 16.1\n",
    "\n",
    "Now you need to calculate the volume of these ten different sized wooden logs, it may be worth following a new Python workflow to help you speed up this process. A new workflow is needed because you are trying to automatically do multiple lists and undertake calculations for multiple different tree logs.\n",
    "\n",
    "If you try to use the regular multiplication function across the two lists you will get an error because the function usually works with integers (whole numbers) or floats (decimal numbers). It does not work with lists. What you are actually trying to do is multiply each number or 'element' within the list. This is called an 'element-wise' multiplication. In order to progress with this element wise multiplication with lists you will need to convert them to arrays which are a series of data elements that are put into a format that can be more easily used in calculations."
   ]
  },
  {
   "cell_type": "markdown",
   "id": "69b19f22-098b-4a1c-812f-08e110066f50",
   "metadata": {},
   "source": [
    "<font color='blue'>3.5.a. Defining your two different lists / arrays.</font>  \n",
    "Firstly define your different radius values in a list called log_r_list and your length / height values in a list called log_h_list.\n",
    "\n",
    "*log_r_list = [0.10, 0.12, 0.17, 0.19, 0.22, 0.24, 0.24, 0.27, 0.33, 0.38]*  \n",
    "*log_h_list = [7.5, 7.5, 8.4, 10, 10.5, 12.2, 14.3, 14.3, 14.7, 16.1]*"
   ]
  },
  {
   "cell_type": "code",
   "execution_count": null,
   "id": "647fe810-541c-43b8-9092-e05403d5c445",
   "metadata": {
    "tags": []
   },
   "outputs": [],
   "source": [
    "log_r_list = [0.10, 0.12, # complete this list]\n",
    "log_h_list = [7.5, 7.5, # complete this list]"
   ]
  },
  {
   "cell_type": "code",
   "execution_count": null,
   "id": "b5caacc1-52f9-4221-a0ec-0ad97437aae3",
   "metadata": {
    "tags": []
   },
   "outputs": [],
   "source": [
    "type(log_r_list)"
   ]
  },
  {
   "cell_type": "markdown",
   "id": "4bc16634-630b-4090-bd62-cda7a3e83028",
   "metadata": {
    "tags": []
   },
   "source": [
    "<font color='blue'>3.5.b. Install and import NumPy Library</font>  \n",
    "The [NumPy library](https://pypi.org/project/numpy/) is a powerful external library in Python, widely used for numerical computation and working with arrays. This library is especially efficient when dealing with large arrays or multidimensional arrays.\n",
    "\n",
    "To install NumPy you can use [pip](https://realpython.com/lessons/what-is-pip-overview/) (a Python package and module manager):\n",
    "\n",
    ">*!pip install numpy*"
   ]
  },
  {
   "cell_type": "code",
   "execution_count": null,
   "id": "660e27b1-53eb-43e6-a4ab-b90520b3d0e5",
   "metadata": {
    "tags": []
   },
   "outputs": [],
   "source": []
  },
  {
   "cell_type": "markdown",
   "id": "44032a84-9430-47e1-8258-75dcd2c9b801",
   "metadata": {
    "tags": []
   },
   "source": [
    "To use numpy you must first import it as follows:\n",
    "    \n",
    ">*import numpy as np*"
   ]
  },
  {
   "cell_type": "code",
   "execution_count": null,
   "id": "0fba4d7f-de86-483f-8bfa-688bba39df9e",
   "metadata": {
    "tags": []
   },
   "outputs": [],
   "source": []
  },
  {
   "cell_type": "markdown",
   "id": "38862505-e9aa-40f3-bba3-3e22f8e8a74f",
   "metadata": {},
   "source": [
    "<font color='blue'>3.5.c. Convert lists to arrays</font>  \n",
    "\n",
    "As mentioned above you have multiple logs of different lengths / heights of wood and different radius values of logs. As part of the formula to calculate the volume you need to multiply these two different dimensions (height and radius) together. However, it will take a long time to do this manually one by one. \n",
    "\n",
    "So instead you are attempting to perform what is called an element-wise multiplication (which multiplies two elements together one at a time in two lists using NumPy. \n",
    "\n",
    "To do this, follow these general steps:\n",
    "\n",
    "Convert each list into a NumPy array using \n",
    ">    *array_ListName = numpy.array(List).*"
   ]
  },
  {
   "cell_type": "code",
   "execution_count": null,
   "id": "852e87a5-8443-4edd-9e44-5c3307873c2f",
   "metadata": {
    "tags": []
   },
   "outputs": [],
   "source": [
    "array_h = np.array(  # height list variable)"
   ]
  },
  {
   "cell_type": "code",
   "execution_count": null,
   "id": "7b07372e-331f-443d-96e6-33770240bd72",
   "metadata": {
    "tags": []
   },
   "outputs": [],
   "source": [
    "array_r = np.array(  # radius list variable)"
   ]
  },
  {
   "cell_type": "code",
   "execution_count": null,
   "id": "ba600a77-3c16-40fa-8906-4aefbb250e9d",
   "metadata": {
    "tags": []
   },
   "outputs": [],
   "source": [
    "type(array_h)  # to confirm that a Numpy array has indeed been created from a list you can do a type check"
   ]
  },
  {
   "cell_type": "markdown",
   "id": "07b807a7-09ae-4dc3-a578-6d4ebce0389c",
   "metadata": {},
   "source": [
    "<font color='blue'>3.5.d. Retrieve values for each of the arrays</font> \n",
    "\n",
    "This can be done by just typing in the arrays in separate code cell blocks.  "
   ]
  },
  {
   "cell_type": "code",
   "execution_count": null,
   "id": "d0acd07b-f268-4ab7-861a-d6a65242375a",
   "metadata": {
    "tags": []
   },
   "outputs": [],
   "source": [
    "array_h"
   ]
  },
  {
   "cell_type": "code",
   "execution_count": null,
   "id": "0c1bb6f6-c0a8-4b53-8c20-ffe83d5ac5a5",
   "metadata": {
    "tags": []
   },
   "outputs": [],
   "source": [
    " # replicate for radius"
   ]
  },
  {
   "cell_type": "markdown",
   "id": "13e4167a-36f4-4aab-a7ee-d9b5d9fbbcf1",
   "metadata": {
    "tags": []
   },
   "source": [
    "<font color='blue'>3.5.e. Define a new variable for the volume_scrapwood</font>  \n",
    "Add the arrays into the formula for volume of the cylinder. Then retrieve the value of this variable in a separate cell block. \n"
   ]
  },
  {
   "cell_type": "code",
   "execution_count": null,
   "id": "ac38811e-8bd0-4d15-a65b-1de25bd16944",
   "metadata": {
    "tags": []
   },
   "outputs": [],
   "source": [
    "Volume_scrapwood = pi*(np.multiply(array_r**2, # insert height array variable))"
   ]
  },
  {
   "cell_type": "code",
   "execution_count": null,
   "id": "fe0ff892-2c72-444e-af7c-ab34a66eb773",
   "metadata": {
    "tags": []
   },
   "outputs": [],
   "source": [
    "Volume_scrapwood"
   ]
  },
  {
   "cell_type": "markdown",
   "id": "f2caf469-06a5-400f-9e5b-8a24aaf9a6e7",
   "metadata": {},
   "source": [
    "Congratulations, you have completed the activity by using NumPy Libraries to work with two different array datasets.  "
   ]
  },
  {
   "cell_type": "markdown",
   "id": "395d0768-24d8-483e-818d-6ff43e0ac936",
   "metadata": {
    "tags": []
   },
   "source": [
    "#### **Section 4. Lists and flow control in Python**\n",
    "\n",
    "<font color='blue'>4.1.a. Additional tips and tricks for using Python</font>  \n",
    "\n",
    "1. You would normally list all your modules in the first code block in your notebook.  \n",
    "2. If your notebook is having problems, you can always try Kernel ! Restart & Run All. This can be found at the top of our notebook on your menu panel. It is denoted by the buttons next to the markdown / code selector.   \n",
    "3. There are four different cell types in your notebook. The default, and most common, is code.  \n",
    "4. We also use Markdown cells to write formatted text (see here). This is important because you will use cells like this to type answers to the activity questions!\n",
    "5. You should be able to take your .ipynb file away with you and use it on another computer – provided you have the relevant python modules installed.  \n",
    "6. Your activity reports will be all done in your .ipynb. Then, you will print it to a pdf to submit  \n",
    "\n"
   ]
  },
  {
   "cell_type": "markdown",
   "id": "16f8154e-800f-45a6-993a-e70b85a7cf22",
   "metadata": {},
   "source": [
    "<font color='blue'>4.1.b. Lists continued...</font>  \n",
    "\n",
    "As mentioned in Section 3, lists are sequences of data. These are some examples that contain integers, floats and strings.   \n",
    "x = [0, 1, 2, 2]  \n",
    "y = [4, 4.0, ’four’]  \n",
    "z = [x, y, 1, [2,3] ]  \n"
   ]
  },
  {
   "cell_type": "markdown",
   "id": "f8570898-8a12-432b-834a-fbd909d3bf80",
   "metadata": {},
   "source": [
    "Lists can contain anything: integers, floats, strings and even other lists.  \n",
    "Indexing begins at zero. Lists are denoted by []:  \n",
    "Some examples:  \n",
    "\n",
    "> x = [1,2,3,4,5]  \n",
    "\n",
    "Try to print the list elements 1, 3, 5. \n",
    "\n",
    "First define the list and then print the elements based on their order in the list by placing the order number in square brackets []."
   ]
  },
  {
   "cell_type": "code",
   "execution_count": null,
   "id": "e4f5ea17-f12c-4ed0-a800-9fbcc55b5fc1",
   "metadata": {
    "tags": []
   },
   "outputs": [],
   "source": [
    "x = [1,2,3,4,5]  \n",
    "\n",
    "print(x[0])\n",
    "print(x[2])\n",
    "print(x[4])\n"
   ]
  },
  {
   "cell_type": "markdown",
   "id": "c046b1a1-005b-490e-b164-ae702a28234a",
   "metadata": {},
   "source": [
    "list(range(N)) will generate an ’index list’ of size N (which means a sequence of 1, 2, 3.... all the way to 'N' as defined in the list. For example you can define a list of 1-10 by following the example below: \n",
    "\n",
    "> *list(range(10))  *  \n",
    "\n",
    "Retrieve the list below: "
   ]
  },
  {
   "cell_type": "markdown",
   "id": "78009b98-0a03-4711-b642-8e01de8e6048",
   "metadata": {},
   "source": [
    "Define a new list that extends all the way to the value of 10. "
   ]
  },
  {
   "cell_type": "code",
   "execution_count": null,
   "id": "8f5d80b6-1c90-45c9-b3b7-0ff6dda36765",
   "metadata": {
    "tags": []
   },
   "outputs": [],
   "source": [
    "list(range(10))"
   ]
  },
  {
   "cell_type": "markdown",
   "id": "753aa900-e455-4285-836d-040a0507d28c",
   "metadata": {},
   "source": [
    "<font color='blue'>4.1.c. Slicing in lists</font>  \n",
    "\n",
    "Slicing involves cutting a list into smaller segments or subsets.\n",
    "\n",
    "x[min:max] outputs a segment from min ≤ i < max.  \n",
    "For x = list(range(8)), try the following:  \n",
    ">*x[3:6]*    \n",
    ">*x[:6]*    \n",
    ">*x[3:]*    \n",
    ">*x[:]*    \n",
    "When omitted, min = 0 and max = len(x)\n",
    "\n",
    "First define the list as x. "
   ]
  },
  {
   "cell_type": "code",
   "execution_count": null,
   "id": "104e657c-56e8-47ad-bccb-5a4ca9e1f928",
   "metadata": {
    "tags": []
   },
   "outputs": [],
   "source": [
    "x = list(range(8))"
   ]
  },
  {
   "cell_type": "markdown",
   "id": "57f6e1f4-3e57-4e71-a335-2522ee2304f3",
   "metadata": {},
   "source": [
    "Try to input each of these slices either by printing them in a single code cell block or by typing them in separate code cell blocks:"
   ]
  },
  {
   "cell_type": "code",
   "execution_count": null,
   "id": "00dcc8ac-990a-43e7-8db7-e3f1776f3a64",
   "metadata": {
    "tags": []
   },
   "outputs": [],
   "source": [
    "print(x[3:6])\n",
    "# complete this for all the other examples above\n"
   ]
  },
  {
   "cell_type": "markdown",
   "id": "99f9e517-de74-473a-88f9-ea78650a8894",
   "metadata": {},
   "source": [
    "<font color='blue'>4.2. Striding in lists...</font>  \n",
    "\n",
    "Strides can allow you to display or analyse elements at intervals while skipping certain elements. This might be useful for analysing data at specific time steps e.g. tidal extent during the spring tide once a month.  \n",
    "\n",
    "To learn more abut strides, first define a list of 50 elements. "
   ]
  },
  {
   "cell_type": "code",
   "execution_count": null,
   "id": "f833ecd5-c38b-4517-a228-049b3daa2a74",
   "metadata": {
    "tags": []
   },
   "outputs": [],
   "source": [
    "x = list(range(50))\n",
    "print(x)"
   ]
  },
  {
   "cell_type": "markdown",
   "id": "f2cdeba4-371b-4544-a7ab-eeb3efb0a746",
   "metadata": {},
   "source": [
    "Try to print the following to see how strides work: \n",
    "\n",
    "A second colon denotes stride, e.g. x[min:max:stride]   \n",
    "x[::3] returns every third element  \n",
    "\n",
    "Try printing the results of each of these strides for the list x defined above:\n",
    "> x[::2]  \n",
    "[0, 2, 4, 6, 8]  \n",
    "> x[2::3]  \n",
    "[2, 5, 8]  \n",
    "> x[::-1] # Reverse stride  \n",
    "[9, 8, 7, 6, 5, 4, 3, 2, 1, 0]  \n"
   ]
  },
  {
   "cell_type": "code",
   "execution_count": null,
   "id": "dba2cfdc-4bf5-467d-b92f-670576258eda",
   "metadata": {
    "tags": []
   },
   "outputs": [],
   "source": [
    "print('1.',(x[::2]))\n",
    "print('2.',([0,2,4,6,8]))\n",
    "print('3.',(x[2::3]))\n",
    "\n",
    "# Complete for examples 4, 5, 6\n"
   ]
  },
  {
   "cell_type": "markdown",
   "id": "d0c7edf7-4f29-48ab-a73d-3e8e28dd44b5",
   "metadata": {},
   "source": [
    "<font color='blue'>4.3. Lists Quiz</font>  \n",
    "\n",
    "Write some code that reads a number N (where N is more than or equal to 20) using this command:  \n",
    ">x = list[N]  \n",
    "\n"
   ]
  },
  {
   "cell_type": "code",
   "execution_count": null,
   "id": "42317474-4799-4933-9456-1ac737c736f3",
   "metadata": {
    "tags": []
   },
   "outputs": [],
   "source": [
    "# Define list\n",
    "\n",
    "# Print list\n",
    "\n"
   ]
  },
  {
   "cell_type": "markdown",
   "id": "e3298876-426c-45cb-b804-4cfb79fd2d34",
   "metadata": {},
   "source": [
    "After creating a list print the following:  \n",
    "a. The entire list  \n",
    "b. The reversed list  \n",
    "c. The first six elements  \n",
    "d. The last three  "
   ]
  },
  {
   "cell_type": "code",
   "execution_count": null,
   "id": "582c83dc-1bec-4b4a-91c2-fec712b072a0",
   "metadata": {
    "tags": []
   },
   "outputs": [],
   "source": [
    "# Print answers for a, b, c, d below:\n"
   ]
  },
  {
   "cell_type": "markdown",
   "id": "3b79fbd5-6e90-494d-9e91-223b0e7e902b",
   "metadata": {},
   "source": [
    "<font color='blue'>4.4. Tuples</font>  \n",
    "\n",
    "Tuple. Tuples are used to store multiple items in a single variable.  \n",
    "> x = tuple([1,2,3])  \n",
    "> x  \n",
    "(1, 2, 3)  \n",
    "> x[0] = 5  \n",
    "A favorite swap trick:  \n",
    "> x = 1  \n",
    "> y = 2  \n",
    "> x, y = y, x  \n",
    "Parentheses are often implicit.  "
   ]
  },
  {
   "cell_type": "markdown",
   "id": "b521deaa-35e6-4116-885c-81e263a288e2",
   "metadata": {},
   "source": [
    "<font color='blue'>4.5. Basic flow control</font>  \n",
    "\n",
    "Flow control refers to conditions that influence workflows and automation of processes. One major set of examples of flow control includes the **'if-elif-else control.'**  \n",
    "\n",
    "<font color='blue'>4.5.a if elif else control</font>  \n",
    "\n",
    "An introductory example of if elif else control:  \n",
    "\n",
    ">x = 1  \n",
    ">if x > 0:  \n",
    ">print(\"x is positive\")  \n",
    ">elif x < 0:  \n",
    ">print(\"x is negative\")  \n",
    ">else:  \n",
    ">print(\"x is zero\")\n",
    "\n",
    "Try to enter this code line by line below and notice the indenting as pointed out above:"
   ]
  },
  {
   "cell_type": "code",
   "execution_count": null,
   "id": "df361b8c-72f5-49b2-88b6-1c05aadf67b9",
   "metadata": {
    "tags": []
   },
   "outputs": [],
   "source": [
    "x = 1\n",
    "if x > 0:\n",
    "    print(\"x is positive\")\n",
    "elif x<0:\n",
    "    print(\"x is negative\")\n",
    "else:\n",
    "    print(\"x is zero\")"
   ]
  },
  {
   "cell_type": "markdown",
   "id": "663c7e3c-0d88-441e-b632-dae3a4272fb6",
   "metadata": {},
   "source": [
    "Now re-enter the code but this time make x = -1"
   ]
  },
  {
   "cell_type": "code",
   "execution_count": null,
   "id": "7651d896-1e82-4969-bb6b-ce7087eee7d4",
   "metadata": {
    "tags": []
   },
   "outputs": [],
   "source": [
    "x = -1\n",
    "if x > 0:\n",
    "    print(\"x is positive\")\n",
    "elif x<0:\n",
    "    print(\"x is negative\")\n",
    "else:\n",
    "    print(\"x is zero\")"
   ]
  },
  {
   "cell_type": "markdown",
   "id": "aae47a65-e6d0-433b-8b70-54c3e9171fd2",
   "metadata": {
    "tags": []
   },
   "source": [
    "**Notice:**  \n",
    "1. Conditionals end with :  \n",
    "2. There is no endif, closing bracket, etc.  \n",
    "3. Indentation is mandatory!"
   ]
  },
  {
   "cell_type": "markdown",
   "id": "8ca72737-44d8-4db8-8859-caee23bf2087",
   "metadata": {
    "tags": []
   },
   "source": [
    "<font color='blue'>4.5.b. Refresher on for loops</font>  \n",
    "\n",
    "The most common Python loop:  \n",
    ">for i in list(range(10)):  \n",
    ">>print(i)  \n",
    "\n",
    "Try running these two lines below (take care with your indents):"
   ]
  },
  {
   "cell_type": "code",
   "execution_count": null,
   "id": "48496eec-8087-4b45-84c4-227f0c6f1a75",
   "metadata": {
    "tags": []
   },
   "outputs": [],
   "source": []
  },
  {
   "cell_type": "markdown",
   "id": "cdbe38e6-b8f8-4fb5-bc2e-877924e64567",
   "metadata": {},
   "source": [
    "In Python, you iterate through the list:  \n",
    ">x = [1, 3, 7, 'apple', 'banana']  \n",
    ">for i in x:  \n",
    ">>    print(i) \n",
    "\n",
    "Iterating through elements is preferred (and usually fastest).\n",
    "\n",
    "Try running this code below (take care with your indents):"
   ]
  },
  {
   "cell_type": "code",
   "execution_count": null,
   "id": "0fc44f0b-7dc0-4595-ad35-a8ce31de5d25",
   "metadata": {
    "tags": []
   },
   "outputs": [],
   "source": [
    "\n"
   ]
  },
  {
   "cell_type": "markdown",
   "id": "4ba8c328-7072-4d54-8fdb-4fb1d7620fce",
   "metadata": {
    "tags": []
   },
   "source": [
    "#### **Section 5. Plotting in Python using Matplotlib**\n",
    "\n",
    "[**Matplotlib**](https://matplotlib.org/) is a plotting library for the Python programming language and its numerical mathematics extension NumPy.\n",
    "Matplotlib is a rendering API for 2D (and limited 3D) plotting"
   ]
  },
  {
   "cell_type": "markdown",
   "id": "b3d450b4-7416-4ea9-8f0b-5b831c169899",
   "metadata": {},
   "source": [
    "<div><img src=\"https://github.com/digitalearthpacific/DigitalEarthPacific/blob/main/notebooks/DEP_LCAST/reference_materials/images/5.1.a.png?raw=true\" width=\"800\"/></div>\n",
    "\n",
    "Figure 5.1.a. Examples of matplotlib for rendering in 2D and limited 3D. \n",
    "<!-- ![image.png](attachment:abfdb4e9-0f14-4d11-8362-55e0b5f92c26.png)   -->"
   ]
  },
  {
   "cell_type": "markdown",
   "id": "49ffa0ac-af78-4a1c-9353-cd1d077340c7",
   "metadata": {},
   "source": [
    "\n",
    "[**matplotlib.pyplot**](https://matplotlib.org/3.5.3/api/_as_gen/matplotlib.pyplot.html) is a streamlined Matlab-like interface to Matplotlib which allows for complex mathematical and plotting functions. This allows or generation of a range of different types of plots and charts including but not limited to: line plots, bar charts, pie charts, scatter plots, spider web plots and more.\n",
    "\n",
    "\n",
    ">*%matplotlib inline*  \n",
    ">*import matplotlib.pyplot as pl*"
   ]
  },
  {
   "cell_type": "markdown",
   "id": "9087a5b3-6caf-46be-8193-65ccf3a28956",
   "metadata": {},
   "source": [
    "<div><img src=\"https://github.com/digitalearthpacific/DigitalEarthPacific/blob/main/notebooks/DEP_LCAST/reference_materials/images/5.1.b.png?raw=true\" width=\"790\"/></div>\n",
    "\n",
    "\n",
    "Figure 5.1.b. Examples of different 2D plots through motplotlib.pyplot\n",
    "\n",
    "<font color='blue'>5.1.c. Install and import matplotlib</font>  \n",
    "\n",
    "\n",
    "For your notebook, you will want to turn the inline option on:"
   ]
  },
  {
   "cell_type": "code",
   "execution_count": null,
   "id": "5675dc0e-5ea1-41fb-b5db-5cf04ce43007",
   "metadata": {
    "tags": []
   },
   "outputs": [],
   "source": [
    "    %matplotlib inline\n",
    "    import matplotlib.pyplot as plt"
   ]
  },
  {
   "cell_type": "markdown",
   "id": "bb3d9de8-8310-44cd-bc8c-736fa858b73c",
   "metadata": {},
   "source": [
    "<font color='blue'>5.2.a. Plotting with matplotlib and NumPy</font>  \n",
    "\n",
    "Plot an increasing list where x ranges from 0 to 50. \n",
    "\n",
    ">x = list(range(51))\n",
    "\n",
    ">plt.plot(x)\n"
   ]
  },
  {
   "cell_type": "code",
   "execution_count": null,
   "id": "6d30f9be-e3fe-4afc-bdfe-7c9d8ce971ae",
   "metadata": {
    "tags": []
   },
   "outputs": [],
   "source": [
    "x = [2, 4, 6, 8, 6, 4, 2]\n",
    "y = [1, 2, 3, 4, 3, 2, 1]\n",
    "print(x)\n",
    "\n",
    "plt.plot(x)"
   ]
  },
  {
   "cell_type": "markdown",
   "id": "f3f055ef-6460-49f1-9bb0-f3e567c493d4",
   "metadata": {},
   "source": [
    "<font color='blue'>5.2.b. Plotting with matplotlib and NumPy</font>  \n",
    "\n",
    "Plot a list where x ranges from -10 to 10 with increments of 1\n",
    "\n",
    ">x = [range(-10,10,1)]\n"
   ]
  },
  {
   "cell_type": "code",
   "execution_count": null,
   "id": "5961474b-e1eb-4f1e-879b-32317663d4cf",
   "metadata": {
    "tags": []
   },
   "outputs": [],
   "source": [
    "%matplotlib inline  \n",
    "import numpy as np  \n",
    "import matplotlib.pyplot as plt\n",
    "\n",
    "x = np.linspace(-2, 2)\n",
    "y = x\n",
    "plt.plot(x,y)\n"
   ]
  },
  {
   "cell_type": "markdown",
   "id": "08bbbac9-48b8-4b18-9a5a-ed7130952c60",
   "metadata": {},
   "source": [
    "<font color='blue'>5.2.c. Plotting example of coarse tidal data</font>  \n",
    "\n",
    "You have recieved some coarse tidal data for five days from the tidal gauge monitored by Tonga Geological Services and the Meteorological Office. The tide seems to rise and fall approximately +/-1 metre from the mean sea level over time. You have been asked to plot these tidal dynamics.   \n"
   ]
  },
  {
   "cell_type": "markdown",
   "id": "198b5c9a-b0b5-47e9-8175-fa1e81953c80",
   "metadata": {
    "tags": []
   },
   "source": [
    "<div><img src=\"https://github.com/digitalearthpacific/DigitalEarthPacific/blob/main/notebooks/DEP_LCAST/reference_materials/images/5.2.d.JPG?raw=true\" width=\"650\"/></div>\n",
    "Figure 5.2.d. With support from the Australian Government, the Tongan Government, and the Pacific Community (SPC), a tide gauge has been recording sea level and climate information in Tonga since January 1993.   \n",
    "\n",
    "Original article sourced from [SPC, 2020](https://www.spc.int/updates/blog/2020/02/state-of-the-art-tonga-tide-gauge)\n",
    "\n",
    "To get started follow the example code below:"
   ]
  },
  {
   "cell_type": "markdown",
   "id": "1c2f9f56-3043-4981-8b28-bd4e0669efb1",
   "metadata": {},
   "source": []
  },
  {
   "cell_type": "code",
   "execution_count": null,
   "id": "e666031d-0191-46c1-a87b-00d782536b7b",
   "metadata": {
    "tags": []
   },
   "outputs": [],
   "source": [
    "# Create figure() objects\n",
    "# This acts as a container\n",
    "# for the different plots\n",
    "# The tide rises and falls every 12 hours over 5 days by +/- 1m from the mean sea level\n",
    "x = [0,12,24,36,48,60,72,84,96,108,120]\n",
    "y = [1,-1,1,-1,1,-1,1,-1,1,-1,1]\n",
    "\n",
    "# # Creating axis\n",
    "# # add_axes([xmin,ymin,dx,dy])\n",
    "# axes = fig.add_axes([-2, 0, 5, 2])\n",
    "  \n",
    "# Change the size of the plot\n",
    "# Adjust the size to include all five days\n",
    "plt.figure(figsize=(8,4))\n",
    "    \n",
    "# Plot the coarse tidal data\n",
    "plt.plot(x,y)\n",
    "\n",
    "# Visualise the coarse tidal data\n",
    "plt.show"
   ]
  },
  {
   "cell_type": "markdown",
   "id": "c3e69bef-82bf-49af-9da6-e5e71364e251",
   "metadata": {},
   "source": [
    "<font color='blue'>5.2.d. Adding axes and a horizontal line to your plot</font>  \n",
    "\n",
    "Your director is happy with your plot but wants to see where the mean sea level is in the plot. You have been asked to provide additional axes and to label them properly.  \n",
    "\n",
    "rect: This parameter is the dimensions [xmin, ymin, dx, dy] of the new axes. It takes the below elements as arguments in the list:\n",
    "\n",
    "    xmin: Horizontal coordinate of the lower left corner.\n",
    "    ymin: Vertical coordinate of the lower left corner.\n",
    "    dx: Width of the subplot.\n",
    "    dy: Height of the subplot.\n",
    " \n",
    "To get started follow the example code below:"
   ]
  },
  {
   "cell_type": "code",
   "execution_count": null,
   "id": "c0db7302-850e-42b6-857d-74911f3ef9b9",
   "metadata": {
    "tags": []
   },
   "outputs": [],
   "source": [
    "# Tidal data\n",
    "x = [0,12,24,36,48,60,72,84,96,108,120]\n",
    "y = [1,-1,1,-1,1,-1,1,-1,1,-1,1]\n",
    "\n",
    "# Create figure() objects. This acts as a container for the different plots\n",
    "# fig=plt.figure()\n",
    "\n",
    "# Define Mean Sea Level (MSL) as a horizontal line using the plt.axhline function\n",
    "plt.axhline(y=0, xmin=0, xmax=1)\n",
    "\n",
    "# Creating two axes\n",
    "# add_axes([xmin,ymin,dx,dy])\n",
    "# Main_axes=fig.add_axes([0,0,5,2]) \n",
    "\n",
    "# Define size of figure\n",
    "# plt.plot(figsize=(10,5))\n",
    "\n",
    "# plt.figure.add_axes(rect)\n",
    "plt.plot(x,y)\n",
    "\n",
    "# plt.plot(msl) in red\n",
    "plt.axhline(linewidth=4, color='r')\n"
   ]
  },
  {
   "cell_type": "markdown",
   "id": "6678f492-72cc-412b-a889-5ff91fecfc64",
   "metadata": {},
   "source": [
    "<font color='blue'>5.2.e. Adding labels to your plot</font>  \n",
    "\n",
    "Some of the audiences who have viewed your chart have been a bit confused about what precisely is being plotted along the x and y axes. As a result, your director has asked you to include axes labels. \n",
    "\n",
    "Firstly, include axes labels:\n",
    "> *fig, ax = plt.subplots()*\n",
    "\n",
    "Secondly, give the labels names \n",
    ">*ax.set_ylabel('Tide level relative to mean sea level (metres)')*\n",
    ">*ax.set_xlabel('Time in hours')*\n",
    "\n",
    "Thirdly, plot the chart. \n",
    ">*plt.plot(x,y)*\n",
    "\n"
   ]
  },
  {
   "cell_type": "code",
   "execution_count": null,
   "id": "a9da1a66-50c6-4ebd-91e0-26e85b3086e3",
   "metadata": {
    "tags": []
   },
   "outputs": [],
   "source": [
    "# Add axes labels\n",
    "fig, ax = plt.subplots()\n",
    "\n",
    "# Set axis labels\n",
    "ax.set_ylabel('Tide level relative to mean sea level (metres)')\n",
    "ax.set_xlabel('Time in hours')\n",
    "\n",
    "# Include plot\n",
    "plt.plot(x,y)\n",
    "\n",
    "# plt.plot(msl) in red\n",
    "plt.axhline(linewidth=4, color='r')"
   ]
  },
  {
   "cell_type": "markdown",
   "id": "8c3096c4-d4c1-4a90-a00f-80e4696f63ab",
   "metadata": {},
   "source": [
    "<font color='blue'>5.2.f. Plotting with matplotlib and NumPy</font>  \n",
    "\n",
    "You have been given instructions to more accurately estimate or model tidal dynamics. \n",
    "\n",
    ">*(-2. x pi, 2 x pi, 100)*\n",
    "\n",
    "To plot the tides using these instructoins, you will need to again import NumPy. \n",
    "\n",
    ">%matplotlib inline  \n",
    ">import numpy as np  \n",
    ">import matplotlib.pyplot as plt  \n",
    "\n"
   ]
  },
  {
   "cell_type": "code",
   "execution_count": null,
   "id": "e657d339-2f10-4f6a-a62e-d9bd79b09943",
   "metadata": {
    "tags": []
   },
   "outputs": [],
   "source": [
    "%matplotlib inline\n",
    "import numpy as np\n",
    "import matplotlib.pyplot as plt\n"
   ]
  },
  {
   "cell_type": "markdown",
   "id": "1da72e0b-23f6-468a-a7c8-5c79a9a35822",
   "metadata": {},
   "source": [
    "Next you will need to plot out the instructions defining x and y as follows: \n",
    "\n",
    ">x = np.linspace(-2.*np.pi, 2.*np.pi, 100)  \n",
    ">y = np.sin(x)  \n",
    "\n",
    "Then plot the tidal variability:\n",
    ">plt.plot(x, y) "
   ]
  },
  {
   "cell_type": "code",
   "execution_count": null,
   "id": "9c8a9509-f247-43fb-9774-8ea1449e7735",
   "metadata": {
    "tags": []
   },
   "outputs": [],
   "source": [
    "x = np.linspace(-2.*np.pi, 2.*np.pi, 100)\n",
    "y = np.sin(x)\n",
    "plt.plot(x, y) "
   ]
  },
  {
   "cell_type": "markdown",
   "id": "3eedf8f1-6579-4760-b496-a4564b86abd1",
   "metadata": {},
   "source": [
    "Notice that this curve is much smoother than the previous coarse data because it uses a NumPy trigonometry function sine curve. For this DEP LCAST workshop you will not need to learn any of these formulae. Instead we just want you to be familiar with the different concepts and how they might be applied across a range of problem solving contexts.    "
   ]
  },
  {
   "cell_type": "markdown",
   "id": "9b795852-014c-4b2e-a6ce-c6dd48cc689b",
   "metadata": {},
   "source": [
    "<font color='blue'>5.2.g. Multiple plots example</font>  \n",
    "\n",
    "Your director has asked you to plot and compare tidal dynamics across three different months. Here is an example of what this might look like:\n",
    "\n",
    "    x = np.linspace(-2.*np.pi, 2.*np.pi, 100)\n",
    "    phase = np.arange(0., 2*np.pi, 2*np.pi/3.)\n",
    "    y_n = [np.sin(x + p) for p in phase]\n",
    "    for y in y_n:\n",
    "\n",
    "        plt.plot(x, y)\n",
    "\n",
    "\n",
    "Simply copy this code below taking care with indentation to see what comparing multiple plots might look like."
   ]
  },
  {
   "cell_type": "code",
   "execution_count": null,
   "id": "d4815a2e-1bad-4565-ab21-bd28056b59d2",
   "metadata": {
    "tags": []
   },
   "outputs": [],
   "source": [
    "x = np.linspace(-2.*np.pi, 2.*np.pi, 100)\n",
    "phase = np.arange(0., 2*np.pi, 2*np.pi/3.)\n",
    "y_n = [np.sin(x + p) for p in phase]\n",
    "for y in y_n:\n",
    "    plt.plot(x, y)"
   ]
  },
  {
   "cell_type": "markdown",
   "id": "7b851ba7-7339-4f32-a903-63a8ade87be4",
   "metadata": {},
   "source": [
    "**For more information about matplotlib refer to the following sources:**  \n",
    "\n",
    "- https://www.geeksforgeeks.org/matplotlib-axes-axes-get_ylabel-in-python/?ref=ml_lbp\n",
    "- https://www.geeksforgeeks.org/how-to-add-axes-to-a-figure-in-matplotlib-with-python/  \n",
    "- https://www.freecodecamp.org/news/matplotlib-figure-size-change-plot-size-in-python/  \n",
    "- https://matplotlib.org/3.5.3/api/_as_gen/matplotlib.pyplot.html  \n",
    "- https://matplotlib.org\n",
    "\n",
    "Also, Matplotlib is a foundational data visualisation library for Python.  However, there is a very rich and growing Python data visualisation ecosystem to explore.  This link discusses five of the most common, but there is much beyond these.  https://learnpython.com/blog/python-libraries-data-visualization/"
   ]
  },
  {
   "cell_type": "markdown",
   "id": "5238768e-d57e-4afd-bfa1-31ae5bc4d8a0",
   "metadata": {
    "tags": []
   },
   "source": [
    "#### **Section 6. Activity using population and land area datasets from Tonga**"
   ]
  },
  {
   "cell_type": "markdown",
   "id": "c80ddb7e-8c27-490d-8085-9e085317958f",
   "metadata": {},
   "source": [
    "In this section, we cover activities that bring together the different areas of Python you have learned through Sections 1 through 5 to consolidate and reinforce the lessons learned thusfar.\n",
    "\n",
    "In order to do so we will be exploring various datasets from Tonga.\n",
    "\n",
    "**Table 6.1.a. Population and area figures based on National Statistics Office of Tonga Census Data for 2021.**  \n",
    "| **Island / Group** | **Population (2021 Census)** | **Area (km2)** | **Population density (population/km2)** | \n",
    "|--------- |----- | ----- |  ----  |\n",
    "|  **Tongatapu**  | 74454 | 260 |      |\n",
    "|  **Vavau**  | 14182 | 109 |     |\n",
    "|  **Haapai**  | 5665 | 96 |     |\n",
    "|  **Eua**  | 4864 | 87 |     |\n",
    "|  **Niuatoputapu**  | 719 | 7 |    |  \n",
    "|  **Niuafoou** | 431 | 32 |     |\n",
    "|  **Total** |    |  |     |\n",
    "\n",
    "Noting that there are a number of blank spaces in this table, your goal is to :\n",
    "\n",
    "<font color='blue'>6.2.a. Calculate the total population and total area of Tonga based on the numbers here by defining each of the values in a dictionary of key-pair values. This will require one dictionary for population and one for area. </font>   \n",
    "\n",
    "Define two dictionaries 1) **TotalPopulation_Tonga** and a 2) **TotalArea_Tonga.** \n",
    "\n",
    "**Hint:** in these dictionaries it would be best to define the key first in single quotes and the value second as an integer. Also note that it is important that you keep the same order for both dictionaries so that each of the different island groups lines up in the same order across both dictionaries. "
   ]
  },
  {
   "cell_type": "code",
   "execution_count": null,
   "id": "51244612-4479-4c1e-97fa-a8beaf7dca27",
   "metadata": {
    "tags": []
   },
   "outputs": [],
   "source": [
    "TotalPopulation_Tonga = {'Tongatapu_population':74454,'Vavau_population':14182,'Haapai_population':5665, # complete remaining island groups based on example}"
   ]
  },
  {
   "cell_type": "code",
   "execution_count": null,
   "id": "86024cc3-8906-4057-8cc1-b180b50bbcf7",
   "metadata": {
    "tags": []
   },
   "outputs": [],
   "source": [
    "TotalArea_Tonga = {'Tongatapu_area':260,'Vavau_area':96,'Haapai_area':109, # complete remaining island groups based on example}"
   ]
  },
  {
   "cell_type": "markdown",
   "id": "8e2f6363-d154-49c3-ab66-c63d75df1213",
   "metadata": {},
   "source": [
    "After defining the two dictionaries your next aim is to sum each dictionary to find the total:  \n",
    "a) First define a new variable called Population values and use the values function to work out the dictionary values. \n",
    "> TotalPopulation_Tonga.values()"
   ]
  },
  {
   "cell_type": "code",
   "execution_count": null,
   "id": "2aa9dc10-6d36-4254-95b4-e84b544767eb",
   "metadata": {
    "tags": []
   },
   "outputs": [],
   "source": [
    "PopulationValues = TotalPopulation_Tonga.values()"
   ]
  },
  {
   "cell_type": "markdown",
   "id": "f9d8babb-c480-4f5b-9d18-cd633940d8cb",
   "metadata": {},
   "source": [
    "b) Next use the sum function to find the sum of these dictionary values. "
   ]
  },
  {
   "cell_type": "code",
   "execution_count": null,
   "id": "907f6cdb-c2b4-4fab-922e-86418695758d",
   "metadata": {
    "tags": []
   },
   "outputs": [],
   "source": [
    "sum( # population variable from above)"
   ]
  },
  {
   "cell_type": "markdown",
   "id": "62da85a5-4e95-45e0-b2e0-7f3dad7a9576",
   "metadata": {
    "tags": []
   },
   "source": [
    "<font color='blue'>6.2.b. Google 'total population in Tonga'. How does this compare to the result given? What might be some of the reasons for the differences? </font>   \n",
    "\n",
    "Next begin working on the same worfklow for areas\n"
   ]
  },
  {
   "cell_type": "code",
   "execution_count": null,
   "id": "f5db0439-33ab-48c7-926c-e8d0886f7cef",
   "metadata": {
    "tags": []
   },
   "outputs": [],
   "source": [
    "# Define area values variable based on exapmle above"
   ]
  },
  {
   "cell_type": "code",
   "execution_count": null,
   "id": "b2b2f20b-f355-4daa-85d9-e1605772e0ba",
   "metadata": {
    "tags": []
   },
   "outputs": [],
   "source": [
    "# area values based on example above"
   ]
  },
  {
   "cell_type": "markdown",
   "id": "74ee2054-cfe0-4a8d-9d33-1c57c56f3faf",
   "metadata": {},
   "source": [
    "<font color='blue'>6.2.d. Google 'total landmass area in Tonga'. How does this compare to the result given? What might be some of the reasons for the differences?   </font>   "
   ]
  },
  {
   "cell_type": "markdown",
   "id": "28d10dbd-2bca-493b-8b47-12fa0da9880c",
   "metadata": {
    "tags": []
   },
   "source": [
    "<img src=\"https://github.com/digitalearthpacific/DigitalEarthPacific/blob/main/notebooks/DEP_LCAST/reference_materials/images/6.2.e.JPG?raw=true\" width=\"600\"/>  \n"
   ]
  },
  {
   "cell_type": "markdown",
   "id": "4e67d731-e930-4f99-8e66-b20f69ba6771",
   "metadata": {},
   "source": [
    "Figure 6.2.e. Map of the Kingdom of Tonga ([Bosco, 2023](https://www.pinterest.com.au/pin/tonga-vacations-by-destination-world--327636941611978972/))"
   ]
  },
  {
   "cell_type": "markdown",
   "id": "40ba71de-895b-4bb8-8913-9e5bd99c739e",
   "metadata": {},
   "source": [
    "<font color='blue'>6.3. Well done. You have completed the totals row at the bottom of the table. The remaining gaps sit in the final column of the table under the title 'Population density (population/km2). Your next task is to calculate the population density for each of the island groups in the table and then the total. </font>   \n",
    "\n",
    "**Hint:** in order to do this you will first need to convert the two values variables into lists:\n"
   ]
  },
  {
   "cell_type": "code",
   "execution_count": null,
   "id": "3e8cd81d-d858-4ca2-a1ec-b4b720a24fc9",
   "metadata": {
    "tags": []
   },
   "outputs": [],
   "source": [
    "list_population = list(PopulationValues)\n",
    "list_population"
   ]
  },
  {
   "cell_type": "code",
   "execution_count": null,
   "id": "b2cfeb98-69bf-43b7-87b9-df59c69266a6",
   "metadata": {
    "tags": []
   },
   "outputs": [],
   "source": [
    "# replicate this workflow for areas\n",
    "\n"
   ]
  },
  {
   "cell_type": "markdown",
   "id": "8960a66c-f710-4d7f-b7e7-283d364b7600",
   "metadata": {},
   "source": [
    "<font color='blue'>6.3.a. Next you will need to convert each of these lists into arrays. </font>   "
   ]
  },
  {
   "cell_type": "code",
   "execution_count": null,
   "id": "714cf896-a5f3-4d8e-a7a3-1e1faea27536",
   "metadata": {
    "tags": []
   },
   "outputs": [],
   "source": [
    "import numpy as np\n",
    "\n",
    "array_population = np.array(list_population)\n",
    "array_population"
   ]
  },
  {
   "cell_type": "code",
   "execution_count": null,
   "id": "d39a4fe8-a55d-4dbe-9125-ecac5d2191dc",
   "metadata": {
    "tags": []
   },
   "outputs": [],
   "source": [
    "# replicate this workflow for areas\n",
    "\n"
   ]
  },
  {
   "cell_type": "markdown",
   "id": "6e241599-0f78-45e3-a18f-3438d08960b0",
   "metadata": {},
   "source": [
    "<font color='blue'>6.3.b. Now that you have your two arrays you can define a new variable that calculates population density from them </font>   \n",
    "\n",
    "**Hint:** use the NumPy function:\n",
    "> np.divide(a,b)\n",
    "\n",
    "Where **a** is your numerator and **b** is your denominator."
   ]
  },
  {
   "cell_type": "code",
   "execution_count": null,
   "id": "b40f796b-baaf-4885-bf01-7b871ce2b057",
   "metadata": {
    "tags": []
   },
   "outputs": [],
   "source": [
    "PopulationDensity = # complete the formula using code above and inputting your variables for population / area\n",
    "PopulationDensity"
   ]
  },
  {
   "cell_type": "markdown",
   "id": "93342ead-ffe4-4ee2-bafe-c5b1fc223df9",
   "metadata": {},
   "source": [
    "<font color='green'>6.3.c. **Bonus question** try to use a for loop to divide the two lists to achieve the same result as you did for 6.3.b. </font>   \n"
   ]
  },
  {
   "cell_type": "code",
   "execution_count": null,
   "id": "6e2cbf1f-38e6-41bf-9782-a69797dc9938",
   "metadata": {
    "tags": []
   },
   "outputs": [],
   "source": [
    "res = []\n",
    "for i in range(len(  #population variable)):\n",
    "    res.append(  #population variable[i] / #area variable[i])\n",
    "res"
   ]
  },
  {
   "cell_type": "markdown",
   "id": "a79101a4-46bd-40fc-8bd8-f7c285888681",
   "metadata": {},
   "source": [
    "<font color='blue'>6.4. Lists, indexing, slices and if elif else </font>   \n",
    "\n",
    "Referring back to your original table we will now test your knowledge on lists. indexing and slices.  \n",
    "\n",
    "**Table 6.1.a. Population and area figures based on National Statistics Office of Tonga Census Data for 2021.**  \n",
    "| **Island / Group** | **Population (2021 Census)** | **Area (km2)** | **Population density (population/km2)** | \n",
    "|--------- |----- | ----- |  ----  |\n",
    "|  **Tongatapu**  | 74454 | 260 |      |\n",
    "|  **Vavau**  | 14182 | 109 |     |\n",
    "|  **Haapai**  | 5665 | 96 |     |\n",
    "|  **Eua**  | 4864 | 87 |     |\n",
    "|  **Niuatoputapu**  | 719 | 7 |    |  \n",
    "|  **Niuafoou** | 431 | 32 |     |\n",
    "|  **Total** |    |  |     |\n",
    "\n",
    "\n",
    "Print your dictionary and list for population\n",
    "> *print(TotalPopulation_Tonga)*  \n",
    "> *print(list_population)*"
   ]
  },
  {
   "cell_type": "code",
   "execution_count": null,
   "id": "bd33edd0-cbff-47d3-a5b1-dbec90963538",
   "metadata": {
    "tags": []
   },
   "outputs": [],
   "source": [
    "\n"
   ]
  },
  {
   "cell_type": "markdown",
   "id": "c641dd2c-af27-4065-9693-3ac7903e45c8",
   "metadata": {},
   "source": [
    "To check the number of elements in your list use the print(len())"
   ]
  },
  {
   "cell_type": "code",
   "execution_count": null,
   "id": "6fd8c17b-f6c5-4984-98cf-ef844d25e24d",
   "metadata": {
    "tags": []
   },
   "outputs": [],
   "source": []
  },
  {
   "cell_type": "markdown",
   "id": "e103dc1c-3335-4621-b88e-46e2defc6ee4",
   "metadata": {},
   "source": [
    "Repeat this retrieval and printing of length for the area list. "
   ]
  },
  {
   "cell_type": "code",
   "execution_count": null,
   "id": "e0f235d4-6a64-4ebf-8dfd-fb622be2ac1e",
   "metadata": {
    "tags": []
   },
   "outputs": [],
   "source": []
  },
  {
   "cell_type": "markdown",
   "id": "ace26833-8ef8-4f54-a722-9b5228deb6d8",
   "metadata": {},
   "source": [
    "<font color='blue'>6.4.a. Slicing in lists</font>  \n",
    "\n",
    "Slicing involves cutting a list into smaller segments or subsets.\n",
    "\n",
    "x[min:max] outputs a segment from min ≤ i < max.\n",
    "\n",
    "Using the index slicing approaches covered earlier, retrieve the populations for Tongatapu and Vavau only. \n",
    "> *list_population[0:2]*"
   ]
  },
  {
   "cell_type": "code",
   "execution_count": null,
   "id": "a3ef878e-18bf-4ca0-8ebd-071c24672583",
   "metadata": {
    "tags": []
   },
   "outputs": [],
   "source": []
  },
  {
   "cell_type": "markdown",
   "id": "648cf3c2-99d8-4bd8-94ad-41ed8a3d9091",
   "metadata": {},
   "source": [
    "Using the index slicing approaches, retrieve the populations for Haapai, Eua, Niuatoputapu and Niuafoou only. "
   ]
  },
  {
   "cell_type": "code",
   "execution_count": null,
   "id": "e0719be2-339a-4219-9742-a522fbb2e19e",
   "metadata": {
    "tags": []
   },
   "outputs": [],
   "source": []
  },
  {
   "cell_type": "markdown",
   "id": "ddbf8ad2-bf70-4ade-b33d-0e38c3ea5f9f",
   "metadata": {},
   "source": [
    "Retrieve the areas for Vavau, Eua and Niuafoou only. "
   ]
  },
  {
   "cell_type": "code",
   "execution_count": null,
   "id": "15852267-05fe-4eac-9a90-a0b1201f9fbd",
   "metadata": {
    "tags": []
   },
   "outputs": [],
   "source": []
  },
  {
   "cell_type": "markdown",
   "id": "2a0107ac-ef09-4ab6-acc7-0bcd6a5b141c",
   "metadata": {},
   "source": [
    "<font color='blue'>6.4.b. if elif else</font>  \n",
    "\n",
    "Revisiting flow control. You have been asked to figure out when Tongatapu's population density will exceed a sustainable threshold. "
   ]
  },
  {
   "cell_type": "markdown",
   "id": "32da5661-4fc0-4bc1-b724-cd9d6b208eff",
   "metadata": {},
   "source": [
    "The current population density of Tongatapu is equal to approximately 74454 people / 260 km2 which is approximately 286 people per square kilometer. \n",
    "\n",
    "1. The population density of Tokyo : 6,158 persons per square kilometer.\n",
    "2. The population density of Canbbera : 193 people per square kilometer\n",
    "3. The population density of Suva : 521 people per square kilometer\n",
    "\n",
    "Your director says that Tongatapu's infrastructure and facilities may be tested at a population of 500+ people (the same as Greater Melbourne). He has asked you to use an if elif else function to work out what the population might be at this threshold assuming an annual growth in population of 1000 people. \n",
    "\n",
    "The code below allows you to use a for loop to print the population increasing by 1000 at each time step (year) beginning at the current population of 74454. The code prints the population density each year as the population increases by 1000 and is told to stop once the population density exceeds 500 people / square kilometer.   "
   ]
  },
  {
   "cell_type": "code",
   "execution_count": null,
   "id": "f73e86ee-0ff3-4835-a075-b2764d9930b0",
   "metadata": {
    "tags": []
   },
   "outputs": [],
   "source": [
    "Population_Tongatapu = 74454\n",
    "Area_Tongatapu = 260\n",
    "\n",
    "for p in range(74454, 150000, 1000):\n",
    "        print(p / # insert area of Tongatapu variable)\n",
    "        if p/ # insert area of Tongatapu variable > 500:\n",
    "                break\n",
    "                print(p)\n",
    "                \n",
    "        # else:\n",
    "            # continue\n",
    "    # break\n"
   ]
  },
  {
   "cell_type": "markdown",
   "id": "a8a9afe6-1f07-4194-a7f4-8dd96d0d8901",
   "metadata": {},
   "source": [
    "The printing stops at 501 people / square kilometer. By printing p at this stage, you can see the total population at this stage.  "
   ]
  },
  {
   "cell_type": "code",
   "execution_count": null,
   "id": "2e7107b5-9f88-4540-b0d0-834a3b43d5f6",
   "metadata": {
    "tags": []
   },
   "outputs": [],
   "source": []
  },
  {
   "cell_type": "markdown",
   "id": "fde96e72-63b4-46a4-b2f8-7796114a22fc",
   "metadata": {},
   "source": [
    "At this total population, Tongatapu's population density has exceeded the threshold of 500 people per square kilometer. \n",
    "\n",
    "Now we have to find out how many years it might be before this threshold is reached. We can use another for loop and substitute in the value of p at this threshold generated above. \n",
    "\n",
    ">for i, p in enumerate(range(74454, 130454, 1000)):  \n",
    ">   print(\"iteration %d, elem %s\" %  \n",
    ">         (i, p))   "
   ]
  },
  {
   "cell_type": "code",
   "execution_count": null,
   "id": "4d23edf9-a1f6-4348-94dc-56ca22f66608",
   "metadata": {
    "tags": []
   },
   "outputs": [],
   "source": [
    "for i, p in enumerate(range(74454, 130454, 1000)):\n",
    "   print(\"iteration %d, elem %s\" %\n",
    "         (i, p)) "
   ]
  },
  {
   "cell_type": "markdown",
   "id": "36554e12-56ec-4ac7-b151-5466b9fb0e3f",
   "metadata": {},
   "source": [
    "Assuming a growth of 1000 people per year, how many years will it take for Tongatapu to reach a threshold of 500 people per square kilometer?"
   ]
  },
  {
   "cell_type": "markdown",
   "id": "f62048ce-4a67-4757-94e9-a6525b88b096",
   "metadata": {},
   "source": []
  },
  {
   "cell_type": "markdown",
   "id": "c63faf54-fef9-4dd1-9eb1-6f88f00468ba",
   "metadata": {},
   "source": [
    "<font color='blue'>6.5. Matplotlib and plotting </font>   \n",
    "\n",
    "The National Statistics Office (NSO) have provided you with code to automating the plotting of population based on each new census. The NSO have found the code below to help allow you to do this. Try running this code:"
   ]
  },
  {
   "cell_type": "code",
   "execution_count": null,
   "id": "ad3e8552-1eaa-4dab-b33e-0d4baaf568c5",
   "metadata": {
    "tags": []
   },
   "outputs": [],
   "source": [
    "# importing module\n",
    "%matplotlib inline\n",
    "import matplotlib.pyplot as plt\n",
    "    \n",
    "# creating the dataset\n",
    "TotalPopulation_Tonga = {'Tongatapu':74454,'Vavau':14182,'Haapai':5665,'Eua':4864,'Niuatoputapu':719,'Niuafoou':431}\n",
    "IslandGroup = list(TotalPopulation_Tonga.keys())\n",
    "Population = list(TotalPopulation_Tonga.values())\n",
    "\n",
    "# configuring size of plot\n",
    "fig = plt.figure(figsize = (10, 5))\n",
    "\n",
    "# creating the bar plot\n",
    "plt.bar(IslandGroup, Population, color ='maroon',\n",
    "\t\twidth = 0.4)\n",
    "\n",
    "# writing up your labels\n",
    "plt.xlabel(\"Island Groups\")\n",
    "plt.ylabel(\"Population\")\n",
    "plt.title(\"Population across the different island groups of Tonga\")\n",
    "\n",
    "# visualising your plot\n",
    "plt.show()\n"
   ]
  },
  {
   "cell_type": "markdown",
   "id": "3a4ed901-ceb9-402e-8b0b-2ec888cc7cf6",
   "metadata": {},
   "source": [
    "Now you have been asked by your director to replicate this kind of plot but instead of plotting out population, you have been asked to plot out land area for each of the island groups. Using the code above with some modifications try to complete this task for your director:"
   ]
  },
  {
   "cell_type": "code",
   "execution_count": null,
   "id": "89078e6d-bc57-4d17-9c43-5845d92fd6cc",
   "metadata": {
    "tags": []
   },
   "outputs": [],
   "source": [
    "# importing module\n",
    "%matplotlib inline\n",
    "import matplotlib.pyplot as plt\n",
    "    \n",
    "# creating the dataset\n",
    "TotalArea_Tonga = {'Tongatapu area':260,'Vavau area':96,'Haapai area':109,'Eua area':87,'Niuatoputapu area':7,'Niuafoou area':32}\n",
    "IslandGroup = list(TotalArea_Tonga.keys())\n",
    "Area = list(TotalArea_Tonga.values())\n",
    "\n",
    "# configuring size of plot\n",
    "fig = plt.figure(figsize = (10, 5))\n",
    "\n",
    "# creating the bar plot\n",
    "plt.bar(IslandGroup, Area, color ='green',\n",
    "\t\twidth = 0.4)\n",
    "\n",
    "# writing up your labels\n",
    "plt.xlabel(\"Island Groups\")\n",
    "plt.ylabel(\"Land area\")\n",
    "plt.title(\"Land area in square km across the different island groups of Tonga\")\n",
    "\n",
    "# visualising your plot\n",
    "plt.show()"
   ]
  },
  {
   "cell_type": "markdown",
   "id": "5e6615a0-786a-46d3-a0ad-3ea76ec656e1",
   "metadata": {},
   "source": [
    "**For more information refer to the following sources:**  \n",
    "\n",
    "- https://www.geeksforgeeks.org/plotting-multiple-bar-charts-using-matplotlib-in-python/  \n",
    "- https://stackoverflow.com/questions/44735330/python-if-elif-else-for-and-listshttps://introcs.cs.princeton.edu/python/13flow/  \n",
    "- https://introcs.cs.princeton.edu/python/13flow/  \n",
    "- https://stackoverflow.com/questions/4294082/decreasing-for-loops-in-python-impossible  \n",
    "- https://bobbyhadz.com/blog/python-zerodivisionerror-float-division-by-zero\n",
    "- https://stackoverflow.com/questions/60132327/typeerror-barh-got-multiple-values-for-argument-width\n",
    "- https://matplotlib.org/stable/gallery/subplots_axes_and_figures/two_scales.html"
   ]
  },
  {
   "cell_type": "markdown",
   "id": "d39adcee-87f0-4888-b4b0-62e3e5badf6d",
   "metadata": {
    "tags": []
   },
   "source": [
    " \n",
    "\n",
    "## <font color='blue'>Activity Notebook 1A Completed </font>"
   ]
  },
  {
   "cell_type": "markdown",
   "id": "49c8740f-1765-476e-ad82-841794093d3e",
   "metadata": {},
   "source": [
    "Congratulations. You are now familiar with the foundations of Python for Digital Earth Pacific (DEP). "
   ]
  },
  {
   "cell_type": "markdown",
   "id": "4f994390-e105-449d-ab53-ad92649c604e",
   "metadata": {},
   "source": [
    "Next we will move onto Activity Notebook 1B. This is intended for users of Python who have recently completed **'Activity Notebook 1A'** which provides the foundations of Python for users intending to move onto this notebook: **'Activity Notebook 1B'** introductions to [Digital Earth Pacific (DEP)](https://github.com/digitalearthpacific/DigitalEarthPacific/tree/main). We will again be working with Python within a Jupyter Notebook environment as the IDE. For questions regarding this notebook contact the author via https://github.com/nicholasmetherall\n",
    "\n",
    "**Acknowledgments:**  \n",
    "Thanks also to Todd Sanford and Sachindra Singh for their review and comments. "
   ]
  }
 ],
 "metadata": {
  "kernelspec": {
   "display_name": "Python 3 (ipykernel)",
   "language": "python",
   "name": "python3"
  },
  "language_info": {
   "codemirror_mode": {
    "name": "ipython",
    "version": 3
   },
   "file_extension": ".py",
   "mimetype": "text/x-python",
   "name": "python",
   "nbconvert_exporter": "python",
   "pygments_lexer": "ipython3",
   "version": "3.11.4"
  }
 },
 "nbformat": 4,
 "nbformat_minor": 5
}
