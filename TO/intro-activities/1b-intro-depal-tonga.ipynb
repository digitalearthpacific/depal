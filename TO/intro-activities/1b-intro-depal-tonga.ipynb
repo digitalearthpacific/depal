{
 "cells": [
  {
   "cell_type": "markdown",
   "id": "f5c0e422-2168-4849-8bb0-93f4762ae14f",
   "metadata": {},
   "source": [
    "<div><img src=\"https://github.com/digitalearthpacific/DigitalEarthPacific/blob/main/notebooks/DEP_LCAST/reference_materials/images/1B/1.a.png?raw=true\" width=\"800\"/></div>\n"
   ]
  },
  {
   "cell_type": "markdown",
   "id": "8d41c56e-4b5d-4ad1-a2e8-87396c92b16e",
   "metadata": {
    "tags": []
   },
   "source": [
    "# Activity Notebook 1B) Introduction to Python in Digital Earth Pacific (DEP)\n",
    "Intended for users of Python who have recently completed **'Activity Notebook 1A'** which provides the foundations of Python for users intending to move onto this notebook: **'Activity Notebook 1B'** introductions to [Digital Earth Pacific (DEP)](https://github.com/digitalearthpacific/DigitalEarthPacific/tree/main). We will again be working with Python within a Jupyter Notebook environment as the IDE. For questions regarding this notebook contact the author via https://github.com/nicholasmetherall"
   ]
  },
  {
   "cell_type": "markdown",
   "id": "30d38ecf-c9f3-48ca-a9e2-d299985288f3",
   "metadata": {
    "tags": []
   },
   "source": [
    "### Digital Earth Pacific (DEP) Notebook"
   ]
  },
  {
   "cell_type": "markdown",
   "id": "cedeaa76-4bb9-4a0f-baed-acfbda77df0c",
   "metadata": {},
   "source": [
    "Follow the example of code below to set up your Digital Earth Pacific (DEP) environment."
   ]
  },
  {
   "cell_type": "code",
   "execution_count": null,
   "id": "a3525672-bb12-4fcb-acc8-bb5dd68b4581",
   "metadata": {
    "tags": []
   },
   "outputs": [],
   "source": [
    "import sys\n",
    "sys.path.insert(0, '..')\n",
    "import depal as dep\n",
    "import warnings\n",
    "warnings.filterwarnings('ignore')"
   ]
  },
  {
   "cell_type": "markdown",
   "id": "61fdfae4-d4e7-4f4b-86fd-a8777e0e47cd",
   "metadata": {},
   "source": [
    "For larger areas of interest or more computionally task, replace the `dep.init()` below with `dep.init('remote')`. \n",
    "\n",
    "To change default resolution of output products use `dep.init('remote', resolution=10)`"
   ]
  },
  {
   "cell_type": "code",
   "execution_count": null,
   "id": "b51facfd-6371-41fe-a69b-b218555a4401",
   "metadata": {
    "tags": []
   },
   "outputs": [],
   "source": [
    "dep.init()"
   ]
  },
  {
   "cell_type": "markdown",
   "id": "57cbbb83-e6c4-4995-95c7-11282a26c939",
   "metadata": {},
   "source": [
    "Your code goes in the cells below. Add more cells here by clicking on the + button above.\n",
    "\n",
    "First let's list out the countries covered within Digital Earth Pacific (DEP):  \n",
    "\n",
    "> *dep.list_countries()\n",
    "\n",
    "- Where *dep.* is the module   \n",
    "- *list_countries()* is the function that converts requests or simple operations into an object. \n",
    "\n",
    "By running this block of code you can process data. This particular function returns a list of data as a result.   \n",
    "\n",
    "In this case, the function is to provide the list of countries covered within the DEP module.  \n"
   ]
  },
  {
   "cell_type": "code",
   "execution_count": null,
   "id": "d220531c-ccf1-4570-becc-18ce5dd4ab1c",
   "metadata": {
    "tags": []
   },
   "outputs": [],
   "source": []
  },
  {
   "cell_type": "markdown",
   "id": "4d57bc3c-b075-4681-9347-a95a393630fd",
   "metadata": {},
   "source": [
    "The list you have generated above is an example of using a function to call on default values stored within a library. \n",
    "\n",
    "Now we will be working in Tonga so we should explore more about the kind of data stored for this country. In order to do this, we will next seek to list the boundary types. \n",
    "\n",
    "First type the module 'dep.' then type the function 'list_boundary_types' then within the brackets you can search for a particular subset of the total list. In this case, within the brackets we will search for the country parameter \"Tonga\"\n",
    "\n"
   ]
  },
  {
   "cell_type": "code",
   "execution_count": null,
   "id": "ff5407b1-9956-44b8-aead-026075bf4058",
   "metadata": {
    "tags": []
   },
   "outputs": [],
   "source": []
  },
  {
   "cell_type": "markdown",
   "id": "17159666-3f64-4a9d-a9d2-106f06719949",
   "metadata": {},
   "source": [
    "The list you have returned here shows that there are two geographic scales of analysis available for Tonga in DEP. These include the \"island group\" level and the \"district\" level. \n",
    "\n",
    "If you wish to delve into these two sub-groups within the stored values, you will need to call another list function. Within this list function you will need to pass the key words within the brackets as you did above but now you will need to list two key words in the order of the two parameters: First the country parameter and then the boundary type parameter i.e. \n",
    ">module.function(\"Country\", \"boundary type\")\n",
    "\n",
    "Where :\n",
    "module = dep\n",
    "function = list_country_boundary\n",
    "\n",
    "parameters  \n",
    "country = \"Tonga\"  \n",
    "list = \"Tonga\"\n",
    "\n",
    "When calling these functions keep in mind the following: \n",
    "\n",
    "1. The order of the arguments listed is important to make the function run properly.    \n",
    "2. There should be only one value for one parameter.  \n",
    "3. The passed keyword name should match with the actual keyword name.  \n",
    "\n",
    "Now with this in mind, to better understand the boundary types let's first explore the island group level. Try the same list function but this time include two parameters \"Tonga\" and \"Island Group\". You will need to separate the two with a commma to pass this function. Try to get the list of Island groups by writing a function in the code cell block below:"
   ]
  },
  {
   "cell_type": "code",
   "execution_count": null,
   "id": "b9d775b1-e4e3-4f39-830e-34311be3efb8",
   "metadata": {
    "tags": []
   },
   "outputs": [],
   "source": []
  },
  {
   "cell_type": "markdown",
   "id": "9bee3a97-e2fb-4ae7-89c3-1317cd58fa4c",
   "metadata": {},
   "source": [
    "Now try to get a list of districts covered in DEP. "
   ]
  },
  {
   "cell_type": "code",
   "execution_count": null,
   "id": "fbe08e2d-b7dd-4dee-9ece-d37965c13cda",
   "metadata": {
    "tags": []
   },
   "outputs": [],
   "source": []
  },
  {
   "cell_type": "markdown",
   "id": "9badcb15-2b97-4438-900c-dcf6e9f58459",
   "metadata": {
    "tags": []
   },
   "source": [
    "Let's now start showing some of the data from these lists of boundary types. In order to show the data using the **visualise()** function, we first have to access the datasets using a **get_** function.   \n",
    "\n",
    "Let's start by accessing the country boundary of Tonga as an example. In order to do this we must first define a variable. \n",
    "\n",
    "In this example the variable we will define it as the boundary of Tonga or **boundary_tonga** since you cannot use spaces in Python code. In this case the variable will be defined as the function to get the country boundary. \n",
    "\n",
    "> dep.get_country_boundary(\"Tonga\")  \n",
    " \n",
    "Try to define this variable here:"
   ]
  },
  {
   "cell_type": "code",
   "execution_count": null,
   "id": "ae07bac3-f08c-425f-99ac-8dff6a609df1",
   "metadata": {
    "tags": []
   },
   "outputs": [],
   "source": [
    "boundary_tonga = # complete the variable definition here"
   ]
  },
  {
   "cell_type": "markdown",
   "id": "e089c173-034b-4f73-9ff0-1e11bb8c9b95",
   "metadata": {
    "tags": []
   },
   "source": [
    "Now that you have accessed this data and downloaded this data you can now visualise this data in an interactive map as part of the leafmap functionality within Python notebooks. This function has been wrapped and simplified in DEP using the **explore()** function. \n",
    "\n",
    "Try to input your area of interest variable followed by .explore()"
   ]
  },
  {
   "cell_type": "code",
   "execution_count": null,
   "id": "6daddc0d-6923-4338-89d0-e6a157a2cd7e",
   "metadata": {
    "tags": []
   },
   "outputs": [],
   "source": []
  },
  {
   "cell_type": "markdown",
   "id": "7f62acd9-1aae-43ee-ae98-96f4b64326c6",
   "metadata": {},
   "source": [
    "As you can see you have now generated an interactive map that you can **explore.** Scroll through the map to each of the island groups in Tonga and notice the boundaries have been highlighted because you have already used the **get_** function to access and download this data.\n",
    "\n",
    "Next repeat this workflow to see the boundary of Vava'u. \n",
    "1. Define a new variable **boundary_vavau** with the **get_** function\n",
    "> *dep.get_country_admin_boundary*\n",
    "2. Use the **explore()** function to generate an interactive map to visualise this data\n",
    "> *.explore()*"
   ]
  },
  {
   "cell_type": "code",
   "execution_count": null,
   "id": "fdeb43d2-1e9a-47b5-bb9d-f9c2bdfd2b8e",
   "metadata": {
    "tags": []
   },
   "outputs": [],
   "source": [
    "boundary_vavau =  # Complete the dep.get_country function"
   ]
  },
  {
   "cell_type": "code",
   "execution_count": null,
   "id": "2d2aca26-af34-4b60-810f-fea1874e373f",
   "metadata": {
    "tags": []
   },
   "outputs": [],
   "source": [
    "# complete the variable.explore() by filling in your variable"
   ]
  },
  {
   "cell_type": "markdown",
   "id": "b777ac52-4f63-4598-a676-ce8689e54cba",
   "metadata": {},
   "source": [
    "Now you can see Vava'u within the map .explore() visualisation above. You have practiced this workflow at the national level and the island group level. Next try this for the district level. In this example we would like you to show a map of the administrative boundary of Lapaha. Repeat the workflow above but this time using the parameter of \"District\". You may wish to define this variable using a clear explanatory name. For example **district_lapaha**   "
   ]
  },
  {
   "cell_type": "code",
   "execution_count": null,
   "id": "6060bd4b-642c-4a25-bccc-838101a51838",
   "metadata": {},
   "outputs": [],
   "source": [
    "    # Define Lapaha variable"
   ]
  },
  {
   "cell_type": "code",
   "execution_count": null,
   "id": "0bc6b52e-e33b-4ede-9042-4bb8ab90519d",
   "metadata": {
    "tags": []
   },
   "outputs": [],
   "source": [
    "    # use the explore function"
   ]
  },
  {
   "cell_type": "markdown",
   "id": "4574a1b7-1e36-4fbb-a687-4c354ad7d8e7",
   "metadata": {},
   "source": [
    "Well done. You have visualised Lapaha. This will be one of the sites that we visit during the fieldtrip on Wednesday for the workshop."
   ]
  },
  {
   "cell_type": "markdown",
   "id": "63e84691-316b-40d7-9fe8-eb595feafbce",
   "metadata": {},
   "source": [
    "Now that you have explored the default arguments, functions and parameters used for mapping out some of useful datasets in DEP, we will next explore the other datasets that are available through this platform. To learn more enter:\n",
    "\n",
    "> *dep.list_data_sources()*"
   ]
  },
  {
   "cell_type": "code",
   "execution_count": null,
   "id": "04bbb670-bd98-424b-86ec-4d1027d2f65e",
   "metadata": {
    "tags": []
   },
   "outputs": [],
   "source": []
  },
  {
   "cell_type": "markdown",
   "id": "6a6d8186-8508-40cc-9f22-acd926d17c36",
   "metadata": {
    "tags": []
   },
   "source": [
    "Note that there are a range of different datasets and models presented in this list. For this activity we are most interested in the Sentinel dataset listed at item number 103: **sentinel-2-l2a Sentinel-2 Level-2A**. \n",
    "\n",
    "We are also interested in the land cover assessment datasets. We should list all of these next to give a better idea of the global land cover model options available in DEP.\n",
    "\n",
    "To retrieve the list of global land cover models use:\n",
    "> *dep.list_global_land_cover()*"
   ]
  },
  {
   "cell_type": "code",
   "execution_count": null,
   "id": "315ee97e-91df-4ff9-ba84-3bbd57cf16a5",
   "metadata": {
    "tags": []
   },
   "outputs": [],
   "source": []
  },
  {
   "cell_type": "markdown",
   "id": "ecdd0a11-c509-4b0d-baae-f644eeb1dabc",
   "metadata": {},
   "source": [
    "Each of these examples of global, regional and national land cover models have been generated using a combination of local field data and machine learning approaches. \n",
    "\n",
    "However, none of them have been generated with lots of field data from Tonga. That's your job now! "
   ]
  },
  {
   "cell_type": "markdown",
   "id": "68715ce9-d7ff-4457-8db8-5fd580c7d7fb",
   "metadata": {},
   "source": [
    "<font color='blue'>Learning about the European Space Agency Sentinel 2 Satellite.</font>\n",
    "<font color = 'blue' ></font>"
   ]
  },
  {
   "cell_type": "markdown",
   "id": "6372f096-0bb5-4334-b9bb-a944b42151c9",
   "metadata": {},
   "source": [
    "The main satellite data we will be using for this workshop is from the Copernicus Sentinel 2 satellite dataset as shown in figure s.2.a. \n",
    "\n",
    "<div><img src=\"https://github.com/digitalearthpacific/DigitalEarthPacific/blob/main/notebooks/DEP_LCAST/reference_materials/images/1B/Sentinel.1.jpg?raw=true\" width=\"600\"/></div>\n"
   ]
  },
  {
   "cell_type": "markdown",
   "id": "19115e0d-e4e7-405a-a425-5c9a5ffd5ba6",
   "metadata": {
    "tags": []
   },
   "source": [
    "Figure S.2.a. Provides an overview of Sentinel 2 satellite:\n",
    "\n",
    "The table in figure S.2.b. provides a list of the different bands or spectral wavelengths captured by the Sentinel 2 satellite. We will be using these for our analyses within the workshop. \n",
    "\n",
    "The bands are measured in wavelengths with unit measurements of nanometers. Visible light is measured in nanometers (nm). A nanometer is a unit of length equal to one billionth of a meter.\n",
    "\n",
    "These include optical bands we can see with the human eye:\n",
    "- (B2) Blue = 458-523 nm\n",
    "- (B3) Green = 543-578 nm \n",
    "- (B4) Red = 650-680 nm\n",
    "\n",
    "And infrared bands that cannot be detected by the human eye:\n",
    "- (B8) Near Infrared or NIR = 785-900 nm\n",
    "- (B11) Shortwave Infrared 1 or SWIR 1 = 1565-1655 nm\n",
    "\n",
    "For the full list see Figure S.2.b.\n",
    "\n",
    "<div><img src=\"https://github.com/digitalearthpacific/DigitalEarthPacific/blob/main/notebooks/DEP_LCAST/reference_materials/images/1B/Sentinel.2.png?raw=true=\"600\" width=\"580\"/></div>  "
   ]
  },
  {
   "cell_type": "markdown",
   "id": "614a6db3-3889-48c4-a0b9-f323a1f5a9e5",
   "metadata": {},
   "source": [
    "Figure S.2.b. Table list of spectral bands captured by sensors on the Sentinel 2 satellite\n",
    "\n",
    "A visualisation of these bands from the table in S.2.b. is visualised as a spectrum in figure S.2.c.\n",
    "    \n",
    "    \n",
    "    \n",
    "    \n",
    "    \n",
    "<div><img src=\"https://github.com/digitalearthpacific/DigitalEarthPacific/blob/main/notebooks/DEP_LCAST/reference_materials/images/1B/Sentinel.3.jpg?raw=true=\"600\" width=\"580\"/></div>    "
   ]
  },
  {
   "cell_type": "markdown",
   "id": "90d2b793-4a73-4ee1-a791-da27a37fffdb",
   "metadata": {},
   "source": [
    "Figure S.2.c. The spectrum of different wavelengths visualised:"
   ]
  },
  {
   "cell_type": "markdown",
   "id": "518af406-ca6a-41d7-848d-a6a635d05472",
   "metadata": {},
   "source": [
    "Run this code to learn more about the data stored in DEP for using Sentinel 2:\n",
    "\n",
    "> *dep.list_data_bands(\"sentinel-2-l2a\")*"
   ]
  },
  {
   "cell_type": "code",
   "execution_count": null,
   "id": "c7890432-b2da-4729-a826-75fac6407c54",
   "metadata": {
    "tags": []
   },
   "outputs": [],
   "source": []
  },
  {
   "cell_type": "markdown",
   "id": "7f57d676-1a88-4695-a0a4-7bc572b9178a",
   "metadata": {
    "tags": []
   },
   "source": [
    "<font color='blue'>Review Activity for Notebook 1B) - selecting and exploring your study area.</font>\n",
    "<font color = 'blue' ></font>\n",
    "\n",
    "You have been asked to generate a map with the boundaries for Tongatapu. Using the workflow provided above complete the following steps:\n",
    "\n",
    "1. List the boundary types for Tonga\n"
   ]
  },
  {
   "cell_type": "code",
   "execution_count": null,
   "id": "bca4a4f6-8a9c-4cdb-ace5-8a309f115d0e",
   "metadata": {},
   "outputs": [],
   "source": []
  },
  {
   "cell_type": "markdown",
   "id": "a05d2161-50cc-4e06-abd4-5e22462341fb",
   "metadata": {},
   "source": [
    "2. List the country boundary types for Island Groups in Tonga\n"
   ]
  },
  {
   "cell_type": "code",
   "execution_count": null,
   "id": "72a4284c-9cb5-42c4-8a91-f88b2bd7774c",
   "metadata": {},
   "outputs": [],
   "source": []
  },
  {
   "cell_type": "markdown",
   "id": "6f956eb6-ed3a-4986-a072-c0af54facd96",
   "metadata": {},
   "source": [
    "3. Get the boundary for Tongatapu\n"
   ]
  },
  {
   "cell_type": "code",
   "execution_count": null,
   "id": "fa1fb4cf-403c-4fbf-87c6-b92a5a2f6045",
   "metadata": {},
   "outputs": [],
   "source": []
  },
  {
   "cell_type": "markdown",
   "id": "b6f3d12f-09b3-4c2e-a0f5-0f6f83f81592",
   "metadata": {},
   "source": [
    "4. Explore the map for Tongatapu"
   ]
  },
  {
   "cell_type": "code",
   "execution_count": null,
   "id": "e111b8c1-b17f-44b2-9e6a-5440ee997231",
   "metadata": {},
   "outputs": [],
   "source": []
  },
  {
   "cell_type": "markdown",
   "id": "39549ea1-5e5d-4e5d-a700-f867519ec62f",
   "metadata": {},
   "source": [
    "Ensure your notebooks end with `dep.cleanup()` to ensure all resources are released."
   ]
  },
  {
   "cell_type": "code",
   "execution_count": null,
   "id": "d8133612-c5bc-4aa7-893a-1ac14dedd597",
   "metadata": {
    "tags": []
   },
   "outputs": [],
   "source": [
    "dep.cleanup()"
   ]
  },
  {
   "cell_type": "markdown",
   "id": "40688601-0c71-4abb-a8c4-c67ad63620be",
   "metadata": {},
   "source": [
    "Congratulations you have now completed both Notebook 1A and Notebook 1B. "
   ]
  },
  {
   "cell_type": "code",
   "execution_count": null,
   "id": "4632da20-4cf3-4ab2-b0d8-2bead380460a",
   "metadata": {},
   "outputs": [],
   "source": []
  }
 ],
 "metadata": {
  "kernelspec": {
   "display_name": "Python 3 (ipykernel)",
   "language": "python",
   "name": "python3"
  },
  "language_info": {
   "codemirror_mode": {
    "name": "ipython",
    "version": 3
   },
   "file_extension": ".py",
   "mimetype": "text/x-python",
   "name": "python",
   "nbconvert_exporter": "python",
   "pygments_lexer": "ipython3",
   "version": "3.11.4"
  }
 },
 "nbformat": 4,
 "nbformat_minor": 5
}
