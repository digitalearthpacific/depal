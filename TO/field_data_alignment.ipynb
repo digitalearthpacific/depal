{
 "cells": [
  {
   "cell_type": "markdown",
   "id": "f5c0e422-2168-4849-8bb0-93f4762ae14f",
   "metadata": {},
   "source": [
    "![Digital Earth Pacific](../dep.png)"
   ]
  },
  {
   "cell_type": "markdown",
   "id": "8d41c56e-4b5d-4ad1-a2e8-87396c92b16e",
   "metadata": {
    "tags": []
   },
   "source": [
    "### Tonga LULC Field Data Alignment and Cleanup across Multiple Surveys"
   ]
  },
  {
   "cell_type": "code",
   "execution_count": null,
   "id": "a3525672-bb12-4fcb-acc8-bb5dd68b4581",
   "metadata": {},
   "outputs": [],
   "source": [
    "import os\n",
    "import sys\n",
    "sys.path.insert(0, '..')\n",
    "import depal as dep\n",
    "import geopandas as gpd\n",
    "import numpy as np\n",
    "import pandas as pd\n",
    "import warnings\n",
    "warnings.filterwarnings('ignore')"
   ]
  },
  {
   "cell_type": "code",
   "execution_count": null,
   "id": "b51facfd-6371-41fe-a69b-b218555a4401",
   "metadata": {},
   "outputs": [],
   "source": [
    "dep.init()"
   ]
  },
  {
   "cell_type": "markdown",
   "id": "11caff95-f611-49a4-93e4-4137962721ba",
   "metadata": {},
   "source": [
    "#### Load Both Surveys"
   ]
  },
  {
   "cell_type": "markdown",
   "id": "57cbbb83-e6c4-4995-95c7-11282a26c939",
   "metadata": {},
   "source": [
    "Your code goes in the cells below. Add more cells here by clicking on the + button above."
   ]
  },
  {
   "cell_type": "code",
   "execution_count": null,
   "id": "6060bd4b-642c-4a25-bccc-838101a51838",
   "metadata": {},
   "outputs": [],
   "source": [
    "gdf1 = gpd.read_file(\"datapoints_010423.geojson\")\n",
    "gdf2 = gpd.read_file(\"datapoints_260723.gpkg\")"
   ]
  },
  {
   "cell_type": "markdown",
   "id": "c7e99bca-003f-4fd6-b396-02d8942d4214",
   "metadata": {},
   "source": [
    "#### Cleanup and Merge"
   ]
  },
  {
   "cell_type": "code",
   "execution_count": null,
   "id": "e8eea2df-9a40-4a4e-81e5-13f5d98ecb83",
   "metadata": {},
   "outputs": [],
   "source": [
    "gdf1.rename(columns={\"LULC_class\": \"LULC\"}, inplace=True)\n",
    "gdf2.loc[gdf2['LULC'].isnull(), 'LULC'] = gdf2['Agriculture']\n",
    "gdf2.loc[gdf2['LULC'].isnull(), 'LULC'] = gdf2['Coastal']\n",
    "gdf2.loc[gdf2['LULC'].isnull(), 'LULC'] = gdf2['Forest']\n",
    "gdf2.loc[gdf2['LULC'].isnull(), 'LULC'] = gdf2['Hazards']\n",
    "gdf2.loc[gdf2['LULC'].isnull(), 'LULC'] = gdf2['Mining']\n",
    "gdf2.loc[gdf2['LULC'].isnull(), 'LULC'] = gdf2['Other_LULC']\n",
    "gdf2 = gdf2[gdf2[\"LULC\"].notna()]"
   ]
  },
  {
   "cell_type": "code",
   "execution_count": null,
   "id": "4689e7be-3477-4a7d-ad14-de2af2c777c4",
   "metadata": {},
   "outputs": [],
   "source": [
    "gdf3 = pd.concat([gdf1, gdf2])"
   ]
  },
  {
   "cell_type": "code",
   "execution_count": null,
   "id": "bb7af2b0-f2de-4321-80f8-80c0b5fbee90",
   "metadata": {
    "tags": []
   },
   "outputs": [],
   "source": [
    "gdf = gdf3[['LULC', 'geometry']]\n",
    "gdf = gdf[gdf.LULC != \"\"]"
   ]
  },
  {
   "cell_type": "code",
   "execution_count": null,
   "id": "6672c704-ee04-4bd6-8cb8-2640ecbd7b3e",
   "metadata": {},
   "outputs": [],
   "source": [
    "len(gdf)"
   ]
  },
  {
   "cell_type": "code",
   "execution_count": null,
   "id": "a55cc7ec-0fe8-48ae-8dbf-36458f850440",
   "metadata": {},
   "outputs": [],
   "source": [
    "summary = gdf.LULC.value_counts()\n",
    "pd.DataFrame(summary.items())"
   ]
  },
  {
   "cell_type": "markdown",
   "id": "d39e283b-5e80-409a-88e6-fb9d1bfcbe40",
   "metadata": {},
   "source": [
    "#### Alignment (Change Composition of Classes Here)"
   ]
  },
  {
   "cell_type": "markdown",
   "id": "981240d6-264e-4ca7-a3ca-da3b623bb16d",
   "metadata": {},
   "source": [
    "Baseline Identified Classes:\n",
    "\n",
    "- Settlements\n",
    "- Forest_Land (Natural, Plantation)\n",
    "- Grass_Shrub_Land\n",
    "- Crop_Land_Vegetation\n",
    "- Bare_Burnt_Land\n",
    "- Sand\n",
    "- Wetland_Mangroves\n",
    "- Agro_Forestry (Trees, Crops, Pasture, Coconuts)\n",
    "- Roads\n",
    "- Mining_Quarry"
   ]
  },
  {
   "cell_type": "code",
   "execution_count": null,
   "id": "3c68400f-5df2-478f-a748-132811297ec1",
   "metadata": {
    "tags": []
   },
   "outputs": [],
   "source": [
    "#Settlements\n",
    "gdf.loc[gdf['LULC'] == 'Infrastructure', 'LULC'] = 'Settlements'\n",
    "gdf.loc[gdf['LULC'] == 'Solar_panels', 'LULC'] = 'Settlements'\n",
    "\n",
    "#Forest_Land (Agro, Natural, Plantation)\n",
    "gdf.loc[gdf['LULC'] == 'Forest_land', 'LULC'] = 'Forest_Land'\n",
    "gdf.loc[gdf['LULC'] == 'Low_density_forest_palm', 'LULC'] = 'Forest_Land'\n",
    "gdf.loc[gdf['LULC'] == 'Natural_scattered_forest', 'LULC'] = 'Forest_Land'\n",
    "gdf.loc[gdf['LULC'] == 'Natural_Dense_forest', 'LULC'] = 'Forest_Land'\n",
    "gdf.loc[gdf['LULC'] == 'Agroforestry_coconuts', 'LULC'] = 'Forest_Land'\n",
    "gdf.loc[gdf['LULC'] == 'Agroforestry', 'LULC'] = 'Forest_Land'\n",
    "gdf.loc[gdf['LULC'] == 'Hardwood_tree_species', 'LULC'] = 'Forest_Land'\n",
    "gdf.loc[gdf['LULC'] == 'Softwood_tree_species', 'LULC'] = 'Forest_Land'\n",
    "gdf.loc[gdf['LULC'] == 'Integrated_Livestock_Agriculture', 'LULC'] = 'Forest_Land'\n",
    "\n",
    "#Crop_Land_Vegetation\n",
    "gdf.loc[gdf['LULC'] == 'Vegetation', 'LULC'] = 'Crop_Land_Vegetation'\n",
    "gdf.loc[gdf['LULC'] == 'Cropland', 'LULC'] = 'Crop_Land_Vegetation'\n",
    "gdf.loc[gdf['LULC'] == 'Monocropping', 'LULC'] = 'Crop_Land_Vegetation'\n",
    "gdf.loc[gdf['LULC'] == 'Mixed_cropping', 'LULC'] = 'Crop_Land_Vegetation'\n",
    "gdf.loc[gdf['LULC'] == 'Cropland_Agriculture', 'LULC'] = 'Crop_Land_Vegetation'\n",
    "gdf.loc[gdf['LULC'] == 'Weeds', 'LULC'] = 'Crop_Land_Vegetation'\n",
    "\n",
    "#Grass_Shrub_Land\n",
    "gdf.loc[gdf['LULC'] == 'Shrubs', 'LULC'] = 'Grass_Shrub_Land'\n",
    "gdf.loc[gdf['LULC'] == 'Grassland', 'LULC'] = 'Grass_Shrub_Land'\n",
    "gdf.loc[gdf['LULC'] == 'Shrubland', 'LULC'] = 'Grass_Shrub_Land'\n",
    "gdf.loc[gdf['LULC'] == 'Lawn_grass', 'LULC'] = 'Grass_Shrub_Land'\n",
    "gdf.loc[gdf['LULC'] == 'Natural_Shrubs', 'LULC'] = 'Grass_Shrub_Land'\n",
    "gdf.loc[gdf['LULC'] == 'Grazing_land', 'LULC'] = 'Grass_Shrub_Land'\n",
    "gdf.loc[gdf['LULC'] == 'Pasture_land', 'LULC'] = 'Grass_Shrub_Land'\n",
    "\n",
    "#Wetland_Mangroves\n",
    "gdf.loc[gdf['LULC'] == 'Mangroves', 'LULC'] = 'Wetland_Mangroves'\n",
    "gdf.loc[gdf['LULC'] == 'Wetland', 'LULC'] = 'Wetland_Mangroves'\n",
    "gdf.loc[gdf['LULC'] == 'Mudflats', 'LULC'] = 'Wetland_Mangroves'\n",
    "#gdf.loc[gdf['LULC'] == 'Shallow_ocean', 'LULC'] = 'Wetland_Mangroves'\n",
    "\n",
    "#Bare_Burnt_Land\n",
    "gdf.loc[gdf['LULC'] == 'Bare_land', 'LULC'] = 'Bare_Burnt_Land'\n",
    "gdf.loc[gdf['LULC'] == 'Burned_land', 'LULC'] = 'Bare_Burnt_Land'\n",
    "\n",
    "#Roads\n",
    "gdf.loc[gdf['LULC'] == 'Roads_paved', 'LULC'] = 'Roads'\n",
    "gdf.loc[gdf['LULC'] == 'Roads_unpaved', 'LULC'] = 'Roads'\n",
    "\n",
    "#Mining\n",
    "gdf.loc[gdf['LULC'] == 'Rock', 'LULC'] = 'Mining'\n",
    "gdf.loc[gdf['LULC'] == 'Quarry', 'LULC'] = 'Mining'\n",
    "gdf.loc[gdf['LULC'] == 'Mining areas', 'LULC'] = 'Mining'\n",
    "gdf.loc[gdf['LULC'] == 'Active_mining', 'LULC'] = 'Mining'\n",
    "gdf.loc[gdf['LULC'] == 'Closed_abandoned_mining', 'LULC'] = 'Mining'"
   ]
  },
  {
   "cell_type": "markdown",
   "id": "f5723cc5-1303-48ed-bcd5-fc814774cd93",
   "metadata": {
    "tags": []
   },
   "source": [
    "#### Remove classes of smaller sample sizes"
   ]
  },
  {
   "cell_type": "code",
   "execution_count": null,
   "id": "07462dbe-4bb4-42aa-ab88-5e6e1ad9f943",
   "metadata": {
    "tags": []
   },
   "outputs": [],
   "source": [
    "#Remove smaller sample size\n",
    "remove_list = ['Shallow_ocean', 'Coral_reef', 'Seagrass', 'Deep_ocean', 'Seagrasses', 'Aquaculture', 'Invasive_species', 'Climbing_vines', 'Surface_water', 'Seaweed', 'Roads']\n",
    "for r in remove_list:\n",
    "    gdf = gdf[gdf[\"LULC\"] != r]"
   ]
  },
  {
   "cell_type": "markdown",
   "id": "d90e4fe6-d86e-4c85-9b66-0771e6500f19",
   "metadata": {},
   "source": [
    "#### Codify Class Codes"
   ]
  },
  {
   "cell_type": "code",
   "execution_count": null,
   "id": "1c0df601-f271-4372-960f-480f1c0e02ad",
   "metadata": {
    "tags": []
   },
   "outputs": [],
   "source": [
    "class_list = list(gdf.LULC.unique())\n",
    "\n",
    "gdf['code'] = 0\n",
    "code = 1\n",
    "for c in class_list:\n",
    "    gdf.loc[gdf['LULC'] == c, 'code'] = code\n",
    "    code = code + 1   "
   ]
  },
  {
   "cell_type": "markdown",
   "id": "400ca07b-e4e8-4acf-b7b6-fdc55b6d13ab",
   "metadata": {},
   "source": [
    "#### Summarise"
   ]
  },
  {
   "cell_type": "code",
   "execution_count": null,
   "id": "49803925-d27f-429e-b8fb-64a511ffa6d9",
   "metadata": {
    "tags": []
   },
   "outputs": [],
   "source": [
    "summary = gdf.LULC.value_counts()\n",
    "pd.DataFrame(summary.items())"
   ]
  },
  {
   "cell_type": "code",
   "execution_count": null,
   "id": "9bc4c9ce-4d8a-4bc1-b168-27d9670e7e91",
   "metadata": {
    "tags": []
   },
   "outputs": [],
   "source": [
    "len(gdf)"
   ]
  },
  {
   "cell_type": "markdown",
   "id": "be237ab9-26e7-4e26-bb52-cd9e01f7a182",
   "metadata": {},
   "source": [
    "#### Save output for Machine Learning Process"
   ]
  },
  {
   "cell_type": "code",
   "execution_count": null,
   "id": "4917192f-3703-4f39-b7c0-07b668fb767c",
   "metadata": {
    "tags": []
   },
   "outputs": [],
   "source": [
    "gdf.to_file(\"datapoints_final.gpkg\", layer='LULC', driver=\"GPKG\", overwrite=True)"
   ]
  },
  {
   "cell_type": "code",
   "execution_count": null,
   "id": "d8133612-c5bc-4aa7-893a-1ac14dedd597",
   "metadata": {
    "tags": []
   },
   "outputs": [],
   "source": [
    "dep.cleanup()"
   ]
  }
 ],
 "metadata": {
  "kernelspec": {
   "display_name": "Python 3 (ipykernel)",
   "language": "python",
   "name": "python3"
  },
  "language_info": {
   "codemirror_mode": {
    "name": "ipython",
    "version": 3
   },
   "file_extension": ".py",
   "mimetype": "text/x-python",
   "name": "python",
   "nbconvert_exporter": "python",
   "pygments_lexer": "ipython3",
   "version": "3.11.4"
  }
 },
 "nbformat": 4,
 "nbformat_minor": 5
}
