{
 "cells": [
  {
   "cell_type": "markdown",
   "id": "f5c0e422-2168-4849-8bb0-93f4762ae14f",
   "metadata": {},
   "source": [
    "![Digital Earth Pacific](../dep.png)"
   ]
  },
  {
   "cell_type": "markdown",
   "id": "8d41c56e-4b5d-4ad1-a2e8-87396c92b16e",
   "metadata": {
    "tags": []
   },
   "source": [
    "# Tonga Field Data Visualisation and Analysis"
   ]
  },
  {
   "cell_type": "code",
   "execution_count": null,
   "id": "a3525672-bb12-4fcb-acc8-bb5dd68b4581",
   "metadata": {},
   "outputs": [],
   "source": [
    "#import depal as dep\n",
    "import warnings\n",
    "warnings.filterwarnings('ignore')\n",
    "import geopandas as gpd\n",
    "import pandas as pd\n",
    "import numpy as np\n",
    "import leafmap"
   ]
  },
  {
   "cell_type": "code",
   "execution_count": null,
   "id": "6060bd4b-642c-4a25-bccc-838101a51838",
   "metadata": {},
   "outputs": [],
   "source": [
    "gdf = gpd.read_file(\"datapoints_260723.gpkg\")"
   ]
  },
  {
   "cell_type": "markdown",
   "id": "182f9cdb-0d47-4049-ba37-6e198fb3f2ef",
   "metadata": {
    "tags": []
   },
   "source": [
    "#### Total Points Collected"
   ]
  },
  {
   "cell_type": "code",
   "execution_count": null,
   "id": "4689e7be-3477-4a7d-ad14-de2af2c777c4",
   "metadata": {},
   "outputs": [],
   "source": [
    "str(len(gdf)) + \" Points Collected\""
   ]
  },
  {
   "cell_type": "markdown",
   "id": "f4661f74-cca5-42cf-bdeb-8b4c7f6021da",
   "metadata": {},
   "source": [
    "#### Merge LULC across Thematic Areas"
   ]
  },
  {
   "cell_type": "code",
   "execution_count": null,
   "id": "e8a357a0-9919-4246-8bb2-815b358f4d22",
   "metadata": {
    "tags": []
   },
   "outputs": [],
   "source": [
    "gdf.loc[gdf['LULC'].isnull(), 'LULC'] = gdf['Agriculture']\n",
    "gdf.loc[gdf['LULC'].isnull(), 'LULC'] = gdf['Coastal']\n",
    "gdf.loc[gdf['LULC'].isnull(), 'LULC'] = gdf['Forest']\n",
    "gdf.loc[gdf['LULC'].isnull(), 'LULC'] = gdf['Hazards']\n",
    "gdf.loc[gdf['LULC'].isnull(), 'LULC'] = gdf['Mining']\n",
    "gdf.loc[gdf['LULC'].isnull(), 'LULC'] = gdf['Other_LULC']\n",
    "#gdf.LULC.unique()"
   ]
  },
  {
   "cell_type": "markdown",
   "id": "7ae8929f-4c65-4fd3-8010-e8b8da2394a5",
   "metadata": {},
   "source": [
    "#### Summarise Classes Collected"
   ]
  },
  {
   "cell_type": "code",
   "execution_count": null,
   "id": "b403773b-e4ee-4dd9-b2f6-df8edbf90134",
   "metadata": {
    "tags": []
   },
   "outputs": [],
   "source": [
    "summary = gdf.LULC.value_counts()\n",
    "pd.DataFrame(summary.items())"
   ]
  },
  {
   "cell_type": "markdown",
   "id": "4ebc8f70-7330-4c9f-8ee2-a7c59ab0ca74",
   "metadata": {},
   "source": [
    "#### Remove all Data Points with Empty/No LULC Classe"
   ]
  },
  {
   "cell_type": "code",
   "execution_count": null,
   "id": "f1827340-22f9-40b5-8471-b8720c510afc",
   "metadata": {
    "tags": []
   },
   "outputs": [],
   "source": [
    "gdf = gdf[gdf[\"LULC\"].notna()]\n",
    "gdf = gdf[gdf[\"geometry\"].notna()]\n",
    "str(len(gdf)) + \" Points Usuable\""
   ]
  },
  {
   "cell_type": "markdown",
   "id": "ee862335-0371-4f6a-bd40-6418aedfb7ad",
   "metadata": {},
   "source": [
    "#### Interactive Map"
   ]
  },
  {
   "cell_type": "code",
   "execution_count": null,
   "id": "1efed2af-925d-4130-bf6e-cc5349d3d611",
   "metadata": {
    "tags": []
   },
   "outputs": [],
   "source": [
    "gdf.explode().explore(column='LULC', tooltip=True, popup=True)"
   ]
  },
  {
   "cell_type": "markdown",
   "id": "27aeb4db-cffe-46af-85c4-4e2f8b6e9b80",
   "metadata": {
    "tags": []
   },
   "source": [
    "#### Summarise by Data Collectors"
   ]
  },
  {
   "cell_type": "code",
   "execution_count": null,
   "id": "50757ac6-d1f5-4c3e-a590-fe74881d7409",
   "metadata": {
    "tags": []
   },
   "outputs": [],
   "source": [
    "gdf[\"Surveyor\"] = gdf[\"Surveyor\"].str.upper()\n",
    "gdf[\"Surveyor\"] = gdf[\"Surveyor\"].str.strip()\n",
    "summary = gdf.Surveyor.value_counts()\n",
    "pd.DataFrame(summary.items())"
   ]
  }
 ],
 "metadata": {
  "kernelspec": {
   "display_name": "Python 3 (ipykernel)",
   "language": "python",
   "name": "python3"
  },
  "language_info": {
   "codemirror_mode": {
    "name": "ipython",
    "version": 3
   },
   "file_extension": ".py",
   "mimetype": "text/x-python",
   "name": "python",
   "nbconvert_exporter": "python",
   "pygments_lexer": "ipython3",
   "version": "3.11.4"
  }
 },
 "nbformat": 4,
 "nbformat_minor": 5
}
