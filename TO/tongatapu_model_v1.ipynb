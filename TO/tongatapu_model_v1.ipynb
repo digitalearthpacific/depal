{
 "cells": [
  {
   "cell_type": "markdown",
   "id": "ed25de6c-3734-41f9-a6f5-efc82723e885",
   "metadata": {},
   "source": [
    "![Digital Earth Pacific](../dep.png)"
   ]
  },
  {
   "cell_type": "markdown",
   "id": "3108b219-5551-465d-9997-39f077d5a193",
   "metadata": {},
   "source": [
    "# Point-based Land Cover Classification Model v.1\n",
    "\n",
    "Training a model on point data to produce raster predictions on landcover classifications."
   ]
  },
  {
   "cell_type": "code",
   "execution_count": null,
   "id": "41dc33e9-0135-49b4-862d-595fad515b97",
   "metadata": {
    "tags": []
   },
   "outputs": [],
   "source": [
    "import os\n",
    "import sys\n",
    "sys.path.insert(0, '..')\n",
    "\n",
    "import pandas as pd\n",
    "import geopandas as gpd\n",
    "import numpy as np\n",
    "import rioxarray\n",
    "import xarray as xr\n",
    "from ipyleaflet import Map, LayersControl, basemaps\n",
    "\n",
    "import depal as dep\n",
    "from model import add_image_values, get_model_prediction, get_overlay\n",
    "\n",
    "import warnings\n",
    "warnings.filterwarnings('ignore')"
   ]
  },
  {
   "cell_type": "code",
   "execution_count": null,
   "id": "cf44d51c-e438-4399-a392-64116dff26a5",
   "metadata": {},
   "outputs": [],
   "source": [
    "dep.init()"
   ]
  },
  {
   "cell_type": "markdown",
   "id": "659e4cb0-07a6-47b1-b0c4-23d5a61f88fb",
   "metadata": {},
   "source": [
    "#### Load and Summarise Training Data"
   ]
  },
  {
   "cell_type": "code",
   "execution_count": null,
   "id": "0ca16625-d506-40c9-9232-d757ca6f6a4b",
   "metadata": {
    "tags": []
   },
   "outputs": [],
   "source": [
    "# Training data from Nick\n",
    "training_data = gpd.read_file(\"datapoints_010423.geojson\")\n",
    "#training_data"
   ]
  },
  {
   "cell_type": "code",
   "execution_count": null,
   "id": "d0cbf1c7-589b-4b86-9abb-02df1cddb4f6",
   "metadata": {
    "tags": []
   },
   "outputs": [],
   "source": [
    "# This is more for reference, but shows the relative number of each class.\n",
    "# Some class imbalance is usually expected, but you'll need more points for rare classes\n",
    "# (or you may need to combine some of the water classes).\n",
    "\n",
    "# Notice for instance in results below how poorly ocean is discriminated.\n",
    "summary = training_data.LULC_class.value_counts()\n",
    "pd.DataFrame(summary.items())"
   ]
  },
  {
   "cell_type": "markdown",
   "id": "c816f4f3-04f1-4ba0-b60b-8bc39d0f28c1",
   "metadata": {},
   "source": [
    "#### Classes Cleanup and Alignment"
   ]
  },
  {
   "cell_type": "code",
   "execution_count": null,
   "id": "8891b28e-3a15-4fd9-82fd-68975367dbd0",
   "metadata": {
    "tags": []
   },
   "outputs": [],
   "source": [
    "#remove non-land classes (LULC_class)\n",
    "remove_list = ['Shallow_ocean', 'Coral_reef', 'Seagrass', 'Deep_ocean']\n",
    "for r in remove_list:\n",
    "    training_data = training_data[training_data[\"LULC_class\"] != r]\n",
    "\n",
    "summary = training_data.LULC_class.value_counts()\n",
    "pd.DataFrame(summary.items())"
   ]
  },
  {
   "cell_type": "markdown",
   "id": "89db4126-5f66-4e2f-8eda-5808ea48a786",
   "metadata": {},
   "source": [
    "#### Load Sentinel 2 Data (Annual Landcover Mosaic)"
   ]
  },
  {
   "cell_type": "code",
   "execution_count": null,
   "id": "14ec596e-a6ce-437f-a834-15569aca9589",
   "metadata": {
    "tags": []
   },
   "outputs": [],
   "source": [
    "aoi = dep.get_country_admin_boundary(\"Tonga\", \"Island Group\", \"Tongatapu\")\n",
    "training_image = dep.get_landcover_mosaic(aoi, year=\"2023\", resolution=10, coastal_clip=False)"
   ]
  },
  {
   "cell_type": "code",
   "execution_count": null,
   "id": "cc481732-b141-4a44-8c50-9b9688d9de63",
   "metadata": {
    "tags": []
   },
   "outputs": [],
   "source": [
    "d = add_image_values(training_data, training_image)"
   ]
  },
  {
   "cell_type": "markdown",
   "id": "ed5582ce-ba67-4baf-ad40-0e91e9b07fbc",
   "metadata": {},
   "source": [
    "#### Training the Model using a Classifier"
   ]
  },
  {
   "cell_type": "code",
   "execution_count": null,
   "id": "6fa69fca-3a85-43cd-ace3-daf14b132d56",
   "metadata": {
    "tags": []
   },
   "outputs": [],
   "source": [
    "from sklearn.ensemble import GradientBoostingClassifier, RandomForestClassifier, HistGradientBoostingClassifier\n",
    "from sklearn.model_selection import cross_val_score, cross_val_predict\n",
    "\n",
    "model = RandomForestClassifier(max_depth=4, class_weight=\"balanced\")\n",
    "#model = GradientBoostingClassifier()\n",
    "#model = HistGradientBoostingClassifier() #For coastal clipped mosaic\n",
    "\n",
    "# Convert the dataframe data to numpy arrays\n",
    "y = d.LULC_code.to_numpy()\n",
    "bands = [\"blue\", \"green\", \"red\", \"rededge\", \"nir\"]\n",
    "X = d.loc[:, bands].to_numpy()\n",
    "\n",
    "# A coarse way to assess model fit, this returns a list of loss metric values \n",
    "# (particular metric depends on classifier) for a 10-fold cross validation. \n",
    "# Alternatively you could split into train and test (and validation) sets, \n",
    "#but for this few number of points this may be the best approach.\n",
    "cv = cross_val_score(model, X, y, cv=10)\n",
    "cv.mean()"
   ]
  },
  {
   "cell_type": "markdown",
   "id": "fe3bd1b1-9c79-46ad-a1a5-45b677b27206",
   "metadata": {},
   "source": [
    "#### Classes Color Map"
   ]
  },
  {
   "cell_type": "code",
   "execution_count": null,
   "id": "5ff21415-9e1f-4a92-a894-669b75994ef7",
   "metadata": {
    "tags": []
   },
   "outputs": [],
   "source": [
    "# Lookup table for values <-> names, used in a couple of places elsewhere\n",
    "spc_lookup = pd.DataFrame([\n",
    "[1, 'Forest_land', '#064a00'],\n",
    "[2, 'Cropland', '#b67e00' ],\n",
    "[3, 'Grassland', '#d7ffa0'],\n",
    "[4, 'Wetland', '#73ffd2'],\n",
    "[5, 'Settlements', '#bd0007'],\n",
    "[6, 'Bare_land','#919191'],\n",
    "[7, 'Surface_water','#71a8ff'],\n",
    "[8, 'Shallow_ocean','#4a8ffc'],\n",
    "[9, 'Seagrass','#fc4aea'],\n",
    "[10, 'Coral_reef', '#8f0e82'],\n",
    "[11, 'Deep_ocean','#00299f'],\n",
    "[12, 'Shrubs', '#759f00'],\n",
    "[13, 'African_tulip', '#1e121a']], columns=['LULC_code', 'LULC_class', 'color']).set_index('LULC_code')\n",
    "\n",
    "\n",
    "# This is for making a color ramp (see below)\n",
    "# It's a list of colors indexed by the class values\n",
    "x = ['#ffffff'] * (max(spc_lookup.index) + 1)\n",
    "for i in spc_lookup.index:\n",
    "  x[i] = spc_lookup.loc[i,'color']\n",
    "\n",
    "#x"
   ]
  },
  {
   "cell_type": "markdown",
   "id": "16b228c2-2cd8-407f-8963-fff128ef0a8f",
   "metadata": {},
   "source": [
    "#### Accuracy Assessment"
   ]
  },
  {
   "cell_type": "code",
   "execution_count": null,
   "id": "b7f338dd-4fe0-440a-bab0-db4d904847a6",
   "metadata": {
    "tags": []
   },
   "outputs": [],
   "source": [
    "# Create predictions from the cv model to see how well they did.\n",
    "cv_predictions = cross_val_predict(model, X, y, cv=10)\n",
    "\n",
    "# Assess accuracy of the predictions versus label data. I do the lookup so the rows and columns have reasonable names\n",
    "y_class = spc_lookup.loc[y.astype('int')].LULC_class.values\n",
    "pred_y_class = spc_lookup.loc[cv_predictions.astype('int')].LULC_class.values\n",
    "pd.crosstab(y_class, pred_y_class)"
   ]
  },
  {
   "cell_type": "code",
   "execution_count": null,
   "id": "02381fa6-6d2f-401e-a5d5-bdcf41d04857",
   "metadata": {
    "tags": []
   },
   "outputs": [],
   "source": [
    "# Fit the model on the full data set\n",
    "s2_model = model.fit(X, y)"
   ]
  },
  {
   "cell_type": "markdown",
   "id": "6f0fe7c8-a2c3-42a9-a72a-133f2e7363eb",
   "metadata": {},
   "source": [
    "#### Raster predictions\n",
    "Predict classes on the entire image dataset, not just training points"
   ]
  },
  {
   "cell_type": "code",
   "execution_count": null,
   "id": "503e32fd-bd43-4c67-86e9-a1b9d25c824c",
   "metadata": {
    "tags": []
   },
   "outputs": [],
   "source": [
    "s2_predictions = get_model_prediction(s2_model, training_image).rio.clip(aoi.to_crs(training_image.rio.crs))\n",
    "\n",
    "# Save the image to disk\n",
    "s2_predictions.rio.to_raster('pred_s2_mosaic_v1.tif', driver='COG', overwrite=True)"
   ]
  },
  {
   "cell_type": "code",
   "execution_count": null,
   "id": "c4d44f40-346a-4376-893d-9cfc6de2f164",
   "metadata": {
    "tags": []
   },
   "outputs": [],
   "source": [
    "# Plot output as image\n",
    "%matplotlib inline\n",
    "\n",
    "from matplotlib.colors import ListedColormap\n",
    "import matplotlib.pyplot as plt\n",
    "import matplotlib.patches as mpatches\n",
    "\n",
    "plt.figure(figsize=(19.2, 14.3))\n",
    "cmap = ListedColormap(x)\n",
    "plot = plt.imshow(s2_predictions, cmap=cmap)\n",
    "\n",
    "# add legend\n",
    "legend_patches = [ mpatches.Patch(color=spc_lookup.loc[i].color, label=spc_lookup.loc[i].LULC_class) \n",
    "                  for i in spc_lookup.index \n",
    "                   if i in np.unique(s2_predictions)\n",
    "                 ]\n",
    "plt.legend(handles=legend_patches, bbox_to_anchor=(1.05, 1), loc=2, borderaxespad=0. )\n",
    "plt.grid(False)\n",
    "plt.show()"
   ]
  },
  {
   "cell_type": "markdown",
   "id": "b648ab04-9dd4-4d5d-a44f-a3c609d48606",
   "metadata": {
    "tags": []
   },
   "source": [
    "#### Interactive Landcover Output Display"
   ]
  },
  {
   "cell_type": "code",
   "execution_count": null,
   "id": "bab6b85a-d672-499b-a842-e6a92e9841e8",
   "metadata": {
    "tags": []
   },
   "outputs": [],
   "source": [
    "overlay = get_overlay(s2_predictions, cmap)\n",
    "center = [20,-180]\n",
    "zoom = 18\n",
    "m = Map(basemap=basemaps.Esri.WorldImagery, center=center, zoom=zoom, interpolation=\"nearest\", scroll_wheel_zoom=True)\n",
    "control = LayersControl(position='topright')\n",
    "m.add_control(control)\n",
    "m.add(overlay)\n",
    "m.layout.width = '80%'\n",
    "m.layout.height = '500px'\n",
    "m.fit_bounds(overlay.bounds)\n",
    "m"
   ]
  },
  {
   "cell_type": "code",
   "execution_count": null,
   "id": "c1ebbb5b-69dc-4621-8f53-5a98dd7de89e",
   "metadata": {},
   "outputs": [],
   "source": [
    "dep.cleanup()"
   ]
  }
 ],
 "metadata": {
  "kernelspec": {
   "display_name": "Python 3 (ipykernel)",
   "language": "python",
   "name": "python3"
  },
  "language_info": {
   "codemirror_mode": {
    "name": "ipython",
    "version": 3
   },
   "file_extension": ".py",
   "mimetype": "text/x-python",
   "name": "python",
   "nbconvert_exporter": "python",
   "pygments_lexer": "ipython3",
   "version": "3.11.4"
  }
 },
 "nbformat": 4,
 "nbformat_minor": 5
}
